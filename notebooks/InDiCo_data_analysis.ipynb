{
  "cells": [
    {
      "cell_type": "markdown",
      "metadata": {
        "id": "iuKJozjS9gkd"
      },
      "source": [
        "#Analysis InDiCo dataset"
      ]
    },
    {
      "cell_type": "code",
      "execution_count": 1,
      "metadata": {
        "colab": {
          "base_uri": "https://localhost:8080/"
        },
        "id": "i9nWKB-l9dQA",
        "outputId": "59416d42-eb36-4dc4-cc17-28176a595543"
      },
      "outputs": [
        {
          "output_type": "stream",
          "name": "stdout",
          "text": [
            "Mounted at /content/drive\n"
          ]
        }
      ],
      "source": [
        "from google.colab import drive\n",
        "drive.mount('/content/drive')"
      ]
    },
    {
      "cell_type": "code",
      "execution_count": 2,
      "metadata": {
        "colab": {
          "base_uri": "https://localhost:8080/"
        },
        "id": "bvF7XFvk9lbw",
        "outputId": "dec54356-b5dd-47a3-f8d0-1ced3729016d"
      },
      "outputs": [
        {
          "output_type": "stream",
          "name": "stdout",
          "text": [
            "analyse_uzh_data.ipynb\t     new_data\n",
            "analysis_uzh_data_new.ipynb  optimize_et_clean.ipynb\n",
            "compare_merged_dfs.ipynb     Optimize_spr_clean.ipynb\n",
            "data_uzh.csv\t\t     reading_measures.ipynb\n",
            "fixations_df_cleaned.csv     spr_only.csv\n",
            "lexical_features.csv\t     spr_s1.csv\n",
            "lexical_features_fixed.csv   spr_s2.csv\n",
            "merged_data\n"
          ]
        }
      ],
      "source": [
        "!ls \"/content/drive/My Drive/_Masterarbeit/uzh_data/\""
      ]
    },
    {
      "cell_type": "code",
      "execution_count": 3,
      "metadata": {
        "id": "Cm3ljRSI9luC"
      },
      "outputs": [],
      "source": [
        "path = \"/content/drive/My Drive/_Masterarbeit/uzh_data/new_data/\"\n",
        "filename = \"indico_labels.csv\""
      ]
    },
    {
      "cell_type": "code",
      "execution_count": 4,
      "metadata": {
        "id": "Xd-8aB0m9lrk"
      },
      "outputs": [],
      "source": [
        "import os\n",
        "import pandas as pd"
      ]
    },
    {
      "cell_type": "code",
      "execution_count": 5,
      "metadata": {
        "colab": {
          "base_uri": "https://localhost:8080/",
          "height": 34
        },
        "id": "XZr2dYGq_mvT",
        "outputId": "f017bdf5-bd55-44a5-b93f-2ea5ebf8ec9f"
      },
      "outputs": [
        {
          "output_type": "execute_result",
          "data": {
            "text/plain": [
              "'/content/drive/My Drive/_Masterarbeit/uzh_data/new_data/indico_labels.csv'"
            ],
            "application/vnd.google.colaboratory.intrinsic+json": {
              "type": "string"
            }
          },
          "metadata": {},
          "execution_count": 5
        }
      ],
      "source": [
        "os.path.join(path, filename)"
      ]
    },
    {
      "cell_type": "code",
      "execution_count": 6,
      "metadata": {
        "id": "vNm4Rerz9lgJ"
      },
      "outputs": [],
      "source": [
        "# Keeping pandas from truncating long strings\n",
        "#pd.set_option('display.max_colwidth', -1)\n",
        "pd.set_option('max_colwidth', None)\n",
        "df = pd.read_csv(os.path.join(path, filename), sep='\\t')"
      ]
    },
    {
      "cell_type": "code",
      "execution_count": 7,
      "metadata": {
        "colab": {
          "base_uri": "https://localhost:8080/",
          "height": 201
        },
        "id": "kPL6EP8-Ba9I",
        "outputId": "8bb84dc2-874b-49e4-bee5-fdf5ad281b26"
      },
      "outputs": [
        {
          "output_type": "execute_result",
          "data": {
            "text/plain": [
              "   Unnamed: 0  subject_id  session_id  trial_id  text_id  num_questions  \\\n",
              "0           1           1           1         1       13             10   \n",
              "1           2           1           1         2       14             10   \n",
              "2           3           1           1         3        4             10   \n",
              "3           0           1           1         4        3             10   \n",
              "4           4           1           4         1       11             10   \n",
              "\n",
              "   n_correct_answers  percentage_correct  median_score_text  binary_score  \n",
              "0                  7                 0.7                  7             0  \n",
              "1                  6                 0.6                  7             0  \n",
              "2                  7                 0.7                  7             0  \n",
              "3                  8                 0.8                  8             0  \n",
              "4                  9                 0.9                  8             1  "
            ],
            "text/html": [
              "\n",
              "  <div id=\"df-896d897b-8a0a-4493-91d3-3ac68db38cba\">\n",
              "    <div class=\"colab-df-container\">\n",
              "      <div>\n",
              "<style scoped>\n",
              "    .dataframe tbody tr th:only-of-type {\n",
              "        vertical-align: middle;\n",
              "    }\n",
              "\n",
              "    .dataframe tbody tr th {\n",
              "        vertical-align: top;\n",
              "    }\n",
              "\n",
              "    .dataframe thead th {\n",
              "        text-align: right;\n",
              "    }\n",
              "</style>\n",
              "<table border=\"1\" class=\"dataframe\">\n",
              "  <thead>\n",
              "    <tr style=\"text-align: right;\">\n",
              "      <th></th>\n",
              "      <th>Unnamed: 0</th>\n",
              "      <th>subject_id</th>\n",
              "      <th>session_id</th>\n",
              "      <th>trial_id</th>\n",
              "      <th>text_id</th>\n",
              "      <th>num_questions</th>\n",
              "      <th>n_correct_answers</th>\n",
              "      <th>percentage_correct</th>\n",
              "      <th>median_score_text</th>\n",
              "      <th>binary_score</th>\n",
              "    </tr>\n",
              "  </thead>\n",
              "  <tbody>\n",
              "    <tr>\n",
              "      <th>0</th>\n",
              "      <td>1</td>\n",
              "      <td>1</td>\n",
              "      <td>1</td>\n",
              "      <td>1</td>\n",
              "      <td>13</td>\n",
              "      <td>10</td>\n",
              "      <td>7</td>\n",
              "      <td>0.7</td>\n",
              "      <td>7</td>\n",
              "      <td>0</td>\n",
              "    </tr>\n",
              "    <tr>\n",
              "      <th>1</th>\n",
              "      <td>2</td>\n",
              "      <td>1</td>\n",
              "      <td>1</td>\n",
              "      <td>2</td>\n",
              "      <td>14</td>\n",
              "      <td>10</td>\n",
              "      <td>6</td>\n",
              "      <td>0.6</td>\n",
              "      <td>7</td>\n",
              "      <td>0</td>\n",
              "    </tr>\n",
              "    <tr>\n",
              "      <th>2</th>\n",
              "      <td>3</td>\n",
              "      <td>1</td>\n",
              "      <td>1</td>\n",
              "      <td>3</td>\n",
              "      <td>4</td>\n",
              "      <td>10</td>\n",
              "      <td>7</td>\n",
              "      <td>0.7</td>\n",
              "      <td>7</td>\n",
              "      <td>0</td>\n",
              "    </tr>\n",
              "    <tr>\n",
              "      <th>3</th>\n",
              "      <td>0</td>\n",
              "      <td>1</td>\n",
              "      <td>1</td>\n",
              "      <td>4</td>\n",
              "      <td>3</td>\n",
              "      <td>10</td>\n",
              "      <td>8</td>\n",
              "      <td>0.8</td>\n",
              "      <td>8</td>\n",
              "      <td>0</td>\n",
              "    </tr>\n",
              "    <tr>\n",
              "      <th>4</th>\n",
              "      <td>4</td>\n",
              "      <td>1</td>\n",
              "      <td>4</td>\n",
              "      <td>1</td>\n",
              "      <td>11</td>\n",
              "      <td>10</td>\n",
              "      <td>9</td>\n",
              "      <td>0.9</td>\n",
              "      <td>8</td>\n",
              "      <td>1</td>\n",
              "    </tr>\n",
              "  </tbody>\n",
              "</table>\n",
              "</div>\n",
              "      <button class=\"colab-df-convert\" onclick=\"convertToInteractive('df-896d897b-8a0a-4493-91d3-3ac68db38cba')\"\n",
              "              title=\"Convert this dataframe to an interactive table.\"\n",
              "              style=\"display:none;\">\n",
              "        \n",
              "  <svg xmlns=\"http://www.w3.org/2000/svg\" height=\"24px\"viewBox=\"0 0 24 24\"\n",
              "       width=\"24px\">\n",
              "    <path d=\"M0 0h24v24H0V0z\" fill=\"none\"/>\n",
              "    <path d=\"M18.56 5.44l.94 2.06.94-2.06 2.06-.94-2.06-.94-.94-2.06-.94 2.06-2.06.94zm-11 1L8.5 8.5l.94-2.06 2.06-.94-2.06-.94L8.5 2.5l-.94 2.06-2.06.94zm10 10l.94 2.06.94-2.06 2.06-.94-2.06-.94-.94-2.06-.94 2.06-2.06.94z\"/><path d=\"M17.41 7.96l-1.37-1.37c-.4-.4-.92-.59-1.43-.59-.52 0-1.04.2-1.43.59L10.3 9.45l-7.72 7.72c-.78.78-.78 2.05 0 2.83L4 21.41c.39.39.9.59 1.41.59.51 0 1.02-.2 1.41-.59l7.78-7.78 2.81-2.81c.8-.78.8-2.07 0-2.86zM5.41 20L4 18.59l7.72-7.72 1.47 1.35L5.41 20z\"/>\n",
              "  </svg>\n",
              "      </button>\n",
              "      \n",
              "  <style>\n",
              "    .colab-df-container {\n",
              "      display:flex;\n",
              "      flex-wrap:wrap;\n",
              "      gap: 12px;\n",
              "    }\n",
              "\n",
              "    .colab-df-convert {\n",
              "      background-color: #E8F0FE;\n",
              "      border: none;\n",
              "      border-radius: 50%;\n",
              "      cursor: pointer;\n",
              "      display: none;\n",
              "      fill: #1967D2;\n",
              "      height: 32px;\n",
              "      padding: 0 0 0 0;\n",
              "      width: 32px;\n",
              "    }\n",
              "\n",
              "    .colab-df-convert:hover {\n",
              "      background-color: #E2EBFA;\n",
              "      box-shadow: 0px 1px 2px rgba(60, 64, 67, 0.3), 0px 1px 3px 1px rgba(60, 64, 67, 0.15);\n",
              "      fill: #174EA6;\n",
              "    }\n",
              "\n",
              "    [theme=dark] .colab-df-convert {\n",
              "      background-color: #3B4455;\n",
              "      fill: #D2E3FC;\n",
              "    }\n",
              "\n",
              "    [theme=dark] .colab-df-convert:hover {\n",
              "      background-color: #434B5C;\n",
              "      box-shadow: 0px 1px 3px 1px rgba(0, 0, 0, 0.15);\n",
              "      filter: drop-shadow(0px 1px 2px rgba(0, 0, 0, 0.3));\n",
              "      fill: #FFFFFF;\n",
              "    }\n",
              "  </style>\n",
              "\n",
              "      <script>\n",
              "        const buttonEl =\n",
              "          document.querySelector('#df-896d897b-8a0a-4493-91d3-3ac68db38cba button.colab-df-convert');\n",
              "        buttonEl.style.display =\n",
              "          google.colab.kernel.accessAllowed ? 'block' : 'none';\n",
              "\n",
              "        async function convertToInteractive(key) {\n",
              "          const element = document.querySelector('#df-896d897b-8a0a-4493-91d3-3ac68db38cba');\n",
              "          const dataTable =\n",
              "            await google.colab.kernel.invokeFunction('convertToInteractive',\n",
              "                                                     [key], {});\n",
              "          if (!dataTable) return;\n",
              "\n",
              "          const docLinkHtml = 'Like what you see? Visit the ' +\n",
              "            '<a target=\"_blank\" href=https://colab.research.google.com/notebooks/data_table.ipynb>data table notebook</a>'\n",
              "            + ' to learn more about interactive tables.';\n",
              "          element.innerHTML = '';\n",
              "          dataTable['output_type'] = 'display_data';\n",
              "          await google.colab.output.renderOutput(dataTable, element);\n",
              "          const docLink = document.createElement('div');\n",
              "          docLink.innerHTML = docLinkHtml;\n",
              "          element.appendChild(docLink);\n",
              "        }\n",
              "      </script>\n",
              "    </div>\n",
              "  </div>\n",
              "  "
            ]
          },
          "metadata": {},
          "execution_count": 7
        }
      ],
      "source": [
        "df.head()"
      ]
    },
    {
      "cell_type": "code",
      "execution_count": 9,
      "metadata": {
        "colab": {
          "base_uri": "https://localhost:8080/"
        },
        "id": "AdsiWEyOBxkh",
        "outputId": "3812c6b1-6ce2-4060-9e06-c4c689eda9a7"
      },
      "outputs": [
        {
          "output_type": "execute_result",
          "data": {
            "text/plain": [
              "(434, 10)"
            ]
          },
          "metadata": {},
          "execution_count": 9
        }
      ],
      "source": [
        "#number of columns\n",
        "df.shape"
      ]
    },
    {
      "cell_type": "markdown",
      "source": [
        "# How many texts did the subjects read?"
      ],
      "metadata": {
        "id": "tFHqObarpP1H"
      }
    },
    {
      "cell_type": "code",
      "source": [
        "# number of texts per subject\n",
        "import pandas as pd\n",
        "\n",
        "subject_counts = df.groupby('subject_id')['text_id'].nunique()\n",
        "\n",
        "text_counts = subject_counts.value_counts()\n",
        "\n",
        "# Print the result\n",
        "print(\"Number of subjects who read 4 texts:\", text_counts.get(4, 0))\n",
        "print(\"Number of subjects who read 8 texts:\", text_counts.get(8, 0))\n",
        "print(\"Number of subjects who read a different number of texts:\", len(subject_counts) - text_counts.sum())\n"
      ],
      "metadata": {
        "colab": {
          "base_uri": "https://localhost:8080/"
        },
        "id": "tYeB4p6rh30n",
        "outputId": "0e92ca55-fe84-4d2a-d6de-5342645f3123"
      },
      "execution_count": 25,
      "outputs": [
        {
          "output_type": "stream",
          "name": "stdout",
          "text": [
            "Number of subjects who read 4 texts: 6\n",
            "Number of subjects who read 8 texts: 51\n",
            "Number of subjects who read a different number of texts: 0\n"
          ]
        }
      ]
    },
    {
      "cell_type": "code",
      "source": [
        "# who only read 4 texts?\n",
        "subject_counts = df.groupby('subject_id')['text_id'].nunique()\n",
        "\n",
        "# Filter subjects with a count of 4 texts\n",
        "subjects_with_4_texts = subject_counts[subject_counts == 4]\n",
        "\n",
        "# Print the IDs of subjects who only read 4 texts\n",
        "print(\"Subjects who read 4 texts:\")\n",
        "for subject_id in subjects_with_4_texts.index:\n",
        "    print(subject_id)"
      ],
      "metadata": {
        "colab": {
          "base_uri": "https://localhost:8080/"
        },
        "id": "lAGnhBo5mpZR",
        "outputId": "000ad201-192c-4ae1-f25a-9650508ee366"
      },
      "execution_count": 27,
      "outputs": [
        {
          "output_type": "stream",
          "name": "stdout",
          "text": [
            "Subjects who read 4 texts:\n",
            "9\n",
            "15\n",
            "17\n",
            "24\n",
            "48\n",
            "51\n"
          ]
        }
      ]
    },
    {
      "cell_type": "markdown",
      "source": [
        "# How many subjects did my study include?"
      ],
      "metadata": {
        "id": "ijbdfa4_pWZ2"
      }
    },
    {
      "cell_type": "code",
      "source": [
        "# subjects i blacklisted in preprocess fixations (see)\n",
        "BLACKLIST = [2, 3, 31, 38, 43, 46, 59, 60, 1, 9, 13, 15, 17, 24, 39, 40, 44, 45, 48, 51, 52, 62, 63, 64]\n",
        "print(\"Number blacklisted: \", len(BLACKLIST))"
      ],
      "metadata": {
        "colab": {
          "base_uri": "https://localhost:8080/"
        },
        "id": "80hHqESCnU4i",
        "outputId": "669ecdfd-f2bb-43e1-a823-40fd4c1bf6c0"
      },
      "execution_count": 32,
      "outputs": [
        {
          "output_type": "stream",
          "name": "stdout",
          "text": [
            "Number blacklisted:  24\n"
          ]
        }
      ]
    },
    {
      "cell_type": "code",
      "source": [
        "# subjects in the dataset\n",
        "all_subjects = df['subject_id'].unique().tolist()\n",
        "not_excluded = [x for x in all_subjects if x not in BLACKLIST]\n",
        "print(len(all_subjects), \" participants were initially in the dataset.\")\n",
        "print(len(BLACKLIST), \" participants were excluded due to the data quality or because they only read 4 texts instead of 8.\")\n",
        "print(len(not_excluded), \" participants were not excluded\")\n",
        "print(not_excluded)"
      ],
      "metadata": {
        "colab": {
          "base_uri": "https://localhost:8080/"
        },
        "id": "8CKvnb0MpgRS",
        "outputId": "8ccc8471-fe52-4861-a15e-05c619412764"
      },
      "execution_count": 39,
      "outputs": [
        {
          "output_type": "stream",
          "name": "stdout",
          "text": [
            "59  participants were initially in the dataset.\n",
            "24  participants were excluded due to the data quality or because they only read 4 texts instead of 8.\n",
            "42  participants were not excluded\n",
            "[4, 5, 6, 7, 8, 10, 11, 12, 14, 16, 18, 19, 20, 21, 22, 23, 25, 26, 27, 28, 29, 30, 32, 33, 34, 35, 36, 37, 41, 42, 47, 49, 50, 53, 54, 55, 56, 57, 58, 61, 65, 222]\n"
          ]
        }
      ]
    },
    {
      "cell_type": "markdown",
      "source": [
        "I blacklisted subjects with bad quality \n",
        "(bad quality: 2, 3, 31, 38, 43, 46, 59, 60)\n",
        "and subjects who only participated in one session. "
      ],
      "metadata": {
        "id": "ZAFMBc5fnigX"
      }
    },
    {
      "cell_type": "markdown",
      "source": [
        "# Distribution of texts across subjects"
      ],
      "metadata": {
        "id": "mOGXGFbvpIm6"
      }
    },
    {
      "cell_type": "code",
      "execution_count": 20,
      "metadata": {
        "colab": {
          "base_uri": "https://localhost:8080/"
        },
        "id": "w24-afJGIdW8",
        "outputId": "3c32ef8e-b4f7-46a1-a043-08ae8cab43bd"
      },
      "outputs": [
        {
          "output_type": "execute_result",
          "data": {
            "text/plain": [
              "5     31\n",
              "6     31\n",
              "11    30\n",
              "12    28\n",
              "8     28\n",
              "7     28\n",
              "9     27\n",
              "10    27\n",
              "2     26\n",
              "1     26\n",
              "16    26\n",
              "15    26\n",
              "13    25\n",
              "14    25\n",
              "4     25\n",
              "3     25\n",
              "Name: text_id, dtype: int64"
            ]
          },
          "metadata": {},
          "execution_count": 20
        }
      ],
      "source": [
        "# number of subjects who read a given text \n",
        "text_counts = df['text_id'].value_counts()\n",
        "text_counts"
      ]
    },
    {
      "cell_type": "code",
      "source": [
        "import pandas as pd\n",
        "import matplotlib.pyplot as plt\n",
        "\n",
        "# Assuming your DataFrame is called 'df'\n",
        "# Count the number of subjects for each unique text\n",
        "text_counts = df['text_id'].value_counts()\n",
        "\n",
        "# Create a bar plot of the text counts\n",
        "plt.bar(text_counts.index, text_counts.values)\n",
        "plt.xlabel('Text')\n",
        "plt.ylabel('Number of Subjects')\n",
        "plt.title('Number of Subjects per Text')\n",
        "\n",
        "# Customize x-tick labels\n",
        "plt.xticks(range(1, len(text_counts) + 1), range(1, len(text_counts) + 1))\n",
        "\n",
        "# Display the plot\n",
        "plt.show()"
      ],
      "metadata": {
        "colab": {
          "base_uri": "https://localhost:8080/",
          "height": 471
        },
        "id": "LpB1rOqohmZD",
        "outputId": "8b472344-b1f9-4ab0-ff48-6e6c42358e5f"
      },
      "execution_count": 23,
      "outputs": [
        {
          "output_type": "display_data",
          "data": {
            "text/plain": [
              "<Figure size 640x480 with 1 Axes>"
            ],
            "image/png": "[encoded data removed]"
          },
          "metadata": {}
        }
      ]
    },
    {
      "cell_type": "markdown",
      "source": [
        "# Distribution of correctly answered questions\n"
      ],
      "metadata": {
        "id": "0tEQFzDcore5"
      }
    },
    {
      "cell_type": "code",
      "source": [
        "import pandas as pd\n",
        "import matplotlib.pyplot as plt\n",
        "\n",
        "grouped_data = df.groupby('text_id')['n_correct_answers']\n",
        "\n",
        "data = [group.values for _, group in grouped_data]\n",
        "fig, ax = plt.subplots(figsize=(10, 6))\n",
        "ax.boxplot(data)\n",
        "ax.set_xticklabels(grouped_data.groups.keys())\n",
        "ax.set_xticks(range(1, len(grouped_data) + 1))\n",
        "ax.set_ylabel('Number of correctly answered questions')\n",
        "fig.suptitle('Distribution of Correct Answers by Text ID')\n",
        "\n",
        "plt.show()\n"
      ],
      "metadata": {
        "colab": {
          "base_uri": "https://localhost:8080/",
          "height": 581
        },
        "id": "goU1ZLeoovOD",
        "outputId": "c97535be-4c94-4c4e-c223-7abdea52629c"
      },
      "execution_count": 31,
      "outputs": [
        {
          "output_type": "display_data",
          "data": {
            "text/plain": [
              "<Figure size 1000x600 with 1 Axes>"
            ],
            "image/png": "[encoded data removed]"
          },
          "metadata": {}
        }
      ]
    }
  ],
  "metadata": {
    "colab": {
      "provenance": []
    },
    "kernelspec": {
      "display_name": "Python 3",
      "name": "python3"
    },
    "language_info": {
      "name": "python"
    }
  },
  "nbformat": 4,
  "nbformat_minor": 0
}