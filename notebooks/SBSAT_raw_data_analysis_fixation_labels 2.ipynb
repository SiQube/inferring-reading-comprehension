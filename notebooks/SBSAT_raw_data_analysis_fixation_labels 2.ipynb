{
  "nbformat": 4,
  "nbformat_minor": 0,
  "metadata": {
    "colab": {
      "provenance": []
    },
    "kernelspec": {
      "name": "python3",
      "display_name": "Python 3"
    },
    "language_info": {
      "name": "python"
    }
  },
  "cells": [
    {
      "cell_type": "markdown",
      "source": [
        "#SB-SAT fixation data analysis \n",
        "Source: https://github.com/ahnchive/SB-SAT/ <br>\n",
        "The GitHub repository contains the following folders: fixations, model, stimuli. In this notebook, I'm doing some data exploration on the 3 files in the \"fixations\" folder: \n",
        "- 18sat_fixfinal.csv\n",
        "- 18sat_labels.csv\n",
        "- 18sat_trialfinal.csv\n",
        "\n",
        "In this notebook, there is analysis on the first two csv files: \n",
        "- Fixation data\n",
        "- Self-assessment questionnaire\n",
        "- Comprehension scores\n",
        "- Information on subjects\n",
        "\n",
        "\n",
        "Other analysis cited in the thesis (text length etc. and annotated text) can be found in SBSAT_annotated_texts_analysis.ipynb. "
      ],
      "metadata": {
        "id": "39Sq936-j8Ac"
      }
    },
    {
      "cell_type": "markdown",
      "source": [
        "Some basic analysis of the stimuli to get an idea of possible features.\n",
        "\n",
        "## 0. Load data"
      ],
      "metadata": {
        "id": "SMxrfYDWPs2Z"
      }
    },
    {
      "cell_type": "code",
      "source": [
        "import os\n",
        "import pandas as pd\n",
        "import matplotlib.pyplot as plt"
      ],
      "metadata": {
        "id": "PuCEQ_sVL47o"
      },
      "execution_count": null,
      "outputs": []
    },
    {
      "cell_type": "code",
      "execution_count": null,
      "metadata": {
        "id": "5crXIqhEj7Qa",
        "colab": {
          "base_uri": "https://localhost:8080/"
        },
        "outputId": "123b6733-bd86-4730-c062-1ab25a4ccb21"
      },
      "outputs": [
        {
          "output_type": "stream",
          "name": "stdout",
          "text": [
            "Mounted at /content/drive\n"
          ]
        }
      ],
      "source": [
        "from google.colab import drive\n",
        "drive.mount('/content/drive')"
      ]
    },
    {
      "cell_type": "code",
      "source": [
        "path_labels = \"/content/drive/MyDrive/_Masterarbeit/SBSAT_Data/SB-SAT-master/fixation/18sat_labels.csv\"\n",
        "path_fixations = \"/content/drive/MyDrive/_Masterarbeit/SBSAT_Data/SB-SAT-master/fixation/18sat_fixfinal.csv\""
      ],
      "metadata": {
        "id": "s3iT8JnOKF6s"
      },
      "execution_count": null,
      "outputs": []
    },
    {
      "cell_type": "markdown",
      "source": [
        "## preliminary functions:\n"
      ],
      "metadata": {
        "id": "kKCStyEDL22G"
      }
    },
    {
      "cell_type": "code",
      "source": [
        "def get_columns(df):\n",
        "  \"\"\"Function to get all column labels of a pd dataframe.\"\"\"\n",
        "  column_names = list(df.columns.values)\n",
        "  data_types = list(df.dtypes)\n",
        "\n",
        "  columns = []\n",
        "  i = 1\n",
        "  for column, dtype in zip(column_names, data_types): \n",
        "    columns.append(''.join([\"Column \", str(i),\":\\t\", column, \"\\t(\",str(dtype),\")\"]))\n",
        "    i+=1\n",
        "    \n",
        "  return columns"
      ],
      "metadata": {
        "id": "TxSGRKdDNi0X"
      },
      "execution_count": null,
      "outputs": []
    },
    {
      "cell_type": "markdown",
      "source": [
        "## 1. Fixations Dataframe\n",
        "\"18sat_fixfinal.csv\""
      ],
      "metadata": {
        "id": "vR-g7dN7NeeR"
      }
    },
    {
      "cell_type": "code",
      "source": [
        "df_fix = pd.read_csv(path_fixations, sep=',')"
      ],
      "metadata": {
        "id": "6qFcbZcRwfma"
      },
      "execution_count": null,
      "outputs": []
    },
    {
      "cell_type": "code",
      "source": [
        "df_fix.head(10)"
      ],
      "metadata": {
        "colab": {
          "base_uri": "https://localhost:8080/",
          "height": 610
        },
        "id": "lpw1ATkrMacX",
        "outputId": "b31c3514-8f3e-457a-ed98-802450ab643c"
      },
      "execution_count": null,
      "outputs": [
        {
          "output_type": "execute_result",
          "data": {
            "text/plain": [
              "  RECORDING_SESSION_LABEL  TRIAL_INDEX  CURRENT_FIX_X  CURRENT_FIX_Y  \\\n",
              "0                  msd001            1           59.8          125.4   \n",
              "1                  msd001            1          348.7          182.0   \n",
              "2                  msd001            1          630.5          400.3   \n",
              "3                  msd001            1          492.0          400.2   \n",
              "4                  msd001            1          526.6          390.5   \n",
              "5                  msd001            1          545.8          397.9   \n",
              "6                  msd001            1          525.7          181.8   \n",
              "7                  msd001            1          831.0           55.6   \n",
              "8                  msd001            1          167.3          124.8   \n",
              "9                  msd001            1          270.9          111.3   \n",
              "\n",
              "   CURRENT_FIX_PUPIL  CURRENT_FIX_DURATION  CURRENT_FIX_INTEREST_AREA_ID  \\\n",
              "0             1430.0                    22                           NaN   \n",
              "1             1375.0                    26                          24.0   \n",
              "2             1365.0                   216                          72.0   \n",
              "3             1440.0                   125                          69.0   \n",
              "4             1265.0                   486                          70.0   \n",
              "5             1157.0                   371                          70.0   \n",
              "6             1089.0                   158                          27.0   \n",
              "7             1025.0                   139                           NaN   \n",
              "8             1348.0                   194                           4.0   \n",
              "9             1382.0                   210                           6.0   \n",
              "\n",
              "  CURRENT_FIX_INTEREST_AREA_LABEL  CURRENT_FIX_INTEREST_AREA_PIXEL_AREA  \\\n",
              "0                             NaN                                   NaN   \n",
              "1                            long                                3520.0   \n",
              "2                            safe                                3136.0   \n",
              "3                       boundless                                7488.0   \n",
              "4                          world,                                4992.0   \n",
              "5                          world,                                4992.0   \n",
              "6                           other                                4096.0   \n",
              "7                             NaN                                   NaN   \n",
              "8                            Even                                6512.0   \n",
              "9                              my                                2960.0   \n",
              "\n",
              "   CURRENT_FIX_INTEREST_AREA_RUN_ID  ...  Trial_Recycled_ total_page     type  \\\n",
              "0                               NaN  ...             True          5  reading   \n",
              "1                               1.0  ...             True          5  reading   \n",
              "2                               1.0  ...             True          5  reading   \n",
              "3                               1.0  ...             True          5  reading   \n",
              "4                               1.0  ...             True          5  reading   \n",
              "5                               1.0  ...             True          5  reading   \n",
              "6                               1.0  ...             True          5  reading   \n",
              "7                               NaN  ...             True          5  reading   \n",
              "8                               1.0  ...             True          5  reading   \n",
              "9                               1.0  ...             True          5  reading   \n",
              "\n",
              "   book_name  book page            RT answer  correct_answer  \\\n",
              "0    dickens     1    1  25094.538413      1             -99   \n",
              "1    dickens     1    1  25094.538413      1             -99   \n",
              "2    dickens     1    1  25094.538413      1             -99   \n",
              "3    dickens     1    1  25094.538413      1             -99   \n",
              "4    dickens     1    1  25094.538413      1             -99   \n",
              "5    dickens     1    1  25094.538413      1             -99   \n",
              "6    dickens     1    1  25094.538413      1             -99   \n",
              "7    dickens     1    1  25094.538413      1             -99   \n",
              "8    dickens     1    1  25094.538413      1             -99   \n",
              "9    dickens     1    1  25094.538413      1             -99   \n",
              "\n",
              "           page_name  \n",
              "0  reading-dickens-1  \n",
              "1  reading-dickens-1  \n",
              "2  reading-dickens-1  \n",
              "3  reading-dickens-1  \n",
              "4  reading-dickens-1  \n",
              "5  reading-dickens-1  \n",
              "6  reading-dickens-1  \n",
              "7  reading-dickens-1  \n",
              "8  reading-dickens-1  \n",
              "9  reading-dickens-1  \n",
              "\n",
              "[10 rows x 29 columns]"
            ],
            "text/html": [
              "\n",
              "  <div id=\"df-371c25aa-cf9f-4e2f-bf1d-830ce30d76bf\">\n",
              "    <div class=\"colab-df-container\">\n",
              "      <div>\n",
              "<style scoped>\n",
              "    .dataframe tbody tr th:only-of-type {\n",
              "        vertical-align: middle;\n",
              "    }\n",
              "\n",
              "    .dataframe tbody tr th {\n",
              "        vertical-align: top;\n",
              "    }\n",
              "\n",
              "    .dataframe thead th {\n",
              "        text-align: right;\n",
              "    }\n",
              "</style>\n",
              "<table border=\"1\" class=\"dataframe\">\n",
              "  <thead>\n",
              "    <tr style=\"text-align: right;\">\n",
              "      <th></th>\n",
              "      <th>RECORDING_SESSION_LABEL</th>\n",
              "      <th>TRIAL_INDEX</th>\n",
              "      <th>CURRENT_FIX_X</th>\n",
              "      <th>CURRENT_FIX_Y</th>\n",
              "      <th>CURRENT_FIX_PUPIL</th>\n",
              "      <th>CURRENT_FIX_DURATION</th>\n",
              "      <th>CURRENT_FIX_INTEREST_AREA_ID</th>\n",
              "      <th>CURRENT_FIX_INTEREST_AREA_LABEL</th>\n",
              "      <th>CURRENT_FIX_INTEREST_AREA_PIXEL_AREA</th>\n",
              "      <th>CURRENT_FIX_INTEREST_AREA_RUN_ID</th>\n",
              "      <th>...</th>\n",
              "      <th>Trial_Recycled_</th>\n",
              "      <th>total_page</th>\n",
              "      <th>type</th>\n",
              "      <th>book_name</th>\n",
              "      <th>book</th>\n",
              "      <th>page</th>\n",
              "      <th>RT</th>\n",
              "      <th>answer</th>\n",
              "      <th>correct_answer</th>\n",
              "      <th>page_name</th>\n",
              "    </tr>\n",
              "  </thead>\n",
              "  <tbody>\n",
              "    <tr>\n",
              "      <th>0</th>\n",
              "      <td>msd001</td>\n",
              "      <td>1</td>\n",
              "      <td>59.8</td>\n",
              "      <td>125.4</td>\n",
              "      <td>1430.0</td>\n",
              "      <td>22</td>\n",
              "      <td>NaN</td>\n",
              "      <td>NaN</td>\n",
              "      <td>NaN</td>\n",
              "      <td>NaN</td>\n",
              "      <td>...</td>\n",
              "      <td>True</td>\n",
              "      <td>5</td>\n",
              "      <td>reading</td>\n",
              "      <td>dickens</td>\n",
              "      <td>1</td>\n",
              "      <td>1</td>\n",
              "      <td>25094.538413</td>\n",
              "      <td>1</td>\n",
              "      <td>-99</td>\n",
              "      <td>reading-dickens-1</td>\n",
              "    </tr>\n",
              "    <tr>\n",
              "      <th>1</th>\n",
              "      <td>msd001</td>\n",
              "      <td>1</td>\n",
              "      <td>348.7</td>\n",
              "      <td>182.0</td>\n",
              "      <td>1375.0</td>\n",
              "      <td>26</td>\n",
              "      <td>24.0</td>\n",
              "      <td>long</td>\n",
              "      <td>3520.0</td>\n",
              "      <td>1.0</td>\n",
              "      <td>...</td>\n",
              "      <td>True</td>\n",
              "      <td>5</td>\n",
              "      <td>reading</td>\n",
              "      <td>dickens</td>\n",
              "      <td>1</td>\n",
              "      <td>1</td>\n",
              "      <td>25094.538413</td>\n",
              "      <td>1</td>\n",
              "      <td>-99</td>\n",
              "      <td>reading-dickens-1</td>\n",
              "    </tr>\n",
              "    <tr>\n",
              "      <th>2</th>\n",
              "      <td>msd001</td>\n",
              "      <td>1</td>\n",
              "      <td>630.5</td>\n",
              "      <td>400.3</td>\n",
              "      <td>1365.0</td>\n",
              "      <td>216</td>\n",
              "      <td>72.0</td>\n",
              "      <td>safe</td>\n",
              "      <td>3136.0</td>\n",
              "      <td>1.0</td>\n",
              "      <td>...</td>\n",
              "      <td>True</td>\n",
              "      <td>5</td>\n",
              "      <td>reading</td>\n",
              "      <td>dickens</td>\n",
              "      <td>1</td>\n",
              "      <td>1</td>\n",
              "      <td>25094.538413</td>\n",
              "      <td>1</td>\n",
              "      <td>-99</td>\n",
              "      <td>reading-dickens-1</td>\n",
              "    </tr>\n",
              "    <tr>\n",
              "      <th>3</th>\n",
              "      <td>msd001</td>\n",
              "      <td>1</td>\n",
              "      <td>492.0</td>\n",
              "      <td>400.2</td>\n",
              "      <td>1440.0</td>\n",
              "      <td>125</td>\n",
              "      <td>69.0</td>\n",
              "      <td>boundless</td>\n",
              "      <td>7488.0</td>\n",
              "      <td>1.0</td>\n",
              "      <td>...</td>\n",
              "      <td>True</td>\n",
              "      <td>5</td>\n",
              "      <td>reading</td>\n",
              "      <td>dickens</td>\n",
              "      <td>1</td>\n",
              "      <td>1</td>\n",
              "      <td>25094.538413</td>\n",
              "      <td>1</td>\n",
              "      <td>-99</td>\n",
              "      <td>reading-dickens-1</td>\n",
              "    </tr>\n",
              "    <tr>\n",
              "      <th>4</th>\n",
              "      <td>msd001</td>\n",
              "      <td>1</td>\n",
              "      <td>526.6</td>\n",
              "      <td>390.5</td>\n",
              "      <td>1265.0</td>\n",
              "      <td>486</td>\n",
              "      <td>70.0</td>\n",
              "      <td>world,</td>\n",
              "      <td>4992.0</td>\n",
              "      <td>1.0</td>\n",
              "      <td>...</td>\n",
              "      <td>True</td>\n",
              "      <td>5</td>\n",
              "      <td>reading</td>\n",
              "      <td>dickens</td>\n",
              "      <td>1</td>\n",
              "      <td>1</td>\n",
              "      <td>25094.538413</td>\n",
              "      <td>1</td>\n",
              "      <td>-99</td>\n",
              "      <td>reading-dickens-1</td>\n",
              "    </tr>\n",
              "    <tr>\n",
              "      <th>5</th>\n",
              "      <td>msd001</td>\n",
              "      <td>1</td>\n",
              "      <td>545.8</td>\n",
              "      <td>397.9</td>\n",
              "      <td>1157.0</td>\n",
              "      <td>371</td>\n",
              "      <td>70.0</td>\n",
              "      <td>world,</td>\n",
              "      <td>4992.0</td>\n",
              "      <td>1.0</td>\n",
              "      <td>...</td>\n",
              "      <td>True</td>\n",
              "      <td>5</td>\n",
              "      <td>reading</td>\n",
              "      <td>dickens</td>\n",
              "      <td>1</td>\n",
              "      <td>1</td>\n",
              "      <td>25094.538413</td>\n",
              "      <td>1</td>\n",
              "      <td>-99</td>\n",
              "      <td>reading-dickens-1</td>\n",
              "    </tr>\n",
              "    <tr>\n",
              "      <th>6</th>\n",
              "      <td>msd001</td>\n",
              "      <td>1</td>\n",
              "      <td>525.7</td>\n",
              "      <td>181.8</td>\n",
              "      <td>1089.0</td>\n",
              "      <td>158</td>\n",
              "      <td>27.0</td>\n",
              "      <td>other</td>\n",
              "      <td>4096.0</td>\n",
              "      <td>1.0</td>\n",
              "      <td>...</td>\n",
              "      <td>True</td>\n",
              "      <td>5</td>\n",
              "      <td>reading</td>\n",
              "      <td>dickens</td>\n",
              "      <td>1</td>\n",
              "      <td>1</td>\n",
              "      <td>25094.538413</td>\n",
              "      <td>1</td>\n",
              "      <td>-99</td>\n",
              "      <td>reading-dickens-1</td>\n",
              "    </tr>\n",
              "    <tr>\n",
              "      <th>7</th>\n",
              "      <td>msd001</td>\n",
              "      <td>1</td>\n",
              "      <td>831.0</td>\n",
              "      <td>55.6</td>\n",
              "      <td>1025.0</td>\n",
              "      <td>139</td>\n",
              "      <td>NaN</td>\n",
              "      <td>NaN</td>\n",
              "      <td>NaN</td>\n",
              "      <td>NaN</td>\n",
              "      <td>...</td>\n",
              "      <td>True</td>\n",
              "      <td>5</td>\n",
              "      <td>reading</td>\n",
              "      <td>dickens</td>\n",
              "      <td>1</td>\n",
              "      <td>1</td>\n",
              "      <td>25094.538413</td>\n",
              "      <td>1</td>\n",
              "      <td>-99</td>\n",
              "      <td>reading-dickens-1</td>\n",
              "    </tr>\n",
              "    <tr>\n",
              "      <th>8</th>\n",
              "      <td>msd001</td>\n",
              "      <td>1</td>\n",
              "      <td>167.3</td>\n",
              "      <td>124.8</td>\n",
              "      <td>1348.0</td>\n",
              "      <td>194</td>\n",
              "      <td>4.0</td>\n",
              "      <td>Even</td>\n",
              "      <td>6512.0</td>\n",
              "      <td>1.0</td>\n",
              "      <td>...</td>\n",
              "      <td>True</td>\n",
              "      <td>5</td>\n",
              "      <td>reading</td>\n",
              "      <td>dickens</td>\n",
              "      <td>1</td>\n",
              "      <td>1</td>\n",
              "      <td>25094.538413</td>\n",
              "      <td>1</td>\n",
              "      <td>-99</td>\n",
              "      <td>reading-dickens-1</td>\n",
              "    </tr>\n",
              "    <tr>\n",
              "      <th>9</th>\n",
              "      <td>msd001</td>\n",
              "      <td>1</td>\n",
              "      <td>270.9</td>\n",
              "      <td>111.3</td>\n",
              "      <td>1382.0</td>\n",
              "      <td>210</td>\n",
              "      <td>6.0</td>\n",
              "      <td>my</td>\n",
              "      <td>2960.0</td>\n",
              "      <td>1.0</td>\n",
              "      <td>...</td>\n",
              "      <td>True</td>\n",
              "      <td>5</td>\n",
              "      <td>reading</td>\n",
              "      <td>dickens</td>\n",
              "      <td>1</td>\n",
              "      <td>1</td>\n",
              "      <td>25094.538413</td>\n",
              "      <td>1</td>\n",
              "      <td>-99</td>\n",
              "      <td>reading-dickens-1</td>\n",
              "    </tr>\n",
              "  </tbody>\n",
              "</table>\n",
              "<p>10 rows × 29 columns</p>\n",
              "</div>\n",
              "      <button class=\"colab-df-convert\" onclick=\"convertToInteractive('df-371c25aa-cf9f-4e2f-bf1d-830ce30d76bf')\"\n",
              "              title=\"Convert this dataframe to an interactive table.\"\n",
              "              style=\"display:none;\">\n",
              "        \n",
              "  <svg xmlns=\"http://www.w3.org/2000/svg\" height=\"24px\"viewBox=\"0 0 24 24\"\n",
              "       width=\"24px\">\n",
              "    <path d=\"M0 0h24v24H0V0z\" fill=\"none\"/>\n",
              "    <path d=\"M18.56 5.44l.94 2.06.94-2.06 2.06-.94-2.06-.94-.94-2.06-.94 2.06-2.06.94zm-11 1L8.5 8.5l.94-2.06 2.06-.94-2.06-.94L8.5 2.5l-.94 2.06-2.06.94zm10 10l.94 2.06.94-2.06 2.06-.94-2.06-.94-.94-2.06-.94 2.06-2.06.94z\"/><path d=\"M17.41 7.96l-1.37-1.37c-.4-.4-.92-.59-1.43-.59-.52 0-1.04.2-1.43.59L10.3 9.45l-7.72 7.72c-.78.78-.78 2.05 0 2.83L4 21.41c.39.39.9.59 1.41.59.51 0 1.02-.2 1.41-.59l7.78-7.78 2.81-2.81c.8-.78.8-2.07 0-2.86zM5.41 20L4 18.59l7.72-7.72 1.47 1.35L5.41 20z\"/>\n",
              "  </svg>\n",
              "      </button>\n",
              "      \n",
              "  <style>\n",
              "    .colab-df-container {\n",
              "      display:flex;\n",
              "      flex-wrap:wrap;\n",
              "      gap: 12px;\n",
              "    }\n",
              "\n",
              "    .colab-df-convert {\n",
              "      background-color: #E8F0FE;\n",
              "      border: none;\n",
              "      border-radius: 50%;\n",
              "      cursor: pointer;\n",
              "      display: none;\n",
              "      fill: #1967D2;\n",
              "      height: 32px;\n",
              "      padding: 0 0 0 0;\n",
              "      width: 32px;\n",
              "    }\n",
              "\n",
              "    .colab-df-convert:hover {\n",
              "      background-color: #E2EBFA;\n",
              "      box-shadow: 0px 1px 2px rgba(60, 64, 67, 0.3), 0px 1px 3px 1px rgba(60, 64, 67, 0.15);\n",
              "      fill: #174EA6;\n",
              "    }\n",
              "\n",
              "    [theme=dark] .colab-df-convert {\n",
              "      background-color: #3B4455;\n",
              "      fill: #D2E3FC;\n",
              "    }\n",
              "\n",
              "    [theme=dark] .colab-df-convert:hover {\n",
              "      background-color: #434B5C;\n",
              "      box-shadow: 0px 1px 3px 1px rgba(0, 0, 0, 0.15);\n",
              "      filter: drop-shadow(0px 1px 2px rgba(0, 0, 0, 0.3));\n",
              "      fill: #FFFFFF;\n",
              "    }\n",
              "  </style>\n",
              "\n",
              "      <script>\n",
              "        const buttonEl =\n",
              "          document.querySelector('#df-371c25aa-cf9f-4e2f-bf1d-830ce30d76bf button.colab-df-convert');\n",
              "        buttonEl.style.display =\n",
              "          google.colab.kernel.accessAllowed ? 'block' : 'none';\n",
              "\n",
              "        async function convertToInteractive(key) {\n",
              "          const element = document.querySelector('#df-371c25aa-cf9f-4e2f-bf1d-830ce30d76bf');\n",
              "          const dataTable =\n",
              "            await google.colab.kernel.invokeFunction('convertToInteractive',\n",
              "                                                     [key], {});\n",
              "          if (!dataTable) return;\n",
              "\n",
              "          const docLinkHtml = 'Like what you see? Visit the ' +\n",
              "            '<a target=\"_blank\" href=https://colab.research.google.com/notebooks/data_table.ipynb>data table notebook</a>'\n",
              "            + ' to learn more about interactive tables.';\n",
              "          element.innerHTML = '';\n",
              "          dataTable['output_type'] = 'display_data';\n",
              "          await google.colab.output.renderOutput(dataTable, element);\n",
              "          const docLink = document.createElement('div');\n",
              "          docLink.innerHTML = docLinkHtml;\n",
              "          element.appendChild(docLink);\n",
              "        }\n",
              "      </script>\n",
              "    </div>\n",
              "  </div>\n",
              "  "
            ]
          },
          "metadata": {},
          "execution_count": 7
        }
      ]
    },
    {
      "cell_type": "code",
      "source": [
        "print(\"page:\\t\", df_fix['page'].unique())"
      ],
      "metadata": {
        "id": "HWNN6JdsEh2I",
        "colab": {
          "base_uri": "https://localhost:8080/"
        },
        "outputId": "0b5b8ba1-b22a-4bce-c84d-069718d4877e"
      },
      "execution_count": null,
      "outputs": [
        {
          "output_type": "stream",
          "name": "stdout",
          "text": [
            "page:\t [ 1  2  3  4  5  6  7  8  9 10 11 12 13]\n"
          ]
        }
      ]
    },
    {
      "cell_type": "code",
      "source": [
        "#number of columns and rows\n",
        "print(\"Number of columns: \", df_fix.shape[1])\n",
        "print(\"Number of rows: \", df_fix.shape[0])"
      ],
      "metadata": {
        "colab": {
          "base_uri": "https://localhost:8080/"
        },
        "id": "EEbw5Et0NTiD",
        "outputId": "22efd2c7-ee16-4656-c131-020e8f1ea417"
      },
      "execution_count": null,
      "outputs": [
        {
          "output_type": "stream",
          "name": "stdout",
          "text": [
            "Number of columns:  29\n",
            "Number of rows:  463564\n"
          ]
        }
      ]
    },
    {
      "cell_type": "code",
      "source": [
        "# Display all column labels\n",
        "for col in get_columns(df_fix):\n",
        "  print(col)"
      ],
      "metadata": {
        "colab": {
          "base_uri": "https://localhost:8080/"
        },
        "id": "BpU00htgN9Oa",
        "outputId": "1c7eef16-593a-46d5-b66c-1efb5224d306"
      },
      "execution_count": null,
      "outputs": [
        {
          "output_type": "stream",
          "name": "stdout",
          "text": [
            "Column 1:\tRECORDING_SESSION_LABEL\t(object)\n",
            "Column 2:\tTRIAL_INDEX\t(int64)\n",
            "Column 3:\tCURRENT_FIX_X\t(float64)\n",
            "Column 4:\tCURRENT_FIX_Y\t(float64)\n",
            "Column 5:\tCURRENT_FIX_PUPIL\t(float64)\n",
            "Column 6:\tCURRENT_FIX_DURATION\t(int64)\n",
            "Column 7:\tCURRENT_FIX_INTEREST_AREA_ID\t(float64)\n",
            "Column 8:\tCURRENT_FIX_INTEREST_AREA_LABEL\t(object)\n",
            "Column 9:\tCURRENT_FIX_INTEREST_AREA_PIXEL_AREA\t(float64)\n",
            "Column 10:\tCURRENT_FIX_INTEREST_AREA_RUN_ID\t(float64)\n",
            "Column 11:\tCURRENT_FIX_INTEREST_AREA_DWELL_TIME\t(float64)\n",
            "Column 12:\tPREVIOUS_SAC_DIRECTION\t(object)\n",
            "Column 13:\tPREVIOUS_SAC_ANGLE\t(float64)\n",
            "Column 14:\tPREVIOUS_SAC_AMPLITUDE\t(float64)\n",
            "Column 15:\tPREVIOUS_SAC_AVG_VELOCITY\t(float64)\n",
            "Column 16:\tPREVIOUS_SAC_CONTAINS_BLINK\t(object)\n",
            "Column 17:\tPREVIOUS_SAC_BLINK_DURATION\t(float64)\n",
            "Column 18:\tSession_Name_\t(object)\n",
            "Column 19:\tTrial_Index_\t(int64)\n",
            "Column 20:\tTrial_Recycled_\t(bool)\n",
            "Column 21:\ttotal_page\t(int64)\n",
            "Column 22:\ttype\t(object)\n",
            "Column 23:\tbook_name\t(object)\n",
            "Column 24:\tbook\t(int64)\n",
            "Column 25:\tpage\t(int64)\n",
            "Column 26:\tRT\t(float64)\n",
            "Column 27:\tanswer\t(int64)\n",
            "Column 28:\tcorrect_answer\t(int64)\n",
            "Column 29:\tpage_name\t(object)\n"
          ]
        }
      ]
    },
    {
      "cell_type": "code",
      "source": [
        "df_fix[\"type\"].unique()"
      ],
      "metadata": {
        "colab": {
          "base_uri": "https://localhost:8080/"
        },
        "id": "3gSF2zVHD73u",
        "outputId": "c3118c82-23eb-4df1-f08b-7a5d66fedd8e"
      },
      "execution_count": null,
      "outputs": [
        {
          "output_type": "execute_result",
          "data": {
            "text/plain": [
              "array(['reading', 'question'], dtype=object)"
            ]
          },
          "metadata": {},
          "execution_count": 57
        }
      ]
    },
    {
      "cell_type": "code",
      "source": [
        "# df shape\n",
        "print(\"Number of fixations, total:\")\n",
        "print(df_fix.shape[0])\n",
        "print(\"Number of fixations, only reading screens: \")\n",
        "subdf_screens = df_fix.drop(df_fix[df_fix['type'] == 'question'].index)\n",
        "print(subdf_screens.shape[0])"
      ],
      "metadata": {
        "colab": {
          "base_uri": "https://localhost:8080/"
        },
        "id": "5HSgY3OPAvwC",
        "outputId": "65a8d481-1232-4eed-b5d3-d3f15b65b4ad"
      },
      "execution_count": null,
      "outputs": [
        {
          "output_type": "stream",
          "name": "stdout",
          "text": [
            "Number of fixations, total:\n",
            "463564\n",
            "Number of fixations, only reading screens: \n",
            "263032\n"
          ]
        }
      ]
    },
    {
      "cell_type": "markdown",
      "source": [
        "Missing datapoints: <br>\n",
        "\n",
        "There are 59 subjects * 22 screens -> there should be 1298 screens read. However, there are some screens missing: "
      ],
      "metadata": {
        "id": "L92CM6tBA0LJ"
      }
    },
    {
      "cell_type": "code",
      "source": [
        "subdf_screens = df_fix.drop(df_fix[df_fix['type'] == 'question'].index)\n",
        "subdf_screens = subdf_screens.loc[:, ['RECORDING_SESSION_LABEL', 'book', 'page']].drop_duplicates()\n",
        "print(\"There are \", subdf_screens.shape[0], \"different combinations of subj&screens in the dataset\")"
      ],
      "metadata": {
        "colab": {
          "base_uri": "https://localhost:8080/"
        },
        "id": "VrsPs8WqCaYz",
        "outputId": "de253bb7-c8cb-4a11-e713-5b8991a4f042"
      },
      "execution_count": null,
      "outputs": [
        {
          "output_type": "stream",
          "name": "stdout",
          "text": [
            "There are  2054 different combinations of subj&screens in the dataset\n"
          ]
        }
      ]
    },
    {
      "cell_type": "code",
      "source": [
        "print(\"There should be \", 22*95, \"different combinations of subj&screens --> Therefore, some got deleted or subjs didn't look at all screens!\")"
      ],
      "metadata": {
        "colab": {
          "base_uri": "https://localhost:8080/"
        },
        "id": "h9pZ9g5hER7z",
        "outputId": "9903d95e-e92b-41be-9378-a2945e99d63b"
      },
      "execution_count": null,
      "outputs": [
        {
          "output_type": "stream",
          "name": "stdout",
          "text": [
            "There should be  2090 different combinations of subj&screens --> Therefore, some got deleted or subjs didn't look at all screens!\n"
          ]
        }
      ]
    },
    {
      "cell_type": "code",
      "source": [
        "# intersting columns\n",
        "print(\"types:\\t\", df_fix['type'].unique())\n",
        "print(\"book_name:\\t\", df_fix['book_name'].unique())\n",
        "print(\"book:\\t\", df_fix['book'].unique())\n",
        "print(\"page:\\t\", df_fix['page'].unique())\n",
        "print(\"RT:\\t\", df_fix['RT'].unique())\n",
        "print(\"answer:\\t\", df_fix['answer'].unique())\n",
        "print(\"correct_answer:\\t\", df_fix['correct_answer'].unique())\n",
        "print(\"page_name:\\t\", df_fix['type'].unique())"
      ],
      "metadata": {
        "colab": {
          "base_uri": "https://localhost:8080/"
        },
        "id": "tmbPA8IC37il",
        "outputId": "b007a30e-6f07-4aa9-e1ad-c679f1fce296"
      },
      "execution_count": null,
      "outputs": [
        {
          "output_type": "stream",
          "name": "stdout",
          "text": [
            "types:\t ['reading' 'question']\n",
            "book_name:\t ['dickens' 'flytrap' 'genome' 'northpole']\n",
            "book:\t [1 2 3 4]\n",
            "page:\t [ 1  2  3  4  5  6  7  8  9 10 11 12 13]\n",
            "RT:\t [25094.5384131  24160.4984131  23271.4344131  ...  1572.57701348\n",
            "  1951.11301348   795.17101347]\n",
            "answer:\t [ 1  0  3  4  2 -1]\n",
            "correct_answer:\t [-99   1   3   4   2]\n",
            "page_name:\t ['reading' 'question']\n"
          ]
        }
      ]
    },
    {
      "cell_type": "code",
      "source": [
        "# Find unique values in certain columns\n",
        "# Information on session, text etc.\n",
        "print(\"Sessions, Trials:\\nSubject IDs\\t:\", sorted(df_fix['RECORDING_SESSION_LABEL'].unique())) #subject id\n",
        "print(\"Number of unique Subject IDs:\\t\", len(df_fix['RECORDING_SESSION_LABEL'].unique()))\n",
        "print(\"Trial IDs:\\t\", df_fix['TRIAL_INDEX'].unique())\n",
        "print(\"\\nBooks, Pages:\\nType\\t:\", sorted(df_fix['type'].unique())) # whether the screen belongs to question or reading screen\n",
        "print(\"Book\\t:\", sorted(df_fix['book'].unique()), sorted(df_fix['book_name'].unique())) #reading passage name id, integer id\n",
        "print(\"Page\\t:\", sorted(df_fix['page'].unique()), sorted(df_fix['page_name'].unique())) # current page number for each reading passage, for questions and reading\n",
        "print(\"Total page\\t:\", sorted(df_fix['total_page'].unique())) # total page number for each reading passage\n",
        "# reading time\n",
        "#print(\"Reading time:\\t\", sorted(df_fix['RT'].unique())) # total reading time for each page\n",
        "# answers\n",
        "print(\"\\nQuestions, Answers:\")\n",
        "print(\"answer\\t:\", sorted(df_fix['answer'].unique())) # subject's key response --> why -1?? Leertaste oder so? TODO subframe with only questions\n",
        "print(\"correct_answer\\t:\", sorted(df_fix['correct_answer'].unique())) # -99 used as replacement in reading pages"
      ],
      "metadata": {
        "colab": {
          "base_uri": "https://localhost:8080/"
        },
        "id": "s2fi7yeER9BI",
        "outputId": "d4ddb32e-9870-423c-e906-12b51fe0d3c4"
      },
      "execution_count": null,
      "outputs": [
        {
          "output_type": "stream",
          "name": "stdout",
          "text": [
            "Sessions, Trials:\n",
            "Subject IDs\t: ['msd001', 'msd002', 'msd003', 'msd004', 'msd005', 'msd007', 'msd008', 'msd009', 'msd010', 'msd011', 'msd012', 'msd015', 'msd017', 'msd018', 'msd019', 'msd020', 'msd021', 'msd022', 'msd023', 'msd024', 'msd025', 'msd026', 'msd027', 'msd028', 'msd030', 'msd031', 'msd032', 'msd033', 'msd034', 'msd035', 'msd036', 'msd037', 'msd038', 'msd040', 'msd041', 'msd042', 'msd043', 'msd044', 'msd045', 'msd046', 'msd047', 'msd048', 'msd049', 'msd050', 'msd051', 'msd053', 'msd054', 'msd055', 'msd056', 'msd057', 'msd058', 'msd059', 'msd061', 'msd062', 'msd063', 'msd064', 'msd065', 'msd066', 'msd068', 'msd069', 'msd070', 'msd071', 'msd072', 'msd073', 'msd074', 'msd075', 'msd077', 'msd078', 'msd079', 'msd080', 'msd081', 'msd082', 'msd083', 'msd084', 'msd085', 'msd086', 'msd087', 'msd089', 'msd090', 'msd091', 'msd092', 'msd093', 'msd094', 'msd095', 'msd096', 'msd097', 'msd098', 'msd099', 'msd100', 'msd101', 'msd102', 'msd103', 'msd105', 'msd106', 'msd107']\n",
            "Number of unique Subject IDs:\t 95\n",
            "Trial IDs:\t [  1   2   3   4   5   6   7   8   9  10  11  12  13  14  15  16  17  18\n",
            "  19  20  21  22  23  24  25  26  27  28  29  30  31  32  33  34  35  36\n",
            "  37  38  39  40  41  42  43  44  45  46  47  48  49  50  51  52  53  54\n",
            "  55  56  57  58  59  60  61  62  63  64  65  66  67  68  69  70  71  72\n",
            "  73  74  75  76  77  78  79  80  81  82  83  84  85  86  87  88  89  90\n",
            "  91  92  93  94  95  96  97  98  99 100]\n",
            "\n",
            "Books, Pages:\n",
            "Type\t: ['question', 'reading']\n",
            "Book\t: [1, 2, 3, 4] ['dickens', 'flytrap', 'genome', 'northpole']\n",
            "Page\t: [1, 2, 3, 4, 5, 6, 7, 8, 9, 10, 11, 12, 13] ['question-dickens-1', 'question-dickens-10', 'question-dickens-11', 'question-dickens-12', 'question-dickens-13', 'question-dickens-2', 'question-dickens-3', 'question-dickens-4', 'question-dickens-5', 'question-dickens-6', 'question-dickens-7', 'question-dickens-8', 'question-dickens-9', 'question-flytrap-1', 'question-flytrap-10', 'question-flytrap-11', 'question-flytrap-12', 'question-flytrap-13', 'question-flytrap-2', 'question-flytrap-3', 'question-flytrap-4', 'question-flytrap-5', 'question-flytrap-6', 'question-flytrap-7', 'question-flytrap-8', 'question-flytrap-9', 'question-genome-1', 'question-genome-10', 'question-genome-11', 'question-genome-12', 'question-genome-13', 'question-genome-2', 'question-genome-3', 'question-genome-4', 'question-genome-5', 'question-genome-6', 'question-genome-7', 'question-genome-8', 'question-genome-9', 'question-northpole-1', 'question-northpole-10', 'question-northpole-11', 'question-northpole-12', 'question-northpole-13', 'question-northpole-2', 'question-northpole-3', 'question-northpole-4', 'question-northpole-5', 'question-northpole-6', 'question-northpole-7', 'question-northpole-8', 'question-northpole-9', 'reading-dickens-1', 'reading-dickens-2', 'reading-dickens-3', 'reading-dickens-4', 'reading-dickens-5', 'reading-flytrap-1', 'reading-flytrap-2', 'reading-flytrap-3', 'reading-flytrap-4', 'reading-flytrap-5', 'reading-flytrap-6', 'reading-genome-1', 'reading-genome-2', 'reading-genome-3', 'reading-genome-4', 'reading-genome-5', 'reading-genome-6', 'reading-northpole-1', 'reading-northpole-2', 'reading-northpole-3', 'reading-northpole-4', 'reading-northpole-5']\n",
            "Total page\t: [5, 6, 13]\n",
            "\n",
            "Questions, Answers:\n",
            "answer\t: [-1, 0, 1, 2, 3, 4]\n",
            "correct_answer\t: [-99, 1, 2, 3, 4]\n"
          ]
        }
      ]
    },
    {
      "cell_type": "code",
      "source": [
        "print(\"Correct answer:\\n\", df_fix['correct_answer'].value_counts())\n",
        "print(\"\\nAnswer given by subjects:\\n\", df_fix['answer'].value_counts())"
      ],
      "metadata": {
        "colab": {
          "base_uri": "https://localhost:8080/"
        },
        "id": "1_DmhyJhTKHU",
        "outputId": "a0826947-baf6-4de1-e0be-dce296a60fef"
      },
      "execution_count": null,
      "outputs": [
        {
          "output_type": "stream",
          "name": "stdout",
          "text": [
            "Correct answer:\n",
            " -99    300822\n",
            " 3      46464\n",
            " 2      46447\n",
            " 1      43877\n",
            " 4      25954\n",
            "Name: correct_answer, dtype: int64\n",
            "\n",
            "Answer given by subjects:\n",
            "  1    273811\n",
            " 3     60431\n",
            " 2     58584\n",
            " 4     41557\n",
            " 0     23000\n",
            "-1      6181\n",
            "Name: answer, dtype: int64\n"
          ]
        }
      ]
    },
    {
      "cell_type": "markdown",
      "source": [
        "## Comprehension Questions & Answers\n",
        "In fixations dataframe"
      ],
      "metadata": {
        "id": "uDqpo1NURk08"
      }
    },
    {
      "cell_type": "code",
      "source": [
        "# sub df with answers, correct answers for type questions\n",
        "questions = df_fix[df_fix[\"type\"] == 'question']\n",
        "questions = questions[[\"RECORDING_SESSION_LABEL\", \"book\", \"page\", \"answer\", \"correct_answer\"]]\n",
        "questions = questions.drop_duplicates()\n",
        "questions = questions[questions.correct_answer != -99] # reading screens\n",
        "questions[\"correct_anwer_given\"] = (questions[\"answer\"] == questions[\"correct_answer\"]).astype(int)\n",
        "questions.head(10)"
      ],
      "metadata": {
        "colab": {
          "base_uri": "https://localhost:8080/",
          "height": 352
        },
        "id": "yYp33B2UReG_",
        "outputId": "4ff85043-32e1-4a5b-f2d3-45848e8ae47b"
      },
      "execution_count": null,
      "outputs": [
        {
          "output_type": "execute_result",
          "data": {
            "text/plain": [
              "     RECORDING_SESSION_LABEL  book  page  answer  correct_answer  \\\n",
              "510                   msd001     1     1       1               1   \n",
              "618                   msd001     1     2       3               3   \n",
              "720                   msd001     1     3       3               1   \n",
              "774                   msd001     1     4       4               4   \n",
              "859                   msd001     1     5       2               3   \n",
              "1729                  msd001     2     1       1               1   \n",
              "1789                  msd001     2     2       3               3   \n",
              "1862                  msd001     2     3       4               4   \n",
              "1942                  msd001     2     4       2               2   \n",
              "2047                  msd001     2     5       4               2   \n",
              "\n",
              "      correct_anwer_given  \n",
              "510                     1  \n",
              "618                     1  \n",
              "720                     0  \n",
              "774                     1  \n",
              "859                     0  \n",
              "1729                    1  \n",
              "1789                    1  \n",
              "1862                    1  \n",
              "1942                    1  \n",
              "2047                    0  "
            ],
            "text/html": [
              "\n",
              "  <div id=\"df-dc0ba847-9555-4932-8e8f-cb862c3691a8\">\n",
              "    <div class=\"colab-df-container\">\n",
              "      <div>\n",
              "<style scoped>\n",
              "    .dataframe tbody tr th:only-of-type {\n",
              "        vertical-align: middle;\n",
              "    }\n",
              "\n",
              "    .dataframe tbody tr th {\n",
              "        vertical-align: top;\n",
              "    }\n",
              "\n",
              "    .dataframe thead th {\n",
              "        text-align: right;\n",
              "    }\n",
              "</style>\n",
              "<table border=\"1\" class=\"dataframe\">\n",
              "  <thead>\n",
              "    <tr style=\"text-align: right;\">\n",
              "      <th></th>\n",
              "      <th>RECORDING_SESSION_LABEL</th>\n",
              "      <th>book</th>\n",
              "      <th>page</th>\n",
              "      <th>answer</th>\n",
              "      <th>correct_answer</th>\n",
              "      <th>correct_anwer_given</th>\n",
              "    </tr>\n",
              "  </thead>\n",
              "  <tbody>\n",
              "    <tr>\n",
              "      <th>510</th>\n",
              "      <td>msd001</td>\n",
              "      <td>1</td>\n",
              "      <td>1</td>\n",
              "      <td>1</td>\n",
              "      <td>1</td>\n",
              "      <td>1</td>\n",
              "    </tr>\n",
              "    <tr>\n",
              "      <th>618</th>\n",
              "      <td>msd001</td>\n",
              "      <td>1</td>\n",
              "      <td>2</td>\n",
              "      <td>3</td>\n",
              "      <td>3</td>\n",
              "      <td>1</td>\n",
              "    </tr>\n",
              "    <tr>\n",
              "      <th>720</th>\n",
              "      <td>msd001</td>\n",
              "      <td>1</td>\n",
              "      <td>3</td>\n",
              "      <td>3</td>\n",
              "      <td>1</td>\n",
              "      <td>0</td>\n",
              "    </tr>\n",
              "    <tr>\n",
              "      <th>774</th>\n",
              "      <td>msd001</td>\n",
              "      <td>1</td>\n",
              "      <td>4</td>\n",
              "      <td>4</td>\n",
              "      <td>4</td>\n",
              "      <td>1</td>\n",
              "    </tr>\n",
              "    <tr>\n",
              "      <th>859</th>\n",
              "      <td>msd001</td>\n",
              "      <td>1</td>\n",
              "      <td>5</td>\n",
              "      <td>2</td>\n",
              "      <td>3</td>\n",
              "      <td>0</td>\n",
              "    </tr>\n",
              "    <tr>\n",
              "      <th>1729</th>\n",
              "      <td>msd001</td>\n",
              "      <td>2</td>\n",
              "      <td>1</td>\n",
              "      <td>1</td>\n",
              "      <td>1</td>\n",
              "      <td>1</td>\n",
              "    </tr>\n",
              "    <tr>\n",
              "      <th>1789</th>\n",
              "      <td>msd001</td>\n",
              "      <td>2</td>\n",
              "      <td>2</td>\n",
              "      <td>3</td>\n",
              "      <td>3</td>\n",
              "      <td>1</td>\n",
              "    </tr>\n",
              "    <tr>\n",
              "      <th>1862</th>\n",
              "      <td>msd001</td>\n",
              "      <td>2</td>\n",
              "      <td>3</td>\n",
              "      <td>4</td>\n",
              "      <td>4</td>\n",
              "      <td>1</td>\n",
              "    </tr>\n",
              "    <tr>\n",
              "      <th>1942</th>\n",
              "      <td>msd001</td>\n",
              "      <td>2</td>\n",
              "      <td>4</td>\n",
              "      <td>2</td>\n",
              "      <td>2</td>\n",
              "      <td>1</td>\n",
              "    </tr>\n",
              "    <tr>\n",
              "      <th>2047</th>\n",
              "      <td>msd001</td>\n",
              "      <td>2</td>\n",
              "      <td>5</td>\n",
              "      <td>4</td>\n",
              "      <td>2</td>\n",
              "      <td>0</td>\n",
              "    </tr>\n",
              "  </tbody>\n",
              "</table>\n",
              "</div>\n",
              "      <button class=\"colab-df-convert\" onclick=\"convertToInteractive('df-dc0ba847-9555-4932-8e8f-cb862c3691a8')\"\n",
              "              title=\"Convert this dataframe to an interactive table.\"\n",
              "              style=\"display:none;\">\n",
              "        \n",
              "  <svg xmlns=\"http://www.w3.org/2000/svg\" height=\"24px\"viewBox=\"0 0 24 24\"\n",
              "       width=\"24px\">\n",
              "    <path d=\"M0 0h24v24H0V0z\" fill=\"none\"/>\n",
              "    <path d=\"M18.56 5.44l.94 2.06.94-2.06 2.06-.94-2.06-.94-.94-2.06-.94 2.06-2.06.94zm-11 1L8.5 8.5l.94-2.06 2.06-.94-2.06-.94L8.5 2.5l-.94 2.06-2.06.94zm10 10l.94 2.06.94-2.06 2.06-.94-2.06-.94-.94-2.06-.94 2.06-2.06.94z\"/><path d=\"M17.41 7.96l-1.37-1.37c-.4-.4-.92-.59-1.43-.59-.52 0-1.04.2-1.43.59L10.3 9.45l-7.72 7.72c-.78.78-.78 2.05 0 2.83L4 21.41c.39.39.9.59 1.41.59.51 0 1.02-.2 1.41-.59l7.78-7.78 2.81-2.81c.8-.78.8-2.07 0-2.86zM5.41 20L4 18.59l7.72-7.72 1.47 1.35L5.41 20z\"/>\n",
              "  </svg>\n",
              "      </button>\n",
              "      \n",
              "  <style>\n",
              "    .colab-df-container {\n",
              "      display:flex;\n",
              "      flex-wrap:wrap;\n",
              "      gap: 12px;\n",
              "    }\n",
              "\n",
              "    .colab-df-convert {\n",
              "      background-color: #E8F0FE;\n",
              "      border: none;\n",
              "      border-radius: 50%;\n",
              "      cursor: pointer;\n",
              "      display: none;\n",
              "      fill: #1967D2;\n",
              "      height: 32px;\n",
              "      padding: 0 0 0 0;\n",
              "      width: 32px;\n",
              "    }\n",
              "\n",
              "    .colab-df-convert:hover {\n",
              "      background-color: #E2EBFA;\n",
              "      box-shadow: 0px 1px 2px rgba(60, 64, 67, 0.3), 0px 1px 3px 1px rgba(60, 64, 67, 0.15);\n",
              "      fill: #174EA6;\n",
              "    }\n",
              "\n",
              "    [theme=dark] .colab-df-convert {\n",
              "      background-color: #3B4455;\n",
              "      fill: #D2E3FC;\n",
              "    }\n",
              "\n",
              "    [theme=dark] .colab-df-convert:hover {\n",
              "      background-color: #434B5C;\n",
              "      box-shadow: 0px 1px 3px 1px rgba(0, 0, 0, 0.15);\n",
              "      filter: drop-shadow(0px 1px 2px rgba(0, 0, 0, 0.3));\n",
              "      fill: #FFFFFF;\n",
              "    }\n",
              "  </style>\n",
              "\n",
              "      <script>\n",
              "        const buttonEl =\n",
              "          document.querySelector('#df-dc0ba847-9555-4932-8e8f-cb862c3691a8 button.colab-df-convert');\n",
              "        buttonEl.style.display =\n",
              "          google.colab.kernel.accessAllowed ? 'block' : 'none';\n",
              "\n",
              "        async function convertToInteractive(key) {\n",
              "          const element = document.querySelector('#df-dc0ba847-9555-4932-8e8f-cb862c3691a8');\n",
              "          const dataTable =\n",
              "            await google.colab.kernel.invokeFunction('convertToInteractive',\n",
              "                                                     [key], {});\n",
              "          if (!dataTable) return;\n",
              "\n",
              "          const docLinkHtml = 'Like what you see? Visit the ' +\n",
              "            '<a target=\"_blank\" href=https://colab.research.google.com/notebooks/data_table.ipynb>data table notebook</a>'\n",
              "            + ' to learn more about interactive tables.';\n",
              "          element.innerHTML = '';\n",
              "          dataTable['output_type'] = 'display_data';\n",
              "          await google.colab.output.renderOutput(dataTable, element);\n",
              "          const docLink = document.createElement('div');\n",
              "          docLink.innerHTML = docLinkHtml;\n",
              "          element.appendChild(docLink);\n",
              "        }\n",
              "      </script>\n",
              "    </div>\n",
              "  </div>\n",
              "  "
            ]
          },
          "metadata": {},
          "execution_count": 14
        }
      ]
    },
    {
      "cell_type": "code",
      "source": [
        "# Get number of correct answers by subject and book\n",
        "questions_grouped = questions.groupby(['RECORDING_SESSION_LABEL', 'book'], as_index=False)['correct_anwer_given'].sum()\n",
        "questions_grouped = questions_grouped.rename(columns={'correct_answer': 'total_correct_answers'})\n",
        "questions_grouped = questions_grouped.drop_duplicates()\n",
        "questions_grouped.head()"
      ],
      "metadata": {
        "colab": {
          "base_uri": "https://localhost:8080/",
          "height": 201
        },
        "id": "vxtFEV3gl7UZ",
        "outputId": "6a89236e-e47b-48df-a072-8a026874f504"
      },
      "execution_count": null,
      "outputs": [
        {
          "output_type": "execute_result",
          "data": {
            "text/plain": [
              "  RECORDING_SESSION_LABEL  book  correct_anwer_given\n",
              "0                  msd001     1                    3\n",
              "1                  msd001     2                    4\n",
              "2                  msd001     3                    4\n",
              "3                  msd001     4                    4\n",
              "4                  msd002     1                    3"
            ],
            "text/html": [
              "\n",
              "  <div id=\"df-e438493e-f3b7-4baf-848c-20af4de00bf4\">\n",
              "    <div class=\"colab-df-container\">\n",
              "      <div>\n",
              "<style scoped>\n",
              "    .dataframe tbody tr th:only-of-type {\n",
              "        vertical-align: middle;\n",
              "    }\n",
              "\n",
              "    .dataframe tbody tr th {\n",
              "        vertical-align: top;\n",
              "    }\n",
              "\n",
              "    .dataframe thead th {\n",
              "        text-align: right;\n",
              "    }\n",
              "</style>\n",
              "<table border=\"1\" class=\"dataframe\">\n",
              "  <thead>\n",
              "    <tr style=\"text-align: right;\">\n",
              "      <th></th>\n",
              "      <th>RECORDING_SESSION_LABEL</th>\n",
              "      <th>book</th>\n",
              "      <th>correct_anwer_given</th>\n",
              "    </tr>\n",
              "  </thead>\n",
              "  <tbody>\n",
              "    <tr>\n",
              "      <th>0</th>\n",
              "      <td>msd001</td>\n",
              "      <td>1</td>\n",
              "      <td>3</td>\n",
              "    </tr>\n",
              "    <tr>\n",
              "      <th>1</th>\n",
              "      <td>msd001</td>\n",
              "      <td>2</td>\n",
              "      <td>4</td>\n",
              "    </tr>\n",
              "    <tr>\n",
              "      <th>2</th>\n",
              "      <td>msd001</td>\n",
              "      <td>3</td>\n",
              "      <td>4</td>\n",
              "    </tr>\n",
              "    <tr>\n",
              "      <th>3</th>\n",
              "      <td>msd001</td>\n",
              "      <td>4</td>\n",
              "      <td>4</td>\n",
              "    </tr>\n",
              "    <tr>\n",
              "      <th>4</th>\n",
              "      <td>msd002</td>\n",
              "      <td>1</td>\n",
              "      <td>3</td>\n",
              "    </tr>\n",
              "  </tbody>\n",
              "</table>\n",
              "</div>\n",
              "      <button class=\"colab-df-convert\" onclick=\"convertToInteractive('df-e438493e-f3b7-4baf-848c-20af4de00bf4')\"\n",
              "              title=\"Convert this dataframe to an interactive table.\"\n",
              "              style=\"display:none;\">\n",
              "        \n",
              "  <svg xmlns=\"http://www.w3.org/2000/svg\" height=\"24px\"viewBox=\"0 0 24 24\"\n",
              "       width=\"24px\">\n",
              "    <path d=\"M0 0h24v24H0V0z\" fill=\"none\"/>\n",
              "    <path d=\"M18.56 5.44l.94 2.06.94-2.06 2.06-.94-2.06-.94-.94-2.06-.94 2.06-2.06.94zm-11 1L8.5 8.5l.94-2.06 2.06-.94-2.06-.94L8.5 2.5l-.94 2.06-2.06.94zm10 10l.94 2.06.94-2.06 2.06-.94-2.06-.94-.94-2.06-.94 2.06-2.06.94z\"/><path d=\"M17.41 7.96l-1.37-1.37c-.4-.4-.92-.59-1.43-.59-.52 0-1.04.2-1.43.59L10.3 9.45l-7.72 7.72c-.78.78-.78 2.05 0 2.83L4 21.41c.39.39.9.59 1.41.59.51 0 1.02-.2 1.41-.59l7.78-7.78 2.81-2.81c.8-.78.8-2.07 0-2.86zM5.41 20L4 18.59l7.72-7.72 1.47 1.35L5.41 20z\"/>\n",
              "  </svg>\n",
              "      </button>\n",
              "      \n",
              "  <style>\n",
              "    .colab-df-container {\n",
              "      display:flex;\n",
              "      flex-wrap:wrap;\n",
              "      gap: 12px;\n",
              "    }\n",
              "\n",
              "    .colab-df-convert {\n",
              "      background-color: #E8F0FE;\n",
              "      border: none;\n",
              "      border-radius: 50%;\n",
              "      cursor: pointer;\n",
              "      display: none;\n",
              "      fill: #1967D2;\n",
              "      height: 32px;\n",
              "      padding: 0 0 0 0;\n",
              "      width: 32px;\n",
              "    }\n",
              "\n",
              "    .colab-df-convert:hover {\n",
              "      background-color: #E2EBFA;\n",
              "      box-shadow: 0px 1px 2px rgba(60, 64, 67, 0.3), 0px 1px 3px 1px rgba(60, 64, 67, 0.15);\n",
              "      fill: #174EA6;\n",
              "    }\n",
              "\n",
              "    [theme=dark] .colab-df-convert {\n",
              "      background-color: #3B4455;\n",
              "      fill: #D2E3FC;\n",
              "    }\n",
              "\n",
              "    [theme=dark] .colab-df-convert:hover {\n",
              "      background-color: #434B5C;\n",
              "      box-shadow: 0px 1px 3px 1px rgba(0, 0, 0, 0.15);\n",
              "      filter: drop-shadow(0px 1px 2px rgba(0, 0, 0, 0.3));\n",
              "      fill: #FFFFFF;\n",
              "    }\n",
              "  </style>\n",
              "\n",
              "      <script>\n",
              "        const buttonEl =\n",
              "          document.querySelector('#df-e438493e-f3b7-4baf-848c-20af4de00bf4 button.colab-df-convert');\n",
              "        buttonEl.style.display =\n",
              "          google.colab.kernel.accessAllowed ? 'block' : 'none';\n",
              "\n",
              "        async function convertToInteractive(key) {\n",
              "          const element = document.querySelector('#df-e438493e-f3b7-4baf-848c-20af4de00bf4');\n",
              "          const dataTable =\n",
              "            await google.colab.kernel.invokeFunction('convertToInteractive',\n",
              "                                                     [key], {});\n",
              "          if (!dataTable) return;\n",
              "\n",
              "          const docLinkHtml = 'Like what you see? Visit the ' +\n",
              "            '<a target=\"_blank\" href=https://colab.research.google.com/notebooks/data_table.ipynb>data table notebook</a>'\n",
              "            + ' to learn more about interactive tables.';\n",
              "          element.innerHTML = '';\n",
              "          dataTable['output_type'] = 'display_data';\n",
              "          await google.colab.output.renderOutput(dataTable, element);\n",
              "          const docLink = document.createElement('div');\n",
              "          docLink.innerHTML = docLinkHtml;\n",
              "          element.appendChild(docLink);\n",
              "        }\n",
              "      </script>\n",
              "    </div>\n",
              "  </div>\n",
              "  "
            ]
          },
          "metadata": {},
          "execution_count": 15
        }
      ]
    },
    {
      "cell_type": "code",
      "source": [
        "questions_grouped.columns"
      ],
      "metadata": {
        "colab": {
          "base_uri": "https://localhost:8080/"
        },
        "id": "IuVf-iaGqCkz",
        "outputId": "b8015cf9-ff97-41bf-caa1-0ad3c44c69c4"
      },
      "execution_count": null,
      "outputs": [
        {
          "output_type": "execute_result",
          "data": {
            "text/plain": [
              "Index(['RECORDING_SESSION_LABEL', 'book', 'correct_anwer_given'], dtype='object')"
            ]
          },
          "metadata": {},
          "execution_count": 16
        }
      ]
    },
    {
      "cell_type": "code",
      "source": [
        "questions_grouped.groupby(['book'])['correct_anwer_given'].agg(['min', 'max', 'median'])\n"
      ],
      "metadata": {
        "colab": {
          "base_uri": "https://localhost:8080/",
          "height": 201
        },
        "id": "RjDem0T5LQ9N",
        "outputId": "343d8c9e-276b-4a0e-d055-c55b388efe6b"
      },
      "execution_count": null,
      "outputs": [
        {
          "output_type": "execute_result",
          "data": {
            "text/plain": [
              "      min  max  median\n",
              "book                  \n",
              "1       0    5     3.0\n",
              "2       0    5     3.0\n",
              "3       0    5     2.0\n",
              "4       0    5     3.0"
            ],
            "text/html": [
              "\n",
              "  <div id=\"df-99ee9e61-cabd-43a7-a400-fa1dafedbea9\">\n",
              "    <div class=\"colab-df-container\">\n",
              "      <div>\n",
              "<style scoped>\n",
              "    .dataframe tbody tr th:only-of-type {\n",
              "        vertical-align: middle;\n",
              "    }\n",
              "\n",
              "    .dataframe tbody tr th {\n",
              "        vertical-align: top;\n",
              "    }\n",
              "\n",
              "    .dataframe thead th {\n",
              "        text-align: right;\n",
              "    }\n",
              "</style>\n",
              "<table border=\"1\" class=\"dataframe\">\n",
              "  <thead>\n",
              "    <tr style=\"text-align: right;\">\n",
              "      <th></th>\n",
              "      <th>min</th>\n",
              "      <th>max</th>\n",
              "      <th>median</th>\n",
              "    </tr>\n",
              "    <tr>\n",
              "      <th>book</th>\n",
              "      <th></th>\n",
              "      <th></th>\n",
              "      <th></th>\n",
              "    </tr>\n",
              "  </thead>\n",
              "  <tbody>\n",
              "    <tr>\n",
              "      <th>1</th>\n",
              "      <td>0</td>\n",
              "      <td>5</td>\n",
              "      <td>3.0</td>\n",
              "    </tr>\n",
              "    <tr>\n",
              "      <th>2</th>\n",
              "      <td>0</td>\n",
              "      <td>5</td>\n",
              "      <td>3.0</td>\n",
              "    </tr>\n",
              "    <tr>\n",
              "      <th>3</th>\n",
              "      <td>0</td>\n",
              "      <td>5</td>\n",
              "      <td>2.0</td>\n",
              "    </tr>\n",
              "    <tr>\n",
              "      <th>4</th>\n",
              "      <td>0</td>\n",
              "      <td>5</td>\n",
              "      <td>3.0</td>\n",
              "    </tr>\n",
              "  </tbody>\n",
              "</table>\n",
              "</div>\n",
              "      <button class=\"colab-df-convert\" onclick=\"convertToInteractive('df-99ee9e61-cabd-43a7-a400-fa1dafedbea9')\"\n",
              "              title=\"Convert this dataframe to an interactive table.\"\n",
              "              style=\"display:none;\">\n",
              "        \n",
              "  <svg xmlns=\"http://www.w3.org/2000/svg\" height=\"24px\"viewBox=\"0 0 24 24\"\n",
              "       width=\"24px\">\n",
              "    <path d=\"M0 0h24v24H0V0z\" fill=\"none\"/>\n",
              "    <path d=\"M18.56 5.44l.94 2.06.94-2.06 2.06-.94-2.06-.94-.94-2.06-.94 2.06-2.06.94zm-11 1L8.5 8.5l.94-2.06 2.06-.94-2.06-.94L8.5 2.5l-.94 2.06-2.06.94zm10 10l.94 2.06.94-2.06 2.06-.94-2.06-.94-.94-2.06-.94 2.06-2.06.94z\"/><path d=\"M17.41 7.96l-1.37-1.37c-.4-.4-.92-.59-1.43-.59-.52 0-1.04.2-1.43.59L10.3 9.45l-7.72 7.72c-.78.78-.78 2.05 0 2.83L4 21.41c.39.39.9.59 1.41.59.51 0 1.02-.2 1.41-.59l7.78-7.78 2.81-2.81c.8-.78.8-2.07 0-2.86zM5.41 20L4 18.59l7.72-7.72 1.47 1.35L5.41 20z\"/>\n",
              "  </svg>\n",
              "      </button>\n",
              "      \n",
              "  <style>\n",
              "    .colab-df-container {\n",
              "      display:flex;\n",
              "      flex-wrap:wrap;\n",
              "      gap: 12px;\n",
              "    }\n",
              "\n",
              "    .colab-df-convert {\n",
              "      background-color: #E8F0FE;\n",
              "      border: none;\n",
              "      border-radius: 50%;\n",
              "      cursor: pointer;\n",
              "      display: none;\n",
              "      fill: #1967D2;\n",
              "      height: 32px;\n",
              "      padding: 0 0 0 0;\n",
              "      width: 32px;\n",
              "    }\n",
              "\n",
              "    .colab-df-convert:hover {\n",
              "      background-color: #E2EBFA;\n",
              "      box-shadow: 0px 1px 2px rgba(60, 64, 67, 0.3), 0px 1px 3px 1px rgba(60, 64, 67, 0.15);\n",
              "      fill: #174EA6;\n",
              "    }\n",
              "\n",
              "    [theme=dark] .colab-df-convert {\n",
              "      background-color: #3B4455;\n",
              "      fill: #D2E3FC;\n",
              "    }\n",
              "\n",
              "    [theme=dark] .colab-df-convert:hover {\n",
              "      background-color: #434B5C;\n",
              "      box-shadow: 0px 1px 3px 1px rgba(0, 0, 0, 0.15);\n",
              "      filter: drop-shadow(0px 1px 2px rgba(0, 0, 0, 0.3));\n",
              "      fill: #FFFFFF;\n",
              "    }\n",
              "  </style>\n",
              "\n",
              "      <script>\n",
              "        const buttonEl =\n",
              "          document.querySelector('#df-99ee9e61-cabd-43a7-a400-fa1dafedbea9 button.colab-df-convert');\n",
              "        buttonEl.style.display =\n",
              "          google.colab.kernel.accessAllowed ? 'block' : 'none';\n",
              "\n",
              "        async function convertToInteractive(key) {\n",
              "          const element = document.querySelector('#df-99ee9e61-cabd-43a7-a400-fa1dafedbea9');\n",
              "          const dataTable =\n",
              "            await google.colab.kernel.invokeFunction('convertToInteractive',\n",
              "                                                     [key], {});\n",
              "          if (!dataTable) return;\n",
              "\n",
              "          const docLinkHtml = 'Like what you see? Visit the ' +\n",
              "            '<a target=\"_blank\" href=https://colab.research.google.com/notebooks/data_table.ipynb>data table notebook</a>'\n",
              "            + ' to learn more about interactive tables.';\n",
              "          element.innerHTML = '';\n",
              "          dataTable['output_type'] = 'display_data';\n",
              "          await google.colab.output.renderOutput(dataTable, element);\n",
              "          const docLink = document.createElement('div');\n",
              "          docLink.innerHTML = docLinkHtml;\n",
              "          element.appendChild(docLink);\n",
              "        }\n",
              "      </script>\n",
              "    </div>\n",
              "  </div>\n",
              "  "
            ]
          },
          "metadata": {},
          "execution_count": 17
        }
      ]
    },
    {
      "cell_type": "code",
      "source": [
        "import matplotlib.pyplot as plt\n",
        "\n",
        "label = {1:'Dickens', 2:'Flytrap', 3:'Genome', 4: 'Northpole'}\n",
        "\n",
        "# Group the DataFrame by 'text_id'\n",
        "df_grouped = questions_grouped.groupby('book')\n",
        "\n",
        "# Create a list to store the box plot data for each group\n",
        "data = []\n",
        "for text_id, group in df_grouped:\n",
        "    data.append(group['correct_anwer_given'])\n",
        "\n",
        "# Create a figure and axis object\n",
        "fig, ax = plt.subplots(figsize=(6, 6))\n",
        "\n",
        "# Create a boxplot for each group\n",
        "ax.boxplot(data)\n",
        "\n",
        "# Set the x-tick labels and tick positions\n",
        "ax.set_xticklabels([label[text_id] for text_id, _ in df_grouped], fontsize=12)\n",
        "ax.set_xticks(range(1, len(df_grouped)+1))\n",
        "\n",
        "# Add a y-axis label\n",
        "ax.set_ylabel('Number of correctly answered questions', fontsize=12)\n",
        "\n",
        "# Add a title to the figure\n",
        "fig.suptitle('Distributon of text comprehension scores', y=0.93, fontsize=15)\n",
        "\n",
        "# Show the plot\n",
        "plt.show()\n"
      ],
      "metadata": {
        "colab": {
          "base_uri": "https://localhost:8080/",
          "height": 555
        },
        "id": "9nQPLeIaxUsj",
        "outputId": "a16646af-a90b-4894-a429-b42605edd597"
      },
      "execution_count": null,
      "outputs": [
        {
          "output_type": "display_data",
          "data": {
            "text/plain": [
              "<Figure size 600x600 with 1 Axes>"
            ],
            "image/png": "[encoded data removed]"
          },
          "metadata": {}
        }
      ]
    },
    {
      "cell_type": "code",
      "source": [
        "# how often the correct answer by text\n",
        "print(questions.groupby['correct_anwer_given'].value_counts())"
      ],
      "metadata": {
        "colab": {
          "base_uri": "https://localhost:8080/",
          "height": 175
        },
        "id": "izwVGGYUV897",
        "outputId": "a0a28fbb-a612-4f20-b116-f9862d19c0a9"
      },
      "execution_count": null,
      "outputs": [
        {
          "output_type": "error",
          "ename": "TypeError",
          "evalue": "ignored",
          "traceback": [
            "\u001b[0;31m---------------------------------------------------------------------------\u001b[0m",
            "\u001b[0;31mTypeError\u001b[0m                                 Traceback (most recent call last)",
            "\u001b[0;32m<ipython-input-33-49b6d6cb35fc>\u001b[0m in \u001b[0;36m<cell line: 2>\u001b[0;34m()\u001b[0m\n\u001b[1;32m      1\u001b[0m \u001b[0;31m# how often the correct answer by text\u001b[0m\u001b[0;34m\u001b[0m\u001b[0;34m\u001b[0m\u001b[0m\n\u001b[0;32m----> 2\u001b[0;31m \u001b[0mprint\u001b[0m\u001b[0;34m(\u001b[0m\u001b[0mquestions\u001b[0m\u001b[0;34m.\u001b[0m\u001b[0mgroupby\u001b[0m\u001b[0;34m[\u001b[0m\u001b[0;34m'correct_anwer_given'\u001b[0m\u001b[0;34m]\u001b[0m\u001b[0;34m.\u001b[0m\u001b[0mvalue_counts\u001b[0m\u001b[0;34m(\u001b[0m\u001b[0;34m)\u001b[0m\u001b[0;34m)\u001b[0m\u001b[0;34m\u001b[0m\u001b[0;34m\u001b[0m\u001b[0m\n\u001b[0m",
            "\u001b[0;31mTypeError\u001b[0m: 'method' object is not subscriptable"
          ]
        }
      ]
    },
    {
      "cell_type": "code",
      "source": [
        "# how often was the correct answer given for a page?\n",
        "for i in sorted(df_fix['page_name'].unique()):\n",
        "  answered_correctly = len(questions[(questions[\"page_name\"]==i) & (questions[\"answer\"]==questions[\"correct_answer\"])])\n",
        "  if answered_correctly != 0: \n",
        "    print(i, \":\\t\", answered_correctly, \"participants answered the question correctly.\")"
      ],
      "metadata": {
        "id": "VlfhENtfU7A0"
      },
      "execution_count": null,
      "outputs": []
    },
    {
      "cell_type": "code",
      "source": [
        "# Only 17 participants answered question 5 for dickens correctly. what did they answer?\n",
        "# correct answer: \n",
        "subdf_1_5  = questions[(questions[\"book\"] == 1)&(questions[\"page\"] == 5)]\n",
        "ans_corr = subdf_1_5['correct_answer'].unique()[0]\n",
        "print(\"correct answer: \", ans_corr)\n",
        "\n",
        "# participants answers: \n",
        "subdf_1_5[\"answer\"].value_counts()"
      ],
      "metadata": {
        "colab": {
          "base_uri": "https://localhost:8080/"
        },
        "id": "VMrd2QAcQenB",
        "outputId": "43b63dde-3431-4a2f-9d31-b5ec6dcd9083"
      },
      "execution_count": null,
      "outputs": [
        {
          "output_type": "stream",
          "name": "stdout",
          "text": [
            "correct answer:  3\n"
          ]
        },
        {
          "output_type": "execute_result",
          "data": {
            "text/plain": [
              "2    63\n",
              "3    17\n",
              "4    11\n",
              "1     4\n",
              "Name: answer, dtype: int64"
            ]
          },
          "metadata": {},
          "execution_count": 34
        }
      ]
    },
    {
      "cell_type": "markdown",
      "source": [
        "# 2. Labels Dataframe\n",
        "\"18sat_labels.csv\" <br>\n",
        "Self-assessment questionnaire, filled out after each passage."
      ],
      "metadata": {
        "id": "Heb_vYQnO-Bk"
      }
    },
    {
      "cell_type": "code",
      "source": [
        "df_lab = pd.read_csv(path_labels, sep=',')\n",
        "# sub dataframes for the books\n",
        "df_lab_dickens = df_lab[df_lab[\"book\"] == \"dickens\"]\n",
        "df_lab_flytrap = df_lab[df_lab[\"book\"] == \"flytrap\"]\n",
        "df_lab_genome = df_lab[df_lab[\"book\"] == \"genome\"]\n",
        "df_lab_northpole = df_lab[df_lab[\"book\"] == \"northpole\"]"
      ],
      "metadata": {
        "id": "Iu--_1hPO9rF"
      },
      "execution_count": null,
      "outputs": []
    },
    {
      "cell_type": "code",
      "source": [
        "df_lab.head(5)"
      ],
      "metadata": {
        "colab": {
          "base_uri": "https://localhost:8080/",
          "height": 201
        },
        "id": "X8th16oQoGva",
        "outputId": "a3a57328-7e08-4303-e261-b69252e2a4f6"
      },
      "execution_count": null,
      "outputs": [
        {
          "output_type": "execute_result",
          "data": {
            "text/plain": [
              "     subj       book  acc  confidence  difficulty  familiarity  recognition  \\\n",
              "0  msd001    dickens  0.6           2           0            1            0   \n",
              "1  msd001    flytrap  0.8           2           1            2            0   \n",
              "2  msd001     genome  0.8           1           0            1            0   \n",
              "3  msd001  northpole  0.8           1           1            1            0   \n",
              "4  msd002    dickens  0.6           2           1            1            0   \n",
              "\n",
              "   interest  pressured  sleepiness  sleephours  acc_level  subj_acc language  \\\n",
              "0         2          0           1           2          2      0.75  English   \n",
              "1         2          1           1           2          3      0.75  English   \n",
              "2         2          1           2           2          3      0.75  English   \n",
              "3         1          1           2           2          3      0.75  English   \n",
              "4         2          1           1           2          2      0.45  English   \n",
              "\n",
              "  sex  native  subj_acc_level  \n",
              "0   F       1               3  \n",
              "1   F       1               3  \n",
              "2   F       1               3  \n",
              "3   F       1               3  \n",
              "4   M       1               0  "
            ],
            "text/html": [
              "\n",
              "  <div id=\"df-6bae2c61-0707-4e3b-bcf0-215644c4935a\">\n",
              "    <div class=\"colab-df-container\">\n",
              "      <div>\n",
              "<style scoped>\n",
              "    .dataframe tbody tr th:only-of-type {\n",
              "        vertical-align: middle;\n",
              "    }\n",
              "\n",
              "    .dataframe tbody tr th {\n",
              "        vertical-align: top;\n",
              "    }\n",
              "\n",
              "    .dataframe thead th {\n",
              "        text-align: right;\n",
              "    }\n",
              "</style>\n",
              "<table border=\"1\" class=\"dataframe\">\n",
              "  <thead>\n",
              "    <tr style=\"text-align: right;\">\n",
              "      <th></th>\n",
              "      <th>subj</th>\n",
              "      <th>book</th>\n",
              "      <th>acc</th>\n",
              "      <th>confidence</th>\n",
              "      <th>difficulty</th>\n",
              "      <th>familiarity</th>\n",
              "      <th>recognition</th>\n",
              "      <th>interest</th>\n",
              "      <th>pressured</th>\n",
              "      <th>sleepiness</th>\n",
              "      <th>sleephours</th>\n",
              "      <th>acc_level</th>\n",
              "      <th>subj_acc</th>\n",
              "      <th>language</th>\n",
              "      <th>sex</th>\n",
              "      <th>native</th>\n",
              "      <th>subj_acc_level</th>\n",
              "    </tr>\n",
              "  </thead>\n",
              "  <tbody>\n",
              "    <tr>\n",
              "      <th>0</th>\n",
              "      <td>msd001</td>\n",
              "      <td>dickens</td>\n",
              "      <td>0.6</td>\n",
              "      <td>2</td>\n",
              "      <td>0</td>\n",
              "      <td>1</td>\n",
              "      <td>0</td>\n",
              "      <td>2</td>\n",
              "      <td>0</td>\n",
              "      <td>1</td>\n",
              "      <td>2</td>\n",
              "      <td>2</td>\n",
              "      <td>0.75</td>\n",
              "      <td>English</td>\n",
              "      <td>F</td>\n",
              "      <td>1</td>\n",
              "      <td>3</td>\n",
              "    </tr>\n",
              "    <tr>\n",
              "      <th>1</th>\n",
              "      <td>msd001</td>\n",
              "      <td>flytrap</td>\n",
              "      <td>0.8</td>\n",
              "      <td>2</td>\n",
              "      <td>1</td>\n",
              "      <td>2</td>\n",
              "      <td>0</td>\n",
              "      <td>2</td>\n",
              "      <td>1</td>\n",
              "      <td>1</td>\n",
              "      <td>2</td>\n",
              "      <td>3</td>\n",
              "      <td>0.75</td>\n",
              "      <td>English</td>\n",
              "      <td>F</td>\n",
              "      <td>1</td>\n",
              "      <td>3</td>\n",
              "    </tr>\n",
              "    <tr>\n",
              "      <th>2</th>\n",
              "      <td>msd001</td>\n",
              "      <td>genome</td>\n",
              "      <td>0.8</td>\n",
              "      <td>1</td>\n",
              "      <td>0</td>\n",
              "      <td>1</td>\n",
              "      <td>0</td>\n",
              "      <td>2</td>\n",
              "      <td>1</td>\n",
              "      <td>2</td>\n",
              "      <td>2</td>\n",
              "      <td>3</td>\n",
              "      <td>0.75</td>\n",
              "      <td>English</td>\n",
              "      <td>F</td>\n",
              "      <td>1</td>\n",
              "      <td>3</td>\n",
              "    </tr>\n",
              "    <tr>\n",
              "      <th>3</th>\n",
              "      <td>msd001</td>\n",
              "      <td>northpole</td>\n",
              "      <td>0.8</td>\n",
              "      <td>1</td>\n",
              "      <td>1</td>\n",
              "      <td>1</td>\n",
              "      <td>0</td>\n",
              "      <td>1</td>\n",
              "      <td>1</td>\n",
              "      <td>2</td>\n",
              "      <td>2</td>\n",
              "      <td>3</td>\n",
              "      <td>0.75</td>\n",
              "      <td>English</td>\n",
              "      <td>F</td>\n",
              "      <td>1</td>\n",
              "      <td>3</td>\n",
              "    </tr>\n",
              "    <tr>\n",
              "      <th>4</th>\n",
              "      <td>msd002</td>\n",
              "      <td>dickens</td>\n",
              "      <td>0.6</td>\n",
              "      <td>2</td>\n",
              "      <td>1</td>\n",
              "      <td>1</td>\n",
              "      <td>0</td>\n",
              "      <td>2</td>\n",
              "      <td>1</td>\n",
              "      <td>1</td>\n",
              "      <td>2</td>\n",
              "      <td>2</td>\n",
              "      <td>0.45</td>\n",
              "      <td>English</td>\n",
              "      <td>M</td>\n",
              "      <td>1</td>\n",
              "      <td>0</td>\n",
              "    </tr>\n",
              "  </tbody>\n",
              "</table>\n",
              "</div>\n",
              "      <button class=\"colab-df-convert\" onclick=\"convertToInteractive('df-6bae2c61-0707-4e3b-bcf0-215644c4935a')\"\n",
              "              title=\"Convert this dataframe to an interactive table.\"\n",
              "              style=\"display:none;\">\n",
              "        \n",
              "  <svg xmlns=\"http://www.w3.org/2000/svg\" height=\"24px\"viewBox=\"0 0 24 24\"\n",
              "       width=\"24px\">\n",
              "    <path d=\"M0 0h24v24H0V0z\" fill=\"none\"/>\n",
              "    <path d=\"M18.56 5.44l.94 2.06.94-2.06 2.06-.94-2.06-.94-.94-2.06-.94 2.06-2.06.94zm-11 1L8.5 8.5l.94-2.06 2.06-.94-2.06-.94L8.5 2.5l-.94 2.06-2.06.94zm10 10l.94 2.06.94-2.06 2.06-.94-2.06-.94-.94-2.06-.94 2.06-2.06.94z\"/><path d=\"M17.41 7.96l-1.37-1.37c-.4-.4-.92-.59-1.43-.59-.52 0-1.04.2-1.43.59L10.3 9.45l-7.72 7.72c-.78.78-.78 2.05 0 2.83L4 21.41c.39.39.9.59 1.41.59.51 0 1.02-.2 1.41-.59l7.78-7.78 2.81-2.81c.8-.78.8-2.07 0-2.86zM5.41 20L4 18.59l7.72-7.72 1.47 1.35L5.41 20z\"/>\n",
              "  </svg>\n",
              "      </button>\n",
              "      \n",
              "  <style>\n",
              "    .colab-df-container {\n",
              "      display:flex;\n",
              "      flex-wrap:wrap;\n",
              "      gap: 12px;\n",
              "    }\n",
              "\n",
              "    .colab-df-convert {\n",
              "      background-color: #E8F0FE;\n",
              "      border: none;\n",
              "      border-radius: 50%;\n",
              "      cursor: pointer;\n",
              "      display: none;\n",
              "      fill: #1967D2;\n",
              "      height: 32px;\n",
              "      padding: 0 0 0 0;\n",
              "      width: 32px;\n",
              "    }\n",
              "\n",
              "    .colab-df-convert:hover {\n",
              "      background-color: #E2EBFA;\n",
              "      box-shadow: 0px 1px 2px rgba(60, 64, 67, 0.3), 0px 1px 3px 1px rgba(60, 64, 67, 0.15);\n",
              "      fill: #174EA6;\n",
              "    }\n",
              "\n",
              "    [theme=dark] .colab-df-convert {\n",
              "      background-color: #3B4455;\n",
              "      fill: #D2E3FC;\n",
              "    }\n",
              "\n",
              "    [theme=dark] .colab-df-convert:hover {\n",
              "      background-color: #434B5C;\n",
              "      box-shadow: 0px 1px 3px 1px rgba(0, 0, 0, 0.15);\n",
              "      filter: drop-shadow(0px 1px 2px rgba(0, 0, 0, 0.3));\n",
              "      fill: #FFFFFF;\n",
              "    }\n",
              "  </style>\n",
              "\n",
              "      <script>\n",
              "        const buttonEl =\n",
              "          document.querySelector('#df-6bae2c61-0707-4e3b-bcf0-215644c4935a button.colab-df-convert');\n",
              "        buttonEl.style.display =\n",
              "          google.colab.kernel.accessAllowed ? 'block' : 'none';\n",
              "\n",
              "        async function convertToInteractive(key) {\n",
              "          const element = document.querySelector('#df-6bae2c61-0707-4e3b-bcf0-215644c4935a');\n",
              "          const dataTable =\n",
              "            await google.colab.kernel.invokeFunction('convertToInteractive',\n",
              "                                                     [key], {});\n",
              "          if (!dataTable) return;\n",
              "\n",
              "          const docLinkHtml = 'Like what you see? Visit the ' +\n",
              "            '<a target=\"_blank\" href=https://colab.research.google.com/notebooks/data_table.ipynb>data table notebook</a>'\n",
              "            + ' to learn more about interactive tables.';\n",
              "          element.innerHTML = '';\n",
              "          dataTable['output_type'] = 'display_data';\n",
              "          await google.colab.output.renderOutput(dataTable, element);\n",
              "          const docLink = document.createElement('div');\n",
              "          docLink.innerHTML = docLinkHtml;\n",
              "          element.appendChild(docLink);\n",
              "        }\n",
              "      </script>\n",
              "    </div>\n",
              "  </div>\n",
              "  "
            ]
          },
          "metadata": {},
          "execution_count": 36
        }
      ]
    },
    {
      "cell_type": "code",
      "source": [
        "#number of columns & rows\n",
        "print(\"Number of columns: \", df_lab.shape[1])\n",
        "print(\"Number of rows: \", df_lab.shape[0])"
      ],
      "metadata": {
        "colab": {
          "base_uri": "https://localhost:8080/"
        },
        "id": "4GCKzFtqPF-4",
        "outputId": "33b1c680-f624-4560-fc3b-e82c04a128cc"
      },
      "execution_count": null,
      "outputs": [
        {
          "output_type": "stream",
          "name": "stdout",
          "text": [
            "Number of columns:  17\n",
            "Number of rows:  380\n"
          ]
        }
      ]
    },
    {
      "cell_type": "code",
      "source": [
        "# Display all column labels\n",
        "for col in get_columns(df_lab):\n",
        "  print(col)"
      ],
      "metadata": {
        "colab": {
          "base_uri": "https://localhost:8080/"
        },
        "id": "O_whZICkPIAm",
        "outputId": "185baac0-b78f-49c0-af69-2c47982ae96c"
      },
      "execution_count": null,
      "outputs": [
        {
          "output_type": "stream",
          "name": "stdout",
          "text": [
            "Column 1:\tsubj\t(object)\n",
            "Column 2:\tbook\t(object)\n",
            "Column 3:\tacc\t(float64)\n",
            "Column 4:\tconfidence\t(int64)\n",
            "Column 5:\tdifficulty\t(int64)\n",
            "Column 6:\tfamiliarity\t(int64)\n",
            "Column 7:\trecognition\t(int64)\n",
            "Column 8:\tinterest\t(int64)\n",
            "Column 9:\tpressured\t(int64)\n",
            "Column 10:\tsleepiness\t(int64)\n",
            "Column 11:\tsleephours\t(int64)\n",
            "Column 12:\tacc_level\t(int64)\n",
            "Column 13:\tsubj_acc\t(float64)\n",
            "Column 14:\tlanguage\t(object)\n",
            "Column 15:\tsex\t(object)\n",
            "Column 16:\tnative\t(int64)\n",
            "Column 17:\tsubj_acc_level\t(int64)\n"
          ]
        }
      ]
    },
    {
      "cell_type": "markdown",
      "source": [
        "## 3.1. Information on the subjects\n",
        "In labels dataframe"
      ],
      "metadata": {
        "id": "gV8qY_U3JEy0"
      }
    },
    {
      "cell_type": "code",
      "source": [
        "print(\"\\nPersonal information:\")\n",
        "print(\"language\\t:\", sorted(df_lab['language'].unique())) # native language\n",
        "print(\"sex\\t:\", sorted(df_lab['sex'].unique()))\n",
        "print(\"native\\t:\", sorted(df_lab['native'].unique())) # whether native language is English (1=yes=)"
      ],
      "metadata": {
        "colab": {
          "base_uri": "https://localhost:8080/"
        },
        "id": "N5ZeBkN4JN3l",
        "outputId": "d91c82ef-4d25-441d-c8d2-a03122aa68fe"
      },
      "execution_count": null,
      "outputs": [
        {
          "output_type": "stream",
          "name": "stdout",
          "text": [
            "\n",
            "Personal information:\n",
            "language\t: ['Cantonese', 'Chinese', 'English', 'English /chinese', 'German', 'Italian', 'Korean', 'Mandrine', 'Punjabi', 'Russian', 'Spanish', 'Turkmen']\n",
            "sex\t: ['F', 'M']\n",
            "native\t: [0, 1]\n"
          ]
        }
      ]
    },
    {
      "cell_type": "code",
      "source": [
        "# First languages -> durch 4 teilen!\n",
        "df_subj = df_lab.copy()\n",
        "df_subj = df_subj[['subj', 'language', 'sex', 'native']]\n",
        "df_subj=df_subj.drop_duplicates()\n",
        "df_subj['language'].value_counts()"
      ],
      "metadata": {
        "colab": {
          "base_uri": "https://localhost:8080/"
        },
        "id": "xfifnGThKo3U",
        "outputId": "5cce9fb2-3d0a-4870-9262-f160104dc778"
      },
      "execution_count": null,
      "outputs": [
        {
          "output_type": "execute_result",
          "data": {
            "text/plain": [
              "English             65\n",
              "Chinese             16\n",
              "Korean               2\n",
              "Spanish              2\n",
              "Mandrine             2\n",
              "Punjabi              2\n",
              "Italian              1\n",
              "English /chinese     1\n",
              "Russian              1\n",
              "Cantonese            1\n",
              "Turkmen              1\n",
              "German               1\n",
              "Name: language, dtype: int64"
            ]
          },
          "metadata": {},
          "execution_count": 40
        }
      ]
    },
    {
      "cell_type": "code",
      "source": [
        "# Number of natives (1) and non-natives (0)\n",
        "df_subj['native'].value_counts()"
      ],
      "metadata": {
        "id": "-iPPBxQwLLwU",
        "outputId": "04d3a1e0-3458-4465-cd71-77d0c2bf2c83",
        "colab": {
          "base_uri": "https://localhost:8080/"
        }
      },
      "execution_count": null,
      "outputs": [
        {
          "output_type": "execute_result",
          "data": {
            "text/plain": [
              "1    66\n",
              "0    29\n",
              "Name: native, dtype: int64"
            ]
          },
          "metadata": {},
          "execution_count": 41
        }
      ]
    },
    {
      "cell_type": "code",
      "source": [
        "# Number of male and female participants\n",
        "df_subj['sex'].value_counts()"
      ],
      "metadata": {
        "colab": {
          "base_uri": "https://localhost:8080/"
        },
        "id": "AVrJ4hLgLERo",
        "outputId": "04679a7d-e4f7-4d1b-bae2-0f9232eebbf9"
      },
      "execution_count": null,
      "outputs": [
        {
          "output_type": "execute_result",
          "data": {
            "text/plain": [
              "F    63\n",
              "M    32\n",
              "Name: sex, dtype: int64"
            ]
          },
          "metadata": {},
          "execution_count": 42
        }
      ]
    },
    {
      "cell_type": "markdown",
      "source": [
        "## 3.2. Accuracies \n",
        "In labels dataframe"
      ],
      "metadata": {
        "id": "2O4BCLPfJOka"
      }
    },
    {
      "cell_type": "code",
      "source": [
        "print(\"\\nAccuracies:\")\n",
        "print(\"acc\\t:\", sorted(df_lab['acc'].unique())) # average passage accuracy\n",
        "print(\"acc_level\\t:\", sorted(df_lab['acc_level'].unique())) # average passage accuracy level in quartile (0: lowest 25%, 1: 25-50%, 2: 50-75%, 3: highest 25%)\n",
        "print(\"subj_acc\\t:\", sorted(df_lab['subj_acc'].unique())) #  individual’s comprehension score averaged over all four passages\n",
        "print(\"subj_acc_level\\t:\", sorted(df_lab['subj_acc_level'].unique())) # subj_acc level in quartile (0: lowest 25%, 1: 25-50%, 2: 50-75%, 3: highest 25%)"
      ],
      "metadata": {
        "colab": {
          "base_uri": "https://localhost:8080/"
        },
        "id": "GB-W308TJSDz",
        "outputId": "a69a8d0c-ca61-4e1b-c55a-e7ff1edd91c2"
      },
      "execution_count": null,
      "outputs": [
        {
          "output_type": "stream",
          "name": "stdout",
          "text": [
            "\n",
            "Accuracies:\n",
            "acc\t: [0.0, 0.2, 0.4, 0.6, 0.8, 1.0]\n",
            "acc_level\t: [0, 1, 2, 3]\n",
            "subj_acc\t: [0.15, 0.2, 0.25, 0.3, 0.35, 0.4, 0.45, 0.4500000000000001, 0.5, 0.5499999999999999, 0.55, 0.6, 0.6000000000000001, 0.6499999999999999, 0.65, 0.6500000000000001, 0.7, 0.7000000000000001, 0.75, 0.85, 0.8500000000000001]\n",
            "subj_acc_level\t: [0, 1, 2, 3]\n"
          ]
        }
      ]
    },
    {
      "cell_type": "markdown",
      "source": [
        "## 3.3. Self-assessment Questionnaire\n",
        "In labels dataframe"
      ],
      "metadata": {
        "id": "O_tbYiLnJH4w"
      }
    },
    {
      "cell_type": "code",
      "source": [
        "# Find unique values in certain columns\n",
        "print(\"Questionnaire:\")\n",
        "print(\"confidence\\t:\", sorted(df_lab['confidence'].unique())) # How confident were you when answering to the previous comprehension questions (overall)?\n",
        "print(\"difficulty\\t:\", sorted(df_lab['difficulty'].unique())) # How do you rate the difficulty level of the passage you read?\n",
        "print(\"familiarity\\t:\", sorted(df_lab['familiarity'].unique())) # How familiar are you with the topic of this passage?\n",
        "print(\"recognition\\t:\", sorted(df_lab['recognition'].unique())) # Have you read this passage before? (0:no, 1:yes)\n",
        "print(\"interest\\t:\", sorted(df_lab['interest'].unique())) # How interesting this passage was?\n",
        "print(\"pressured\\t:\", sorted(df_lab['pressured'].unique())) #  How much pressure did you feel during reading?\n",
        "print(\"sleepiness\\t:\", sorted(df_lab['sleepiness'].unique())) # How sleepy were you during reading this passage\n",
        "print(\"sleephours\\t:\", sorted(df_lab['sleephours'].unique())) # How long did you sleep last night?(0: less than 3 hours, 1: 3-6 hours, 2: 6-9 hours, 3: more than 9 hours)"
      ],
      "metadata": {
        "colab": {
          "base_uri": "https://localhost:8080/"
        },
        "id": "m4_bwEQjU2ui",
        "outputId": "8ed83597-cc6f-4481-ffe4-a7fa497b5da8"
      },
      "execution_count": null,
      "outputs": [
        {
          "output_type": "stream",
          "name": "stdout",
          "text": [
            "Questionnaire:\n",
            "confidence\t: [0, 1, 2, 3]\n",
            "difficulty\t: [0, 1, 2, 3]\n",
            "familiarity\t: [0, 1, 2, 3]\n",
            "recognition\t: [0, 1]\n",
            "interest\t: [0, 1, 2, 3]\n",
            "pressured\t: [0, 1, 2, 3]\n",
            "sleepiness\t: [0, 1, 2, 3]\n",
            "sleephours\t: [0, 1, 2, 3]\n"
          ]
        }
      ]
    },
    {
      "cell_type": "markdown",
      "source": [
        "### Look at subdataframes (per book)"
      ],
      "metadata": {
        "id": "ruN81ZYrrV8o"
      }
    },
    {
      "cell_type": "code",
      "source": [
        "# Double check that all 95 participants read all books\n",
        "print(df_lab_dickens.shape)\n",
        "print(df_lab_flytrap.shape)\n",
        "print(df_lab_genome.shape)\n",
        "print(df_lab_northpole.shape)"
      ],
      "metadata": {
        "colab": {
          "base_uri": "https://localhost:8080/"
        },
        "id": "LOqu2pP9Pqq7",
        "outputId": "11868362-c879-42e9-e9a6-0654a62091f6"
      },
      "execution_count": null,
      "outputs": [
        {
          "output_type": "stream",
          "name": "stdout",
          "text": [
            "(95, 17)\n",
            "(95, 17)\n",
            "(95, 17)\n",
            "(95, 17)\n"
          ]
        }
      ]
    },
    {
      "cell_type": "markdown",
      "source": [],
      "metadata": {
        "id": "UmLpn9eZsMqL"
      }
    },
    {
      "cell_type": "code",
      "source": [
        "# count values\n",
        "df_lab_dickens['familiarity'].value_counts()"
      ],
      "metadata": {
        "colab": {
          "base_uri": "https://localhost:8080/"
        },
        "id": "33ZzTD4ssCl0",
        "outputId": "4d8b910b-98ff-4628-a314-aae4bcc073cc"
      },
      "execution_count": null,
      "outputs": [
        {
          "output_type": "execute_result",
          "data": {
            "text/plain": [
              "1    45\n",
              "2    31\n",
              "0    18\n",
              "3     1\n",
              "Name: familiarity, dtype: int64"
            ]
          },
          "metadata": {},
          "execution_count": 46
        }
      ]
    },
    {
      "cell_type": "code",
      "source": [
        "# get some mean scores\n",
        "print(\"Confidence:\")\n",
        "print(\"dickens:\\t\", df_lab_dickens['confidence'].mean())\n",
        "print(\"flytrap:\\t\", df_lab_flytrap['confidence'].mean())\n",
        "print(\"genome:\\t\", df_lab_genome['confidence'].mean())\n",
        "print(\"northpole:\\t\", df_lab_northpole['confidence'].mean())\n",
        "print(\"\\nDifficulty:\")\n",
        "print(\"dickens:\\t\", df_lab_dickens['difficulty'].mean())\n",
        "print(\"flytrap:\\t\", df_lab_flytrap['difficulty'].mean())\n",
        "print(\"genome:\\t\", df_lab_genome['difficulty'].mean())\n",
        "print(\"northpole:\\t\", df_lab_northpole['difficulty'].mean())\n",
        "print(\"\\nInterest:\")\n",
        "print(\"dickens:\\t\", df_lab_dickens['interest'].mean())\n",
        "print(\"flytrap:\\t\", df_lab_flytrap['interest'].mean())\n",
        "print(\"genome:\\t\", df_lab_genome['interest'].mean())\n",
        "print(\"northpole:\\t\", df_lab_northpole['interest'].mean())\n",
        "print(\"\\nPressured:\")\n",
        "print(\"dickens:\\t\", df_lab_dickens['pressured'].mean())\n",
        "print(\"flytrap:\\t\", df_lab_flytrap['pressured'].mean())\n",
        "print(\"genome:\\t\", df_lab_genome['pressured'].mean())\n",
        "print(\"northpole:\\t\", df_lab_northpole['pressured'].mean())\n",
        "print(\"\\nFamiliarity:\")\n",
        "print(\"dickens:\\t\", df_lab_dickens['familiarity'].mean())\n",
        "print(\"flytrap:\\t\", df_lab_flytrap['familiarity'].mean())\n",
        "print(\"genome:\\t\", df_lab_genome['familiarity'].mean())\n",
        "print(\"northpole:\\t\", df_lab_northpole['familiarity'].mean())\n",
        "print(\"\\nRecognition:\")\n",
        "print(\"dickens:\\t\", df_lab_dickens['recognition'].mean())\n",
        "print(\"flytrap:\\t\", df_lab_flytrap['recognition'].mean())\n",
        "print(\"genome:\\t\", df_lab_genome['recognition'].mean())\n",
        "print(\"northpole:\\t\", df_lab_northpole['recognition'].mean())"
      ],
      "metadata": {
        "colab": {
          "base_uri": "https://localhost:8080/"
        },
        "id": "VMMT54nbr3yO",
        "outputId": "65337990-4b1e-4620-8a51-6c2c9dd59aed"
      },
      "execution_count": null,
      "outputs": [
        {
          "output_type": "stream",
          "name": "stdout",
          "text": [
            "Confidence:\n",
            "dickens:\t 1.8\n",
            "flytrap:\t 1.3157894736842106\n",
            "genome:\t 1.2210526315789474\n",
            "northpole:\t 1.105263157894737\n",
            "\n",
            "Difficulty:\n",
            "dickens:\t 0.8105263157894737\n",
            "flytrap:\t 1.3473684210526315\n",
            "genome:\t 1.2736842105263158\n",
            "northpole:\t 1.6526315789473685\n",
            "\n",
            "Interest:\n",
            "dickens:\t 1.9263157894736842\n",
            "flytrap:\t 1.5789473684210527\n",
            "genome:\t 1.768421052631579\n",
            "northpole:\t 1.2105263157894737\n",
            "\n",
            "Pressured:\n",
            "dickens:\t 1.0210526315789474\n",
            "flytrap:\t 1.3263157894736841\n",
            "genome:\t 1.3368421052631578\n",
            "northpole:\t 1.3894736842105264\n",
            "\n",
            "Familiarity:\n",
            "dickens:\t 1.1578947368421053\n",
            "flytrap:\t 1.063157894736842\n",
            "genome:\t 0.9578947368421052\n",
            "northpole:\t 0.6105263157894737\n",
            "\n",
            "Recognition:\n",
            "dickens:\t 0.042105263157894736\n",
            "flytrap:\t 0.010526315789473684\n",
            "genome:\t 0.010526315789473684\n",
            "northpole:\t 0.010526315789473684\n"
          ]
        }
      ]
    },
    {
      "cell_type": "code",
      "source": [
        "import matplotlib.pyplot as plt\n",
        "import numpy as np\n",
        "\n",
        "# Get the mean values for the different variables and texts\n",
        "conf_means = [df_lab_dickens['confidence'].mean(), df_lab_flytrap['confidence'].mean(), df_lab_genome['confidence'].mean(), df_lab_northpole['confidence'].mean()]\n",
        "diff_means = [df_lab_dickens['difficulty'].mean(), df_lab_flytrap['difficulty'].mean(), df_lab_genome['difficulty'].mean(), df_lab_northpole['difficulty'].mean()]\n",
        "int_means = [df_lab_dickens['interest'].mean(), df_lab_flytrap['interest'].mean(), df_lab_genome['interest'].mean(), df_lab_northpole['interest'].mean()]\n",
        "press_means = [df_lab_dickens['pressured'].mean(), df_lab_flytrap['pressured'].mean(), df_lab_genome['pressured'].mean(), df_lab_northpole['pressured'].mean()]\n",
        "fam_means = [df_lab_dickens['familiarity'].mean(), df_lab_flytrap['familiarity'].mean(), df_lab_genome['familiarity'].mean(), df_lab_northpole['familiarity'].mean()]\n",
        "\n",
        "# Set the labels for the x-axis and the positions of the bars\n",
        "labels = ['Dickens', 'Flytrap', 'Genome', 'Northpole']\n",
        "x_pos = np.arange(len(labels))\n",
        "\n",
        "# Set the width of the bars\n",
        "bar_width = 0.15\n",
        "\n",
        "# Create the figure and axes objects\n",
        "fig, ax = plt.subplots()\n",
        "\n",
        "# Create the bar plots for each variable\n",
        "ax.bar(x_pos, conf_means, bar_width, label='Confidence', color='navy')\n",
        "ax.bar(x_pos + bar_width, diff_means, bar_width, label='Difficulty', color='blue')\n",
        "ax.bar(x_pos + 2*bar_width, int_means, bar_width, label='Interest', color='royalblue')\n",
        "ax.bar(x_pos + 3*bar_width, press_means, bar_width, label='Pressured', color='cornflowerblue')\n",
        "ax.bar(x_pos + 4*bar_width, fam_means, bar_width, label='Familiarity', color='lightsteelblue')\n",
        "\n",
        "# Set the tick labels and title\n",
        "ax.set_xticks(x_pos + 2*bar_width)\n",
        "ax.set_xticklabels(labels)\n",
        "ax.set_ylabel('Mean score')\n",
        "ax.set_title('Results of the self-assessment questionnaire')\n",
        "\n",
        "# Add the legend and show the plot\n",
        "ax.legend()\n",
        "plt.show()\n",
        "\n"
      ],
      "metadata": {
        "colab": {
          "base_uri": "https://localhost:8080/",
          "height": 451
        },
        "id": "oxyR7PUxVXZ1",
        "outputId": "c66f4a39-9896-44ce-8c7e-9a452350a0db"
      },
      "execution_count": null,
      "outputs": [
        {
          "output_type": "display_data",
          "data": {
            "text/plain": [
              "<Figure size 640x480 with 1 Axes>"
            ],
            "image/png": "[encoded data removed]"
          },
          "metadata": {}
        }
      ]
    },
    {
      "cell_type": "code",
      "source": [
        "import pandas as pd\n",
        "import matplotlib.pyplot as plt\n",
        "\n",
        "# Create a DataFrame with the means for each variable and group\n",
        "data = {'Confidence': [df_lab_dickens['confidence'].mean(),\n",
        "                       df_lab_flytrap['confidence'].mean(),\n",
        "                       df_lab_genome['confidence'].mean(),\n",
        "                       df_lab_northpole['confidence'].mean()],\n",
        "        'Difficulty': [df_lab_dickens['difficulty'].mean(),\n",
        "                       df_lab_flytrap['difficulty'].mean(),\n",
        "                       df_lab_genome['difficulty'].mean(),\n",
        "                       df_lab_northpole['difficulty'].mean()],\n",
        "        'Interest': [df_lab_dickens['interest'].mean(),\n",
        "                     df_lab_flytrap['interest'].mean(),\n",
        "                     df_lab_genome['interest'].mean(),\n",
        "                     df_lab_northpole['interest'].mean()],\n",
        "        'Pressured': [df_lab_dickens['pressured'].mean(),\n",
        "                      df_lab_flytrap['pressured'].mean(),\n",
        "                      df_lab_genome['pressured'].mean(),\n",
        "                      df_lab_northpole['pressured'].mean()],\n",
        "        'Familiarity': [df_lab_dickens['familiarity'].mean(),\n",
        "                        df_lab_flytrap['familiarity'].mean(),\n",
        "                        df_lab_genome['familiarity'].mean(),\n",
        "                        df_lab_northpole['familiarity'].mean()],\n",
        "        'Recognition': [df_lab_dickens['recognition'].mean(),\n",
        "                        df_lab_flytrap['recognition'].mean(),\n",
        "                        df_lab_genome['recognition'].mean(),\n",
        "                        df_lab_northpole['recognition'].mean()]}\n",
        "\n",
        "# Create a DataFrame\n",
        "df = pd.DataFrame(data)\n",
        "\n",
        "# Create a box plot\n",
        "df.boxplot()\n",
        "\n",
        "# Show the plot\n",
        "plt.show()"
      ],
      "metadata": {
        "colab": {
          "base_uri": "https://localhost:8080/",
          "height": 430
        },
        "id": "WnWe2ItiPVVZ",
        "outputId": "6615a418-eb57-47c5-866c-525fa73d5896"
      },
      "execution_count": null,
      "outputs": [
        {
          "output_type": "display_data",
          "data": {
            "text/plain": [
              "<Figure size 640x480 with 1 Axes>"
            ],
            "image/png": "[encoded data removed]"
          },
          "metadata": {}
        }
      ]
    },
    {
      "cell_type": "code",
      "source": [
        "# inspect columns where the text was recognized\n",
        "df_lab_recognition = df_lab[df_lab[\"recognition\"] == 1]\n",
        "df_lab_recognition.head(20)"
      ],
      "metadata": {
        "colab": {
          "base_uri": "https://localhost:8080/",
          "height": 261
        },
        "id": "tO2jEonssCDm",
        "outputId": "fc154a72-69c6-4779-c867-bc7bf5503a0b"
      },
      "execution_count": null,
      "outputs": [
        {
          "output_type": "execute_result",
          "data": {
            "text/plain": [
              "       subj       book  acc  confidence  difficulty  familiarity  recognition  \\\n",
              "24   msd008    dickens  0.6           2           1            2            1   \n",
              "62   msd020     genome  0.4           1           2            1            1   \n",
              "120  msd036    dickens  1.0           2           1            2            1   \n",
              "240  msd070    dickens  0.6           1           2            0            1   \n",
              "303  msd086  northpole  0.4           1           2            0            1   \n",
              "332  msd095    dickens  0.6           2           0            2            1   \n",
              "333  msd095    flytrap  0.8           3           1            3            1   \n",
              "\n",
              "     interest  pressured  sleepiness  sleephours  acc_level  subj_acc  \\\n",
              "24          2          1           2           2          2      0.55   \n",
              "62          2          1           2           1          1      0.40   \n",
              "120         3          1           1           1          3      0.65   \n",
              "240         1          1           2           1          2      0.70   \n",
              "303         0          1           2           1          1      0.30   \n",
              "332         2          1           2           1          2      0.55   \n",
              "333         2          0           1           1          3      0.55   \n",
              "\n",
              "    language sex  native  subj_acc_level  \n",
              "24   Italian   F       0               1  \n",
              "62   Spanish   F       0               0  \n",
              "120  Chinese   F       0               2  \n",
              "240  English   F       1               3  \n",
              "303  English   M       1               0  \n",
              "332  English   F       1               1  \n",
              "333  English   F       1               1  "
            ],
            "text/html": [
              "\n",
              "  <div id=\"df-b53eb3ea-9046-4fc4-a1c8-1e524f0d5919\">\n",
              "    <div class=\"colab-df-container\">\n",
              "      <div>\n",
              "<style scoped>\n",
              "    .dataframe tbody tr th:only-of-type {\n",
              "        vertical-align: middle;\n",
              "    }\n",
              "\n",
              "    .dataframe tbody tr th {\n",
              "        vertical-align: top;\n",
              "    }\n",
              "\n",
              "    .dataframe thead th {\n",
              "        text-align: right;\n",
              "    }\n",
              "</style>\n",
              "<table border=\"1\" class=\"dataframe\">\n",
              "  <thead>\n",
              "    <tr style=\"text-align: right;\">\n",
              "      <th></th>\n",
              "      <th>subj</th>\n",
              "      <th>book</th>\n",
              "      <th>acc</th>\n",
              "      <th>confidence</th>\n",
              "      <th>difficulty</th>\n",
              "      <th>familiarity</th>\n",
              "      <th>recognition</th>\n",
              "      <th>interest</th>\n",
              "      <th>pressured</th>\n",
              "      <th>sleepiness</th>\n",
              "      <th>sleephours</th>\n",
              "      <th>acc_level</th>\n",
              "      <th>subj_acc</th>\n",
              "      <th>language</th>\n",
              "      <th>sex</th>\n",
              "      <th>native</th>\n",
              "      <th>subj_acc_level</th>\n",
              "    </tr>\n",
              "  </thead>\n",
              "  <tbody>\n",
              "    <tr>\n",
              "      <th>24</th>\n",
              "      <td>msd008</td>\n",
              "      <td>dickens</td>\n",
              "      <td>0.6</td>\n",
              "      <td>2</td>\n",
              "      <td>1</td>\n",
              "      <td>2</td>\n",
              "      <td>1</td>\n",
              "      <td>2</td>\n",
              "      <td>1</td>\n",
              "      <td>2</td>\n",
              "      <td>2</td>\n",
              "      <td>2</td>\n",
              "      <td>0.55</td>\n",
              "      <td>Italian</td>\n",
              "      <td>F</td>\n",
              "      <td>0</td>\n",
              "      <td>1</td>\n",
              "    </tr>\n",
              "    <tr>\n",
              "      <th>62</th>\n",
              "      <td>msd020</td>\n",
              "      <td>genome</td>\n",
              "      <td>0.4</td>\n",
              "      <td>1</td>\n",
              "      <td>2</td>\n",
              "      <td>1</td>\n",
              "      <td>1</td>\n",
              "      <td>2</td>\n",
              "      <td>1</td>\n",
              "      <td>2</td>\n",
              "      <td>1</td>\n",
              "      <td>1</td>\n",
              "      <td>0.40</td>\n",
              "      <td>Spanish</td>\n",
              "      <td>F</td>\n",
              "      <td>0</td>\n",
              "      <td>0</td>\n",
              "    </tr>\n",
              "    <tr>\n",
              "      <th>120</th>\n",
              "      <td>msd036</td>\n",
              "      <td>dickens</td>\n",
              "      <td>1.0</td>\n",
              "      <td>2</td>\n",
              "      <td>1</td>\n",
              "      <td>2</td>\n",
              "      <td>1</td>\n",
              "      <td>3</td>\n",
              "      <td>1</td>\n",
              "      <td>1</td>\n",
              "      <td>1</td>\n",
              "      <td>3</td>\n",
              "      <td>0.65</td>\n",
              "      <td>Chinese</td>\n",
              "      <td>F</td>\n",
              "      <td>0</td>\n",
              "      <td>2</td>\n",
              "    </tr>\n",
              "    <tr>\n",
              "      <th>240</th>\n",
              "      <td>msd070</td>\n",
              "      <td>dickens</td>\n",
              "      <td>0.6</td>\n",
              "      <td>1</td>\n",
              "      <td>2</td>\n",
              "      <td>0</td>\n",
              "      <td>1</td>\n",
              "      <td>1</td>\n",
              "      <td>1</td>\n",
              "      <td>2</td>\n",
              "      <td>1</td>\n",
              "      <td>2</td>\n",
              "      <td>0.70</td>\n",
              "      <td>English</td>\n",
              "      <td>F</td>\n",
              "      <td>1</td>\n",
              "      <td>3</td>\n",
              "    </tr>\n",
              "    <tr>\n",
              "      <th>303</th>\n",
              "      <td>msd086</td>\n",
              "      <td>northpole</td>\n",
              "      <td>0.4</td>\n",
              "      <td>1</td>\n",
              "      <td>2</td>\n",
              "      <td>0</td>\n",
              "      <td>1</td>\n",
              "      <td>0</td>\n",
              "      <td>1</td>\n",
              "      <td>2</td>\n",
              "      <td>1</td>\n",
              "      <td>1</td>\n",
              "      <td>0.30</td>\n",
              "      <td>English</td>\n",
              "      <td>M</td>\n",
              "      <td>1</td>\n",
              "      <td>0</td>\n",
              "    </tr>\n",
              "    <tr>\n",
              "      <th>332</th>\n",
              "      <td>msd095</td>\n",
              "      <td>dickens</td>\n",
              "      <td>0.6</td>\n",
              "      <td>2</td>\n",
              "      <td>0</td>\n",
              "      <td>2</td>\n",
              "      <td>1</td>\n",
              "      <td>2</td>\n",
              "      <td>1</td>\n",
              "      <td>2</td>\n",
              "      <td>1</td>\n",
              "      <td>2</td>\n",
              "      <td>0.55</td>\n",
              "      <td>English</td>\n",
              "      <td>F</td>\n",
              "      <td>1</td>\n",
              "      <td>1</td>\n",
              "    </tr>\n",
              "    <tr>\n",
              "      <th>333</th>\n",
              "      <td>msd095</td>\n",
              "      <td>flytrap</td>\n",
              "      <td>0.8</td>\n",
              "      <td>3</td>\n",
              "      <td>1</td>\n",
              "      <td>3</td>\n",
              "      <td>1</td>\n",
              "      <td>2</td>\n",
              "      <td>0</td>\n",
              "      <td>1</td>\n",
              "      <td>1</td>\n",
              "      <td>3</td>\n",
              "      <td>0.55</td>\n",
              "      <td>English</td>\n",
              "      <td>F</td>\n",
              "      <td>1</td>\n",
              "      <td>1</td>\n",
              "    </tr>\n",
              "  </tbody>\n",
              "</table>\n",
              "</div>\n",
              "      <button class=\"colab-df-convert\" onclick=\"convertToInteractive('df-b53eb3ea-9046-4fc4-a1c8-1e524f0d5919')\"\n",
              "              title=\"Convert this dataframe to an interactive table.\"\n",
              "              style=\"display:none;\">\n",
              "        \n",
              "  <svg xmlns=\"http://www.w3.org/2000/svg\" height=\"24px\"viewBox=\"0 0 24 24\"\n",
              "       width=\"24px\">\n",
              "    <path d=\"M0 0h24v24H0V0z\" fill=\"none\"/>\n",
              "    <path d=\"M18.56 5.44l.94 2.06.94-2.06 2.06-.94-2.06-.94-.94-2.06-.94 2.06-2.06.94zm-11 1L8.5 8.5l.94-2.06 2.06-.94-2.06-.94L8.5 2.5l-.94 2.06-2.06.94zm10 10l.94 2.06.94-2.06 2.06-.94-2.06-.94-.94-2.06-.94 2.06-2.06.94z\"/><path d=\"M17.41 7.96l-1.37-1.37c-.4-.4-.92-.59-1.43-.59-.52 0-1.04.2-1.43.59L10.3 9.45l-7.72 7.72c-.78.78-.78 2.05 0 2.83L4 21.41c.39.39.9.59 1.41.59.51 0 1.02-.2 1.41-.59l7.78-7.78 2.81-2.81c.8-.78.8-2.07 0-2.86zM5.41 20L4 18.59l7.72-7.72 1.47 1.35L5.41 20z\"/>\n",
              "  </svg>\n",
              "      </button>\n",
              "      \n",
              "  <style>\n",
              "    .colab-df-container {\n",
              "      display:flex;\n",
              "      flex-wrap:wrap;\n",
              "      gap: 12px;\n",
              "    }\n",
              "\n",
              "    .colab-df-convert {\n",
              "      background-color: #E8F0FE;\n",
              "      border: none;\n",
              "      border-radius: 50%;\n",
              "      cursor: pointer;\n",
              "      display: none;\n",
              "      fill: #1967D2;\n",
              "      height: 32px;\n",
              "      padding: 0 0 0 0;\n",
              "      width: 32px;\n",
              "    }\n",
              "\n",
              "    .colab-df-convert:hover {\n",
              "      background-color: #E2EBFA;\n",
              "      box-shadow: 0px 1px 2px rgba(60, 64, 67, 0.3), 0px 1px 3px 1px rgba(60, 64, 67, 0.15);\n",
              "      fill: #174EA6;\n",
              "    }\n",
              "\n",
              "    [theme=dark] .colab-df-convert {\n",
              "      background-color: #3B4455;\n",
              "      fill: #D2E3FC;\n",
              "    }\n",
              "\n",
              "    [theme=dark] .colab-df-convert:hover {\n",
              "      background-color: #434B5C;\n",
              "      box-shadow: 0px 1px 3px 1px rgba(0, 0, 0, 0.15);\n",
              "      filter: drop-shadow(0px 1px 2px rgba(0, 0, 0, 0.3));\n",
              "      fill: #FFFFFF;\n",
              "    }\n",
              "  </style>\n",
              "\n",
              "      <script>\n",
              "        const buttonEl =\n",
              "          document.querySelector('#df-b53eb3ea-9046-4fc4-a1c8-1e524f0d5919 button.colab-df-convert');\n",
              "        buttonEl.style.display =\n",
              "          google.colab.kernel.accessAllowed ? 'block' : 'none';\n",
              "\n",
              "        async function convertToInteractive(key) {\n",
              "          const element = document.querySelector('#df-b53eb3ea-9046-4fc4-a1c8-1e524f0d5919');\n",
              "          const dataTable =\n",
              "            await google.colab.kernel.invokeFunction('convertToInteractive',\n",
              "                                                     [key], {});\n",
              "          if (!dataTable) return;\n",
              "\n",
              "          const docLinkHtml = 'Like what you see? Visit the ' +\n",
              "            '<a target=\"_blank\" href=https://colab.research.google.com/notebooks/data_table.ipynb>data table notebook</a>'\n",
              "            + ' to learn more about interactive tables.';\n",
              "          element.innerHTML = '';\n",
              "          dataTable['output_type'] = 'display_data';\n",
              "          await google.colab.output.renderOutput(dataTable, element);\n",
              "          const docLink = document.createElement('div');\n",
              "          docLink.innerHTML = docLinkHtml;\n",
              "          element.appendChild(docLink);\n",
              "        }\n",
              "      </script>\n",
              "    </div>\n",
              "  </div>\n",
              "  "
            ]
          },
          "metadata": {},
          "execution_count": 50
        }
      ]
    }
  ]
}