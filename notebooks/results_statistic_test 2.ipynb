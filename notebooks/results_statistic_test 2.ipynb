{
  "nbformat": 4,
  "nbformat_minor": 0,
  "metadata": {
    "colab": {
      "provenance": []
    },
    "kernelspec": {
      "name": "python3",
      "display_name": "Python 3"
    },
    "language_info": {
      "name": "python"
    }
  },
  "cells": [
    {
      "cell_type": "markdown",
      "source": [
        "# Statistic Test for AUC\n",
        "To assess whether the AUC values obtained from my four- or five-fold cross-validation are significantly higher than random guessing (with a one-tailed t-test and a desired p-value < 0.05).<br>\n",
        "Null hypothesis (H0): the performance of my model is not significantly different from random guessing. \n",
        "<br>Alternative hypothesis (Ha): the performance is significantly higher than random guessing.\n"
      ],
      "metadata": {
        "id": "kKYVZm5yovkH"
      }
    },
    {
      "cell_type": "code",
      "source": [
        "from google.colab import drive\n",
        "drive.mount('/content/drive')"
      ],
      "metadata": {
        "colab": {
          "base_uri": "https://localhost:8080/"
        },
        "id": "GQW4i4V00-ds",
        "outputId": "77d683d2-a0f6-4e7b-f341-f5bead96a854"
      },
      "execution_count": 1,
      "outputs": [
        {
          "output_type": "stream",
          "name": "stdout",
          "text": [
            "Mounted at /content/drive\n"
          ]
        }
      ]
    },
    {
      "cell_type": "code",
      "source": [
        "import numpy as np\n",
        "import pandas as pd\n",
        "import matplotlib.pyplot as plt\n",
        "import os"
      ],
      "metadata": {
        "id": "37-GtgoqEaQQ"
      },
      "execution_count": 2,
      "outputs": []
    },
    {
      "cell_type": "code",
      "source": [
        "# Change current directory to the folder containing your CSV file\n",
        "os.chdir('/content/drive/MyDrive/_Masterarbeit/results')\n",
        "\n",
        "# Verify the current directory\n",
        "print(os.getcwd())"
      ],
      "metadata": {
        "colab": {
          "base_uri": "https://localhost:8080/"
        },
        "id": "1yp-b5Gy2TAB",
        "outputId": "00c7fd0c-25cf-4b21-f388-70c38bc4d25a"
      },
      "execution_count": 3,
      "outputs": [
        {
          "output_type": "stream",
          "name": "stdout",
          "text": [
            "/content/drive/MyDrive/_Masterarbeit/results\n"
          ]
        }
      ]
    },
    {
      "cell_type": "code",
      "source": [
        "ls -l"
      ],
      "metadata": {
        "colab": {
          "base_uri": "https://localhost:8080/"
        },
        "id": "FRaXX6r34GrG",
        "outputId": "00b6d90a-9466-416e-fb4a-36d35f5a34be"
      },
      "execution_count": 4,
      "outputs": [
        {
          "output_type": "stream",
          "name": "stdout",
          "text": [
            "total 564\n",
            "drwx------ 2 root root   4096 May 19 06:40 \u001b[0m\u001b[01;34mresults\u001b[0m/\n",
            "-rw------- 1 root root 510029 Jun  1 07:42 results_ROC_curves.ipynb\n",
            "-rw------- 1 root root  30832 May 31 08:55 results_statistic_test2.ipynb\n",
            "-rw------- 1 root root  30832 May 20 17:50 results_statistic_test.ipynb\n"
          ]
        }
      ]
    },
    {
      "cell_type": "code",
      "source": [
        "from scipy.stats import ttest_ind\n",
        "def ttest(results_for_one_model, random_guessing):\n",
        "  \"\"\"In your code, ttest_ind is used to compare the performance scores of two \n",
        "  different models (results_for_one_model and random_guessing). It assesses \n",
        "  whether the mean performance of one model is significantly different from the \n",
        "  mean performance of another model (random guessing).\n",
        "  \"\"\"\n",
        "  p_value = 0.05\n",
        "  #random_guessing = 0.5\n",
        "  tt_test_results = ttest_ind(results_for_one_model, random_guessing)\n",
        "  cur_p_value = tt_test_results[1]\n",
        "  if cur_p_value < p_value:\n",
        "      #print('result is significant')\n",
        "      return 1\n",
        "  else:\n",
        "      #print('NO SIGNIFICANCE DETECT')\n",
        "      return 0"
      ],
      "metadata": {
        "id": "yPRybWKO-96p"
      },
      "execution_count": 5,
      "outputs": []
    },
    {
      "cell_type": "code",
      "source": [
        "from scipy.stats import ttest_1samp\n",
        "def ttest_2(performance_scores):\n",
        "  \"\"\"compare the mean performance scores (performance_scores) against a baseline \n",
        "  value (e.g., random guessing). It assesses whether the mean performance \n",
        "  significantly deviates from the baseline value.\"\"\"\n",
        "  baseline_value = 0.5  # The baseline value for random guessing\n",
        "  alpha = 0.05  # Desired significance level\n",
        "\n",
        "  t_statistic, p_value = ttest_1samp(performance_scores, baseline_value)\n",
        "\n",
        "  if p_value < alpha:\n",
        "    return 1\n",
        "    #print(\"Results are significantly higher than random guessing.\")\n",
        "  else:\n",
        "    return 0\n",
        "    #print(\"No significant difference from random guessing.\")"
      ],
      "metadata": {
        "id": "TvU0dH-TZig_"
      },
      "execution_count": 6,
      "outputs": []
    },
    {
      "cell_type": "markdown",
      "source": [
        "# Subject and Page evaluation settings (5 folds)"
      ],
      "metadata": {
        "id": "5X2oaNybANE2"
      }
    },
    {
      "cell_type": "code",
      "source": [
        "# get data for subj and book page evaluation settings: 5 folds\n",
        "# gets path, results and data needed to identify which model the scores belong to\n",
        "dataset = ['InDiCo', 'SBSAT']\n",
        "versions = ['s1_rm1_lf1', 's1_rm1_lf0', 's1_rm1_lf1_pos_cont', 's1_rm0_lf0', \n",
        "            's0_rm1_lf0', 's0_rm0_lf1']\n",
        "criteria = ['book-page', 'subj']\n",
        "\n",
        "all_data = []\n",
        "\n",
        "for d in dataset: \n",
        "  for v in versions: \n",
        "    for c in criteria: \n",
        "      data_file = {}\n",
        "      data_file['dataset'] = d\n",
        "      data_file['version'] = v\n",
        "      data_file['criterium'] = c\n",
        "      filename = d.lower() + \"_splits_\" + v + \"_\" + c + \"_binary_score_64_tanh.csv\"\n",
        "      path = os.path.join(\"results\", d, v, filename)\n",
        "      data_file['path'] = path\n",
        "      df = pd.read_csv(path)\n",
        "      # results of the different folds\n",
        "      data_file['results'] = df[[\"fold0_auc\",\"fold1_auc\",\"fold2_auc\",\n",
        "                                 \"fold3_auc\",\"fold4_auc\"]].values.tolist()[0]\n",
        "      all_data.append(data_file)\n",
        "\n",
        "print(all_data)"
      ],
      "metadata": {
        "colab": {
          "base_uri": "https://localhost:8080/"
        },
        "id": "z1oSMNBCCAQf",
        "outputId": "729d20b8-f54b-4812-c723-e904cb7fbb10"
      },
      "execution_count": 7,
      "outputs": [
        {
          "output_type": "stream",
          "name": "stdout",
          "text": [
            "[{'dataset': 'InDiCo', 'version': 's1_rm1_lf1', 'criterium': 'book-page', 'path': 'results/InDiCo/s1_rm1_lf1/indico_splits_s1_rm1_lf1_book-page_binary_score_64_tanh.csv', 'results': [0.5172525651774664, 0.4990773115773116, 0.551340383669454, 0.5231220392510716, 0.5072198222354636]}, {'dataset': 'InDiCo', 'version': 's1_rm1_lf1', 'criterium': 'subj', 'path': 'results/InDiCo/s1_rm1_lf1/indico_splits_s1_rm1_lf1_subj_binary_score_64_tanh.csv', 'results': [0.5166736535313611, 0.5060508935508936, 0.4915867355304148, 0.5103423925303309, 0.5508565469983614]}, {'dataset': 'InDiCo', 'version': 's1_rm1_lf0', 'criterium': 'book-page', 'path': 'results/InDiCo/s1_rm1_lf0/indico_splits_s1_rm1_lf0_book-page_binary_score_64_tanh.csv', 'results': [0.5092276520142132, 0.5593240093240093, 0.5152330300049188, 0.503275826557734, 0.5127315159640499]}, {'dataset': 'InDiCo', 'version': 's1_rm1_lf0', 'criterium': 'subj', 'path': 'results/InDiCo/s1_rm1_lf0/indico_splits_s1_rm1_lf0_subj_binary_score_64_tanh.csv', 'results': [0.5123417974208488, 0.5468628593628594, 0.499508116084604, 0.5429437322845458, 0.5198917523213665]}, {'dataset': 'InDiCo', 'version': 's1_rm1_lf1_pos_cont', 'criterium': 'book-page', 'path': 'results/InDiCo/s1_rm1_lf1_pos_cont/indico_splits_s1_rm1_lf1_pos_cont_book-page_binary_score_64_tanh.csv', 'results': [0.4935171876871482, 0.5152777777777777, 0.5278119363830135, 0.4796732019733422, 0.5251551715576741]}, {'dataset': 'InDiCo', 'version': 's1_rm1_lf1_pos_cont', 'criterium': 'subj', 'path': 'results/InDiCo/s1_rm1_lf1_pos_cont/indico_splits_s1_rm1_lf1_pos_cont_subj_binary_score_64_tanh.csv', 'results': [0.5097366950133748, 0.521780303030303, 0.5266847024102312, 0.511391833972479, 0.5076667163215651]}, {'dataset': 'InDiCo', 'version': 's1_rm0_lf0', 'criterium': 'book-page', 'path': 'results/InDiCo/s1_rm0_lf0/indico_splits_s1_rm0_lf0_book-page_binary_score_64_tanh.csv', 'results': [0.5584850481095541, 0.5062111499611499, 0.4744220363994097, 0.4999068252925194, 0.5245394508168231]}, {'dataset': 'InDiCo', 'version': 's1_rm0_lf0', 'criterium': 'subj', 'path': 'results/InDiCo/s1_rm0_lf0/indico_splits_s1_rm0_lf0_subj_binary_score_64_tanh.csv', 'results': [0.5269443446320916, 0.5037587412587412, 0.4707534021970814, 0.5243774458360714, 0.543845275336412]}, {'dataset': 'InDiCo', 'version': 's0_rm1_lf0', 'criterium': 'book-page', 'path': 'results/InDiCo/s0_rm1_lf0/indico_splits_s0_rm1_lf0_book-page_binary_score_64_tanh.csv', 'results': [0.4987872799137622, 0.5362276612276613, 0.4959573290703393, 0.4918349532655283, 0.5017478524256418]}, {'dataset': 'InDiCo', 'version': 's0_rm1_lf0', 'criterium': 'subj', 'path': 'results/InDiCo/s0_rm1_lf0/indico_splits_s0_rm1_lf0_subj_binary_score_64_tanh.csv', 'results': [0.5007086677047151, 0.5084498834498835, 0.4824356451877356, 0.4975235143538088, 0.53395401956403]}, {'dataset': 'InDiCo', 'version': 's0_rm0_lf1', 'criterium': 'book-page', 'path': 'results/InDiCo/s0_rm0_lf1/indico_splits_s0_rm0_lf1_book-page_binary_score_64_tanh.csv', 'results': [0.5023805246137262, 0.5187451437451438, 0.5010042629939335, 0.5253386165027117, 0.4852624261383385]}, {'dataset': 'InDiCo', 'version': 's0_rm0_lf1', 'criterium': 'subj', 'path': 'results/InDiCo/s0_rm0_lf1/indico_splits_s0_rm0_lf1_subj_binary_score_64_tanh.csv', 'results': [0.5336617159739689, 0.487995337995338, 0.4915764879488441, 0.511077982326229, 0.5200903719151895]}, {'dataset': 'SBSAT', 'version': 's1_rm1_lf1', 'criterium': 'book-page', 'path': 'results/SBSAT/s1_rm1_lf1/sbsat_splits_s1_rm1_lf1_book-page_binary_score_64_tanh.csv', 'results': [0.6267827467321476, 0.6286101862128499, 0.5479074335213536, 0.6299420137058513, 0.6028352953542149]}, {'dataset': 'SBSAT', 'version': 's1_rm1_lf1', 'criterium': 'subj', 'path': 'results/SBSAT/s1_rm1_lf1/sbsat_splits_s1_rm1_lf1_subj_binary_score_64_tanh.csv', 'results': [0.5697596547362155, 0.5865828092243186, 0.6012918009669621, 0.5977106709842609, 0.5481789993693504]}, {'dataset': 'SBSAT', 'version': 's1_rm1_lf0', 'criterium': 'book-page', 'path': 'results/SBSAT/s1_rm1_lf0/sbsat_splits_s1_rm1_lf0_book-page_binary_score_64_tanh.csv', 'results': [0.4997643673884465, 0.5293624367986188, 0.5143407534246576, 0.5919120415693953, 0.4987518393945764]}, {'dataset': 'SBSAT', 'version': 's1_rm1_lf0', 'criterium': 'subj', 'path': 'results/SBSAT/s1_rm1_lf0/sbsat_splits_s1_rm1_lf0_subj_binary_score_64_tanh.csv', 'results': [0.5584492893816504, 0.520767048957948, 0.5531073730862208, 0.5451966764565604, 0.5207326045827203]}, {'dataset': 'SBSAT', 'version': 's1_rm1_lf1_pos_cont', 'criterium': 'book-page', 'path': 'results/SBSAT/s1_rm1_lf1_pos_cont/sbsat_splits_s1_rm1_lf1_pos_cont_book-page_binary_score_64_tanh.csv', 'results': [0.5414341344842126, 0.5640152916512517, 0.5279386583400483, 0.5432386976930994, 0.555904456590288]}, {'dataset': 'SBSAT', 'version': 's1_rm1_lf1_pos_cont', 'criterium': 'subj', 'path': 'results/SBSAT/s1_rm1_lf1_pos_cont/sbsat_splits_s1_rm1_lf1_pos_cont_subj_binary_score_64_tanh.csv', 'results': [0.4703226926606642, 0.5448760636330005, 0.5735420024174053, 0.5773527123026332, 0.4860862938826992]}, {'dataset': 'SBSAT', 'version': 's1_rm0_lf0', 'criterium': 'book-page', 'path': 'results/SBSAT/s1_rm0_lf0/sbsat_splits_s1_rm0_lf0_book-page_binary_score_64_tanh.csv', 'results': [0.4800580400327405, 0.5246269577013195, 0.5700418009669621, 0.5535306373471898, 0.6024148623081774]}, {'dataset': 'SBSAT', 'version': 's1_rm0_lf0', 'criterium': 'subj', 'path': 'results/SBSAT/s1_rm0_lf0/sbsat_splits_s1_rm0_lf0_subj_binary_score_64_tanh.csv', 'results': [0.4937619366520326, 0.5832531754840301, 0.5422038678485093, 0.5498782538845797, 0.5515161866722724]}, {'dataset': 'SBSAT', 'version': 's0_rm1_lf0', 'criterium': 'book-page', 'path': 'results/SBSAT/s0_rm1_lf0/sbsat_splits_s0_rm1_lf0_book-page_binary_score_64_tanh.csv', 'results': [0.5525336706600195, 0.5395239856949068, 0.5549959709911362, 0.5187137585661571, 0.5393236283371873]}, {'dataset': 'SBSAT', 'version': 's0_rm1_lf0', 'criterium': 'subj', 'path': 'results/SBSAT/s0_rm1_lf0/sbsat_splits_s0_rm1_lf0_subj_binary_score_64_tanh.csv', 'results': [0.589453580375524, 0.55784930324331, 0.5517224012892828, 0.4867836433466376, 0.5246347487912549]}, {'dataset': 'SBSAT', 'version': 's0_rm0_lf1', 'criterium': 'book-page', 'path': 'results/SBSAT/s0_rm0_lf1/sbsat_splits_s0_rm0_lf1_book-page_binary_score_64_tanh.csv', 'results': [0.6267579432993526, 0.5705759033173018, 0.5410077558420627, 0.5787333383537918, 0.5600036787891529]}, {'dataset': 'SBSAT', 'version': 's0_rm0_lf1', 'criterium': 'subj', 'path': 'results/SBSAT/s0_rm0_lf1/sbsat_splits_s0_rm0_lf1_subj_binary_score_64_tanh.csv', 'results': [0.5654686608626635, 0.6366013071895424, 0.5648292707493957, 0.6032833797725734, 0.5313616775278537]}]\n"
          ]
        }
      ]
    },
    {
      "cell_type": "code",
      "source": [
        "pd.read_csv(all_data[0]['path'])"
      ],
      "metadata": {
        "colab": {
          "base_uri": "https://localhost:8080/",
          "height": 237
        },
        "id": "oZa-fOImQRfT",
        "outputId": "b2d4dad5-472f-4cc8-e09d-a39ff14d7c26"
      },
      "execution_count": 8,
      "outputs": [
        {
          "output_type": "execute_result",
          "data": {
            "text/plain": [
              "  ahn_baseline  fold0_auc  fold1_auc  fold2_auc  fold3_auc  fold4_auc  \\\n",
              "0     nn_laura   0.517253   0.499077    0.55134   0.523122    0.50722   \n",
              "\n",
              "                                           fold0_tpr  \\\n",
              "0  [0.         0.00413223 0.00826446 0.00826446 0...   \n",
              "\n",
              "                                           fold1_tpr  \\\n",
              "0  [0.         0.         0.00384615 0.00384615 0...   \n",
              "\n",
              "                                           fold2_tpr  \\\n",
              "0  [0.         0.         0.00438596 0.00438596 0...   \n",
              "\n",
              "                                           fold3_tpr  ...  \\\n",
              "0  [0.         0.         0.         0.00395257 0...  ...   \n",
              "\n",
              "                                        fold2_y_pred  \\\n",
              "0  [[0.98806363]\\n [0.40452462]\\n [0.963297  ]\\n ...   \n",
              "\n",
              "                                        fold3_y_pred  \\\n",
              "0  [[0.38164088]\\n [0.38164088]\\n [0.38164088]\\n ...   \n",
              "\n",
              "                                        fold4_y_pred  \\\n",
              "0  [[0.29683265]\\n [0.11949039]\\n [0.29683265]\\n ...   \n",
              "\n",
              "                                        fold0_y_test  \\\n",
              "0  [0 0 0 1 1 1 1 0 0 0 0 0 0 0 1 0 0 1 0 0 0 0 0...   \n",
              "\n",
              "                                        fold1_y_test  \\\n",
              "0  [0 0 0 0 0 0 0 1 0 0 0 0 0 0 0 0 0 1 0 0 0 0 0...   \n",
              "\n",
              "                                        fold2_y_test  \\\n",
              "0  [0 0 0 0 1 0 1 0 0 0 0 1 1 0 0 0 0 0 1 0 0 0 0...   \n",
              "\n",
              "                                        fold3_y_test  \\\n",
              "0  [0 0 0 0 1 0 0 0 0 0 0 0 0 0 0 1 0 1 0 0 0 0 0...   \n",
              "\n",
              "                                        fold4_y_test   avg_auc   std_auc  \n",
              "0  [0 0 0 1 0 0 0 0 0 0 0 0 1 0 0 0 0 1 0 0 0 0 0...  0.519602  0.017888  \n",
              "\n",
              "[1 rows x 28 columns]"
            ],
            "text/html": [
              "\n",
              "  <div id=\"df-31466076-335d-493f-9144-d0914818fe3d\">\n",
              "    <div class=\"colab-df-container\">\n",
              "      <div>\n",
              "<style scoped>\n",
              "    .dataframe tbody tr th:only-of-type {\n",
              "        vertical-align: middle;\n",
              "    }\n",
              "\n",
              "    .dataframe tbody tr th {\n",
              "        vertical-align: top;\n",
              "    }\n",
              "\n",
              "    .dataframe thead th {\n",
              "        text-align: right;\n",
              "    }\n",
              "</style>\n",
              "<table border=\"1\" class=\"dataframe\">\n",
              "  <thead>\n",
              "    <tr style=\"text-align: right;\">\n",
              "      <th></th>\n",
              "      <th>ahn_baseline</th>\n",
              "      <th>fold0_auc</th>\n",
              "      <th>fold1_auc</th>\n",
              "      <th>fold2_auc</th>\n",
              "      <th>fold3_auc</th>\n",
              "      <th>fold4_auc</th>\n",
              "      <th>fold0_tpr</th>\n",
              "      <th>fold1_tpr</th>\n",
              "      <th>fold2_tpr</th>\n",
              "      <th>fold3_tpr</th>\n",
              "      <th>...</th>\n",
              "      <th>fold2_y_pred</th>\n",
              "      <th>fold3_y_pred</th>\n",
              "      <th>fold4_y_pred</th>\n",
              "      <th>fold0_y_test</th>\n",
              "      <th>fold1_y_test</th>\n",
              "      <th>fold2_y_test</th>\n",
              "      <th>fold3_y_test</th>\n",
              "      <th>fold4_y_test</th>\n",
              "      <th>avg_auc</th>\n",
              "      <th>std_auc</th>\n",
              "    </tr>\n",
              "  </thead>\n",
              "  <tbody>\n",
              "    <tr>\n",
              "      <th>0</th>\n",
              "      <td>nn_laura</td>\n",
              "      <td>0.517253</td>\n",
              "      <td>0.499077</td>\n",
              "      <td>0.55134</td>\n",
              "      <td>0.523122</td>\n",
              "      <td>0.50722</td>\n",
              "      <td>[0.         0.00413223 0.00826446 0.00826446 0...</td>\n",
              "      <td>[0.         0.         0.00384615 0.00384615 0...</td>\n",
              "      <td>[0.         0.         0.00438596 0.00438596 0...</td>\n",
              "      <td>[0.         0.         0.         0.00395257 0...</td>\n",
              "      <td>...</td>\n",
              "      <td>[[0.98806363]\\n [0.40452462]\\n [0.963297  ]\\n ...</td>\n",
              "      <td>[[0.38164088]\\n [0.38164088]\\n [0.38164088]\\n ...</td>\n",
              "      <td>[[0.29683265]\\n [0.11949039]\\n [0.29683265]\\n ...</td>\n",
              "      <td>[0 0 0 1 1 1 1 0 0 0 0 0 0 0 1 0 0 1 0 0 0 0 0...</td>\n",
              "      <td>[0 0 0 0 0 0 0 1 0 0 0 0 0 0 0 0 0 1 0 0 0 0 0...</td>\n",
              "      <td>[0 0 0 0 1 0 1 0 0 0 0 1 1 0 0 0 0 0 1 0 0 0 0...</td>\n",
              "      <td>[0 0 0 0 1 0 0 0 0 0 0 0 0 0 0 1 0 1 0 0 0 0 0...</td>\n",
              "      <td>[0 0 0 1 0 0 0 0 0 0 0 0 1 0 0 0 0 1 0 0 0 0 0...</td>\n",
              "      <td>0.519602</td>\n",
              "      <td>0.017888</td>\n",
              "    </tr>\n",
              "  </tbody>\n",
              "</table>\n",
              "<p>1 rows × 28 columns</p>\n",
              "</div>\n",
              "      <button class=\"colab-df-convert\" onclick=\"convertToInteractive('df-31466076-335d-493f-9144-d0914818fe3d')\"\n",
              "              title=\"Convert this dataframe to an interactive table.\"\n",
              "              style=\"display:none;\">\n",
              "        \n",
              "  <svg xmlns=\"http://www.w3.org/2000/svg\" height=\"24px\"viewBox=\"0 0 24 24\"\n",
              "       width=\"24px\">\n",
              "    <path d=\"M0 0h24v24H0V0z\" fill=\"none\"/>\n",
              "    <path d=\"M18.56 5.44l.94 2.06.94-2.06 2.06-.94-2.06-.94-.94-2.06-.94 2.06-2.06.94zm-11 1L8.5 8.5l.94-2.06 2.06-.94-2.06-.94L8.5 2.5l-.94 2.06-2.06.94zm10 10l.94 2.06.94-2.06 2.06-.94-2.06-.94-.94-2.06-.94 2.06-2.06.94z\"/><path d=\"M17.41 7.96l-1.37-1.37c-.4-.4-.92-.59-1.43-.59-.52 0-1.04.2-1.43.59L10.3 9.45l-7.72 7.72c-.78.78-.78 2.05 0 2.83L4 21.41c.39.39.9.59 1.41.59.51 0 1.02-.2 1.41-.59l7.78-7.78 2.81-2.81c.8-.78.8-2.07 0-2.86zM5.41 20L4 18.59l7.72-7.72 1.47 1.35L5.41 20z\"/>\n",
              "  </svg>\n",
              "      </button>\n",
              "      \n",
              "  <style>\n",
              "    .colab-df-container {\n",
              "      display:flex;\n",
              "      flex-wrap:wrap;\n",
              "      gap: 12px;\n",
              "    }\n",
              "\n",
              "    .colab-df-convert {\n",
              "      background-color: #E8F0FE;\n",
              "      border: none;\n",
              "      border-radius: 50%;\n",
              "      cursor: pointer;\n",
              "      display: none;\n",
              "      fill: #1967D2;\n",
              "      height: 32px;\n",
              "      padding: 0 0 0 0;\n",
              "      width: 32px;\n",
              "    }\n",
              "\n",
              "    .colab-df-convert:hover {\n",
              "      background-color: #E2EBFA;\n",
              "      box-shadow: 0px 1px 2px rgba(60, 64, 67, 0.3), 0px 1px 3px 1px rgba(60, 64, 67, 0.15);\n",
              "      fill: #174EA6;\n",
              "    }\n",
              "\n",
              "    [theme=dark] .colab-df-convert {\n",
              "      background-color: #3B4455;\n",
              "      fill: #D2E3FC;\n",
              "    }\n",
              "\n",
              "    [theme=dark] .colab-df-convert:hover {\n",
              "      background-color: #434B5C;\n",
              "      box-shadow: 0px 1px 3px 1px rgba(0, 0, 0, 0.15);\n",
              "      filter: drop-shadow(0px 1px 2px rgba(0, 0, 0, 0.3));\n",
              "      fill: #FFFFFF;\n",
              "    }\n",
              "  </style>\n",
              "\n",
              "      <script>\n",
              "        const buttonEl =\n",
              "          document.querySelector('#df-31466076-335d-493f-9144-d0914818fe3d button.colab-df-convert');\n",
              "        buttonEl.style.display =\n",
              "          google.colab.kernel.accessAllowed ? 'block' : 'none';\n",
              "\n",
              "        async function convertToInteractive(key) {\n",
              "          const element = document.querySelector('#df-31466076-335d-493f-9144-d0914818fe3d');\n",
              "          const dataTable =\n",
              "            await google.colab.kernel.invokeFunction('convertToInteractive',\n",
              "                                                     [key], {});\n",
              "          if (!dataTable) return;\n",
              "\n",
              "          const docLinkHtml = 'Like what you see? Visit the ' +\n",
              "            '<a target=\"_blank\" href=https://colab.research.google.com/notebooks/data_table.ipynb>data table notebook</a>'\n",
              "            + ' to learn more about interactive tables.';\n",
              "          element.innerHTML = '';\n",
              "          dataTable['output_type'] = 'display_data';\n",
              "          await google.colab.output.renderOutput(dataTable, element);\n",
              "          const docLink = document.createElement('div');\n",
              "          docLink.innerHTML = docLinkHtml;\n",
              "          element.appendChild(docLink);\n",
              "        }\n",
              "      </script>\n",
              "    </div>\n",
              "  </div>\n",
              "  "
            ]
          },
          "metadata": {},
          "execution_count": 8
        }
      ]
    },
    {
      "cell_type": "code",
      "source": [
        "# significance test for subject and page settings\n",
        "\n",
        "random_guessing = [0.5, 0.5, 0.5, 0.5, 0.5] # 5 folds\n",
        "significant_results = []\n",
        "\n",
        "print(\"Are the model result significant or not?\")\n",
        "\n",
        "for d in all_data: \n",
        "  decision = ttest_2(d['results'])\n",
        "  if decision == 1: \n",
        "    significant_results.append((d['dataset'], d['version'], d['criterium']))\n",
        "    print(d['dataset'], \",\", d['version'], \",\",  d['criterium'],\": \", \"\\tresult is significant\")\n",
        "  elif decision == 0: \n",
        "    print(d['dataset'], \", \", d['version'], \", \", d['criterium'], \": \", '\\tNO SIGNIFICANCE DETECT')"
      ],
      "metadata": {
        "colab": {
          "base_uri": "https://localhost:8080/"
        },
        "id": "ixRWAlJuBBKD",
        "outputId": "598dbde2-ff6b-49a5-9985-549e199365ab"
      },
      "execution_count": 9,
      "outputs": [
        {
          "output_type": "stream",
          "name": "stdout",
          "text": [
            "Are the model result significant or not?\n",
            "InDiCo ,  s1_rm1_lf1 ,  book-page :  \tNO SIGNIFICANCE DETECT\n",
            "InDiCo ,  s1_rm1_lf1 ,  subj :  \tNO SIGNIFICANCE DETECT\n",
            "InDiCo ,  s1_rm1_lf0 ,  book-page :  \tNO SIGNIFICANCE DETECT\n",
            "InDiCo ,  s1_rm1_lf0 ,  subj :  \tNO SIGNIFICANCE DETECT\n",
            "InDiCo ,  s1_rm1_lf1_pos_cont ,  book-page :  \tNO SIGNIFICANCE DETECT\n",
            "InDiCo , s1_rm1_lf1_pos_cont , subj :  \tresult is significant\n",
            "InDiCo ,  s1_rm0_lf0 ,  book-page :  \tNO SIGNIFICANCE DETECT\n",
            "InDiCo ,  s1_rm0_lf0 ,  subj :  \tNO SIGNIFICANCE DETECT\n",
            "InDiCo ,  s0_rm1_lf0 ,  book-page :  \tNO SIGNIFICANCE DETECT\n",
            "InDiCo ,  s0_rm1_lf0 ,  subj :  \tNO SIGNIFICANCE DETECT\n",
            "InDiCo ,  s0_rm0_lf1 ,  book-page :  \tNO SIGNIFICANCE DETECT\n",
            "InDiCo ,  s0_rm0_lf1 ,  subj :  \tNO SIGNIFICANCE DETECT\n",
            "SBSAT , s1_rm1_lf1 , book-page :  \tresult is significant\n",
            "SBSAT , s1_rm1_lf1 , subj :  \tresult is significant\n",
            "SBSAT ,  s1_rm1_lf0 ,  book-page :  \tNO SIGNIFICANCE DETECT\n",
            "SBSAT , s1_rm1_lf0 , subj :  \tresult is significant\n",
            "SBSAT , s1_rm1_lf1_pos_cont , book-page :  \tresult is significant\n",
            "SBSAT ,  s1_rm1_lf1_pos_cont ,  subj :  \tNO SIGNIFICANCE DETECT\n",
            "SBSAT ,  s1_rm0_lf0 ,  book-page :  \tNO SIGNIFICANCE DETECT\n",
            "SBSAT , s1_rm0_lf0 , subj :  \tresult is significant\n",
            "SBSAT , s0_rm1_lf0 , book-page :  \tresult is significant\n",
            "SBSAT ,  s0_rm1_lf0 ,  subj :  \tNO SIGNIFICANCE DETECT\n",
            "SBSAT , s0_rm0_lf1 , book-page :  \tresult is significant\n",
            "SBSAT , s0_rm0_lf1 , subj :  \tresult is significant\n"
          ]
        }
      ]
    },
    {
      "cell_type": "markdown",
      "source": [
        "# Book evaluation setting (4 folds)"
      ],
      "metadata": {
        "id": "qFVZ0SdCBGeC"
      }
    },
    {
      "cell_type": "code",
      "source": [
        "# get paths (subj and book page: 5 pages)\n",
        "# example: SBSAT/s1_rm1_lf1/sbsat_splits_s1_rm1_lf1_book-page_binary_score_64_tanh.csv\n",
        "dataset = ['InDiCo', 'SBSAT']\n",
        "versions = ['s1_rm1_lf1', 's1_rm1_lf0', 's1_rm1_lf1_pos_cont', 's1_rm0_lf0', 's0_rm1_lf0', 's0_rm0_lf1']\n",
        "criteria = ['book']\n",
        "\n",
        "all_data_book = []\n",
        "\n",
        "for d in dataset: \n",
        "  for v in versions: \n",
        "    for c in criteria:\n",
        "      data_file = {}\n",
        "      data_file['dataset'] = d\n",
        "      data_file['version'] = v\n",
        "      filename = d.lower() + \"_splits_\" + v + \"_\" + c + \"_binary_score_64_tanh.csv\"\n",
        "      path = os.path.join(\"results\", d, v, filename)\n",
        "      data_file['path'] = path\n",
        "      df = pd.read_csv(path)\n",
        "      data_file['results'] = df[[\"fold0_auc\",\"fold1_auc\",\"fold2_auc\",\"fold3_auc\"]].values.tolist()[0]\n",
        "      all_data_book.append(data_file)\n",
        "  \n",
        "print(all_data_book)"
      ],
      "metadata": {
        "colab": {
          "base_uri": "https://localhost:8080/"
        },
        "id": "sfzQz4j4BA50",
        "outputId": "af377be3-b6c6-446c-b5ba-43f04f49c754"
      },
      "execution_count": 10,
      "outputs": [
        {
          "output_type": "stream",
          "name": "stdout",
          "text": [
            "[{'dataset': 'InDiCo', 'version': 's1_rm1_lf1', 'path': 'results/InDiCo/s1_rm1_lf1/indico_splits_s1_rm1_lf1_book_binary_score_64_tanh.csv', 'results': [0.49956130312047, 0.5169334424301311, 0.5178368121442125, 0.4896774193548386]}, {'dataset': 'InDiCo', 'version': 's1_rm1_lf0', 'path': 'results/InDiCo/s1_rm1_lf0/indico_splits_s1_rm1_lf0_book_binary_score_64_tanh.csv', 'results': [0.4749434144604664, 0.5523536781814928, 0.5005249841872232, 0.4900822264389627]}, {'dataset': 'InDiCo', 'version': 's1_rm1_lf1_pos_cont', 'path': 'results/InDiCo/s1_rm1_lf1_pos_cont/indico_splits_s1_rm1_lf1_pos_cont_book_binary_score_64_tanh.csv', 'results': [0.511088222578266, 0.5246874121046307, 0.4862365591397848, 0.5143516761543327]}, {'dataset': 'InDiCo', 'version': 's1_rm0_lf0', 'path': 'results/InDiCo/s1_rm0_lf0/indico_splits_s1_rm0_lf0_book_binary_score_64_tanh.csv', 'results': [0.5235942626077669, 0.53608504436319, 0.4937824161922833, 0.5119165085388994]}, {'dataset': 'InDiCo', 'version': 's0_rm1_lf0', 'path': 'results/InDiCo/s0_rm1_lf0/indico_splits_s0_rm1_lf0_book_binary_score_64_tanh.csv', 'results': [0.4886828920932834, 0.5383895011378454, 0.4811385199240987, 0.52719165085389]}, {'dataset': 'InDiCo', 'version': 's0_rm0_lf1', 'path': 'results/InDiCo/s0_rm0_lf1/indico_splits_s0_rm0_lf1_book_binary_score_64_tanh.csv', 'results': [0.5079219755347015, 0.4991594006494668, 0.5122201138519925, 0.5079190385831751]}, {'dataset': 'SBSAT', 'version': 's1_rm1_lf1', 'path': 'results/SBSAT/s1_rm1_lf1/sbsat_splits_s1_rm1_lf1_book_binary_score_64_tanh.csv', 'results': [0.5633364602876798, 0.5021242144414518, 0.5161793372319688, 0.5133720930232558]}, {'dataset': 'SBSAT', 'version': 's1_rm1_lf0', 'path': 'results/SBSAT/s1_rm1_lf0/sbsat_splits_s1_rm1_lf0_book_binary_score_64_tanh.csv', 'results': [0.5807379612257662, 0.529185904835193, 0.5066439246263807, 0.524468438538206]}, {'dataset': 'SBSAT', 'version': 's1_rm1_lf1_pos_cont', 'path': 'results/SBSAT/s1_rm1_lf1_pos_cont/sbsat_splits_s1_rm1_lf1_pos_cont_book_binary_score_64_tanh.csv', 'results': [0.5189180737961226, 0.514773310247531, 0.5282163742690058, 0.5111627906976745]}, {'dataset': 'SBSAT', 'version': 's1_rm0_lf0', 'path': 'results/SBSAT/s1_rm0_lf0/sbsat_splits_s1_rm0_lf0_book_binary_score_64_tanh.csv', 'results': [0.552439024390244, 0.5334343337180967, 0.5188921377517869, 0.5850332225913621]}, {'dataset': 'SBSAT', 'version': 's0_rm1_lf0', 'path': 'results/SBSAT/s0_rm1_lf0/sbsat_splits_s0_rm1_lf0_book_binary_score_64_tanh.csv', 'results': [0.5770950594121327, 0.4977956265230217, 0.5183560753736192, 0.5139700996677741]}, {'dataset': 'SBSAT', 'version': 's0_rm0_lf1', 'path': 'results/SBSAT/s0_rm0_lf1/sbsat_splits_s0_rm0_lf1_book_binary_score_64_tanh.csv', 'results': [0.5083724202626643, 0.5783233936129281, 0.4969948018193632, 0.4976245847176079]}]\n"
          ]
        }
      ]
    },
    {
      "cell_type": "code",
      "source": [
        "random_guessing = [0.5, 0.5, 0.5, 0.5] # 4 folds\n",
        "\n",
        "print(\"Model result significant or not?\")\n",
        "for d in all_data_book: \n",
        "  decision = ttest_2(d['results'])\n",
        "  if decision == 1: \n",
        "    significant_results.append((d['dataset'], d['version'], 'book'))\n",
        "    print(d['dataset'], \",\", d['version'], \",\",  'book',\": \", \"\\tresult is significant\")\n",
        "  elif decision == 0: \n",
        "    print(d['dataset'], \", \", d['version'], \", \", 'book', \": \", '\\tNO SIGNIFICANCE DETECT')\n"
      ],
      "metadata": {
        "colab": {
          "base_uri": "https://localhost:8080/"
        },
        "id": "KXl4cGvSI3Dl",
        "outputId": "5c8e0e09-8734-4879-d33c-fd78cd210c88"
      },
      "execution_count": 11,
      "outputs": [
        {
          "output_type": "stream",
          "name": "stdout",
          "text": [
            "Model result significant or not?\n",
            "InDiCo ,  s1_rm1_lf1 ,  book :  \tNO SIGNIFICANCE DETECT\n",
            "InDiCo ,  s1_rm1_lf0 ,  book :  \tNO SIGNIFICANCE DETECT\n",
            "InDiCo ,  s1_rm1_lf1_pos_cont ,  book :  \tNO SIGNIFICANCE DETECT\n",
            "InDiCo ,  s1_rm0_lf0 ,  book :  \tNO SIGNIFICANCE DETECT\n",
            "InDiCo ,  s0_rm1_lf0 ,  book :  \tNO SIGNIFICANCE DETECT\n",
            "InDiCo ,  s0_rm0_lf1 ,  book :  \tNO SIGNIFICANCE DETECT\n",
            "SBSAT ,  s1_rm1_lf1 ,  book :  \tNO SIGNIFICANCE DETECT\n",
            "SBSAT ,  s1_rm1_lf0 ,  book :  \tNO SIGNIFICANCE DETECT\n",
            "SBSAT , s1_rm1_lf1_pos_cont , book :  \tresult is significant\n",
            "SBSAT , s1_rm0_lf0 , book :  \tresult is significant\n",
            "SBSAT ,  s0_rm1_lf0 ,  book :  \tNO SIGNIFICANCE DETECT\n",
            "SBSAT ,  s0_rm0_lf1 ,  book :  \tNO SIGNIFICANCE DETECT\n"
          ]
        }
      ]
    },
    {
      "cell_type": "markdown",
      "source": [
        "# Overview: Statistically significant results"
      ],
      "metadata": {
        "id": "jodrHKf4NOD-"
      }
    },
    {
      "cell_type": "code",
      "source": [
        "print(\"\\nSummary: Models where the result is significant: \")\n",
        "for i in sorted(significant_results): \n",
        "  print(i)"
      ],
      "metadata": {
        "colab": {
          "base_uri": "https://localhost:8080/"
        },
        "id": "uGZRd6E0IIdb",
        "outputId": "86eae060-86dd-43c7-f6db-a4b236a98beb"
      },
      "execution_count": 12,
      "outputs": [
        {
          "output_type": "stream",
          "name": "stdout",
          "text": [
            "\n",
            "Summary: Models where the result is significant: \n",
            "('InDiCo', 's1_rm1_lf1_pos_cont', 'subj')\n",
            "('SBSAT', 's0_rm0_lf1', 'book-page')\n",
            "('SBSAT', 's0_rm0_lf1', 'subj')\n",
            "('SBSAT', 's0_rm1_lf0', 'book-page')\n",
            "('SBSAT', 's1_rm0_lf0', 'book')\n",
            "('SBSAT', 's1_rm0_lf0', 'subj')\n",
            "('SBSAT', 's1_rm1_lf0', 'subj')\n",
            "('SBSAT', 's1_rm1_lf1', 'book-page')\n",
            "('SBSAT', 's1_rm1_lf1', 'subj')\n",
            "('SBSAT', 's1_rm1_lf1_pos_cont', 'book')\n",
            "('SBSAT', 's1_rm1_lf1_pos_cont', 'book-page')\n"
          ]
        }
      ]
    }
  ]
}