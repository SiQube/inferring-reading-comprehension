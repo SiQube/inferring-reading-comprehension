{
  "nbformat": 4,
  "nbformat_minor": 0,
  "metadata": {
    "colab": {
      "provenance": []
    },
    "kernelspec": {
      "name": "python3",
      "display_name": "Python 3"
    },
    "language_info": {
      "name": "python"
    }
  },
  "cells": [
    {
      "cell_type": "markdown",
      "source": [
        "#SB-SAT Analysis of annotated test\n",
        "Download data from: https://github.com/ahnchive/SB-SAT/"
      ],
      "metadata": {
        "id": "39Sq936-j8Ac"
      }
    },
    {
      "cell_type": "markdown",
      "source": [
        "Analysis of the texts after annotation!!\n",
        "- Text length, word length etc. for dataset chapter\n",
        "- Annotations -> to get description for features for methods chapter\n",
        "- Other information in this dataframe (e.g. participant age, sex, ...) is analysed in ahn_SB-SAT_analysis_fixation_labels.ipynb (raw data before annotation)\n",
        "## 0. Load data"
      ],
      "metadata": {
        "id": "SMxrfYDWPs2Z"
      }
    },
    {
      "cell_type": "code",
      "source": [
        "import os\n",
        "import pandas as pd\n",
        "import numpy as np\n",
        "import matplotlib.pyplot as plt"
      ],
      "metadata": {
        "id": "PuCEQ_sVL47o"
      },
      "execution_count": 1,
      "outputs": []
    },
    {
      "cell_type": "code",
      "execution_count": 2,
      "metadata": {
        "id": "5crXIqhEj7Qa",
        "colab": {
          "base_uri": "https://localhost:8080/"
        },
        "outputId": "434cb443-078b-49d5-8b20-67a6e8987b49"
      },
      "outputs": [
        {
          "output_type": "stream",
          "name": "stdout",
          "text": [
            "Mounted at /content/drive\n"
          ]
        }
      ],
      "source": [
        "from google.colab import drive\n",
        "drive.mount('/content/drive')"
      ]
    },
    {
      "cell_type": "code",
      "source": [
        "# filenames\n",
        "path_texts = \"/content/drive/MyDrive/_Masterarbeit/SBSAT_Data/SBSAT_annotated.csv\""
      ],
      "metadata": {
        "id": "s3iT8JnOKF6s"
      },
      "execution_count": null,
      "outputs": []
    },
    {
      "cell_type": "markdown",
      "source": [
        "# helper functions"
      ],
      "metadata": {
        "id": "kKCStyEDL22G"
      }
    },
    {
      "cell_type": "code",
      "source": [
        "def get_columns(df):\n",
        "  \"\"\"Function to get all column labels of a pd dataframe.\"\"\"\n",
        "  column_names = list(df.columns.values)\n",
        "  data_types = list(df.dtypes)\n",
        "\n",
        "  columns = []\n",
        "  i = 1\n",
        "  for column, dtype in zip(column_names, data_types): \n",
        "    columns.append(''.join([\"Column \", str(i),\":\\t\", column, \"\\t(\",str(dtype),\")\"]))\n",
        "    i+=1\n",
        "    \n",
        "  return columns"
      ],
      "metadata": {
        "id": "TxSGRKdDNi0X"
      },
      "execution_count": null,
      "outputs": []
    },
    {
      "cell_type": "markdown",
      "source": [
        "## check out data"
      ],
      "metadata": {
        "id": "I14oWBjFodP3"
      }
    },
    {
      "cell_type": "code",
      "source": [
        "df = pd.read_csv(path_texts)"
      ],
      "metadata": {
        "id": "RDLswQzj7pVY"
      },
      "execution_count": null,
      "outputs": []
    },
    {
      "cell_type": "code",
      "source": [
        "df.head()"
      ],
      "metadata": {
        "colab": {
          "base_uri": "https://localhost:8080/",
          "height": 721
        },
        "id": "tlzR8MBLocxx",
        "outputId": "2c471cb6-b249-42fb-87ca-918f78b25449"
      },
      "execution_count": null,
      "outputs": [
        {
          "output_type": "execute_result",
          "data": {
            "text/plain": [
              "   Unnamed: 0  text_number  screen_number  sentence_number  \\\n",
              "0           0            1              1                1   \n",
              "1           1            1              1                1   \n",
              "2           2            1              1                1   \n",
              "3           3            1              1                1   \n",
              "4           4            1              1                1   \n",
              "\n",
              "                                            text_str  w_in_sent_id     word  \\\n",
              "0  Even then my only friends were made of paper a...             1     Even   \n",
              "1  Even then my only friends were made of paper a...             2     then   \n",
              "2  Even then my only friends were made of paper a...             3       my   \n",
              "3  Even then my only friends were made of paper a...             4     only   \n",
              "4  Even then my only friends were made of paper a...             5  friends   \n",
              "\n",
              "    lemma  word_n_char   pos  ... t_adv_TTR  t_genre      tf     idf  tf_idf  \\\n",
              "0    even            4   ADV  ...    0.7941  fiction  0.0909  2.8034  0.2548   \n",
              "1    then            4   ADV  ...    0.7941  fiction  0.0909  3.4965  0.3178   \n",
              "2      my            2  PRON  ...    0.7941  fiction  0.0909  0.9316  0.0847   \n",
              "3    only            4   ADJ  ...    0.7941  fiction  0.0909  2.3979  0.2180   \n",
              "4  friend            7  NOUN  ...    0.7941  fiction  0.0909  1.7047  0.1550   \n",
              "\n",
              "   lex_overlap  semantic_similarity_adjacent_sent pron_det_to_noun_ratio  \\\n",
              "0            0                                 11                   0.00   \n",
              "1            0                                 11                   0.00   \n",
              "2            0                                 11                   0.25   \n",
              "3            0                                 11                   0.00   \n",
              "4            0                                 11                   0.00   \n",
              "\n",
              "     voice word_in_screen_id  \n",
              "0  passive                 1  \n",
              "1  passive                 2  \n",
              "2  passive                 3  \n",
              "3  passive                 4  \n",
              "4  passive                 5  \n",
              "\n",
              "[5 rows x 66 columns]"
            ],
            "text/html": [
              "\n",
              "  <div id=\"df-263b7255-f6e5-4e5a-83ab-f04a0598df46\">\n",
              "    <div class=\"colab-df-container\">\n",
              "      <div>\n",
              "<style scoped>\n",
              "    .dataframe tbody tr th:only-of-type {\n",
              "        vertical-align: middle;\n",
              "    }\n",
              "\n",
              "    .dataframe tbody tr th {\n",
              "        vertical-align: top;\n",
              "    }\n",
              "\n",
              "    .dataframe thead th {\n",
              "        text-align: right;\n",
              "    }\n",
              "</style>\n",
              "<table border=\"1\" class=\"dataframe\">\n",
              "  <thead>\n",
              "    <tr style=\"text-align: right;\">\n",
              "      <th></th>\n",
              "      <th>Unnamed: 0</th>\n",
              "      <th>text_number</th>\n",
              "      <th>screen_number</th>\n",
              "      <th>sentence_number</th>\n",
              "      <th>text_str</th>\n",
              "      <th>w_in_sent_id</th>\n",
              "      <th>word</th>\n",
              "      <th>lemma</th>\n",
              "      <th>word_n_char</th>\n",
              "      <th>pos</th>\n",
              "      <th>...</th>\n",
              "      <th>t_adv_TTR</th>\n",
              "      <th>t_genre</th>\n",
              "      <th>tf</th>\n",
              "      <th>idf</th>\n",
              "      <th>tf_idf</th>\n",
              "      <th>lex_overlap</th>\n",
              "      <th>semantic_similarity_adjacent_sent</th>\n",
              "      <th>pron_det_to_noun_ratio</th>\n",
              "      <th>voice</th>\n",
              "      <th>word_in_screen_id</th>\n",
              "    </tr>\n",
              "  </thead>\n",
              "  <tbody>\n",
              "    <tr>\n",
              "      <th>0</th>\n",
              "      <td>0</td>\n",
              "      <td>1</td>\n",
              "      <td>1</td>\n",
              "      <td>1</td>\n",
              "      <td>Even then my only friends were made of paper a...</td>\n",
              "      <td>1</td>\n",
              "      <td>Even</td>\n",
              "      <td>even</td>\n",
              "      <td>4</td>\n",
              "      <td>ADV</td>\n",
              "      <td>...</td>\n",
              "      <td>0.7941</td>\n",
              "      <td>fiction</td>\n",
              "      <td>0.0909</td>\n",
              "      <td>2.8034</td>\n",
              "      <td>0.2548</td>\n",
              "      <td>0</td>\n",
              "      <td>11</td>\n",
              "      <td>0.00</td>\n",
              "      <td>passive</td>\n",
              "      <td>1</td>\n",
              "    </tr>\n",
              "    <tr>\n",
              "      <th>1</th>\n",
              "      <td>1</td>\n",
              "      <td>1</td>\n",
              "      <td>1</td>\n",
              "      <td>1</td>\n",
              "      <td>Even then my only friends were made of paper a...</td>\n",
              "      <td>2</td>\n",
              "      <td>then</td>\n",
              "      <td>then</td>\n",
              "      <td>4</td>\n",
              "      <td>ADV</td>\n",
              "      <td>...</td>\n",
              "      <td>0.7941</td>\n",
              "      <td>fiction</td>\n",
              "      <td>0.0909</td>\n",
              "      <td>3.4965</td>\n",
              "      <td>0.3178</td>\n",
              "      <td>0</td>\n",
              "      <td>11</td>\n",
              "      <td>0.00</td>\n",
              "      <td>passive</td>\n",
              "      <td>2</td>\n",
              "    </tr>\n",
              "    <tr>\n",
              "      <th>2</th>\n",
              "      <td>2</td>\n",
              "      <td>1</td>\n",
              "      <td>1</td>\n",
              "      <td>1</td>\n",
              "      <td>Even then my only friends were made of paper a...</td>\n",
              "      <td>3</td>\n",
              "      <td>my</td>\n",
              "      <td>my</td>\n",
              "      <td>2</td>\n",
              "      <td>PRON</td>\n",
              "      <td>...</td>\n",
              "      <td>0.7941</td>\n",
              "      <td>fiction</td>\n",
              "      <td>0.0909</td>\n",
              "      <td>0.9316</td>\n",
              "      <td>0.0847</td>\n",
              "      <td>0</td>\n",
              "      <td>11</td>\n",
              "      <td>0.25</td>\n",
              "      <td>passive</td>\n",
              "      <td>3</td>\n",
              "    </tr>\n",
              "    <tr>\n",
              "      <th>3</th>\n",
              "      <td>3</td>\n",
              "      <td>1</td>\n",
              "      <td>1</td>\n",
              "      <td>1</td>\n",
              "      <td>Even then my only friends were made of paper a...</td>\n",
              "      <td>4</td>\n",
              "      <td>only</td>\n",
              "      <td>only</td>\n",
              "      <td>4</td>\n",
              "      <td>ADJ</td>\n",
              "      <td>...</td>\n",
              "      <td>0.7941</td>\n",
              "      <td>fiction</td>\n",
              "      <td>0.0909</td>\n",
              "      <td>2.3979</td>\n",
              "      <td>0.2180</td>\n",
              "      <td>0</td>\n",
              "      <td>11</td>\n",
              "      <td>0.00</td>\n",
              "      <td>passive</td>\n",
              "      <td>4</td>\n",
              "    </tr>\n",
              "    <tr>\n",
              "      <th>4</th>\n",
              "      <td>4</td>\n",
              "      <td>1</td>\n",
              "      <td>1</td>\n",
              "      <td>1</td>\n",
              "      <td>Even then my only friends were made of paper a...</td>\n",
              "      <td>5</td>\n",
              "      <td>friends</td>\n",
              "      <td>friend</td>\n",
              "      <td>7</td>\n",
              "      <td>NOUN</td>\n",
              "      <td>...</td>\n",
              "      <td>0.7941</td>\n",
              "      <td>fiction</td>\n",
              "      <td>0.0909</td>\n",
              "      <td>1.7047</td>\n",
              "      <td>0.1550</td>\n",
              "      <td>0</td>\n",
              "      <td>11</td>\n",
              "      <td>0.00</td>\n",
              "      <td>passive</td>\n",
              "      <td>5</td>\n",
              "    </tr>\n",
              "  </tbody>\n",
              "</table>\n",
              "<p>5 rows × 66 columns</p>\n",
              "</div>\n",
              "      <button class=\"colab-df-convert\" onclick=\"convertToInteractive('df-263b7255-f6e5-4e5a-83ab-f04a0598df46')\"\n",
              "              title=\"Convert this dataframe to an interactive table.\"\n",
              "              style=\"display:none;\">\n",
              "        \n",
              "  <svg xmlns=\"http://www.w3.org/2000/svg\" height=\"24px\"viewBox=\"0 0 24 24\"\n",
              "       width=\"24px\">\n",
              "    <path d=\"M0 0h24v24H0V0z\" fill=\"none\"/>\n",
              "    <path d=\"M18.56 5.44l.94 2.06.94-2.06 2.06-.94-2.06-.94-.94-2.06-.94 2.06-2.06.94zm-11 1L8.5 8.5l.94-2.06 2.06-.94-2.06-.94L8.5 2.5l-.94 2.06-2.06.94zm10 10l.94 2.06.94-2.06 2.06-.94-2.06-.94-.94-2.06-.94 2.06-2.06.94z\"/><path d=\"M17.41 7.96l-1.37-1.37c-.4-.4-.92-.59-1.43-.59-.52 0-1.04.2-1.43.59L10.3 9.45l-7.72 7.72c-.78.78-.78 2.05 0 2.83L4 21.41c.39.39.9.59 1.41.59.51 0 1.02-.2 1.41-.59l7.78-7.78 2.81-2.81c.8-.78.8-2.07 0-2.86zM5.41 20L4 18.59l7.72-7.72 1.47 1.35L5.41 20z\"/>\n",
              "  </svg>\n",
              "      </button>\n",
              "      \n",
              "  <style>\n",
              "    .colab-df-container {\n",
              "      display:flex;\n",
              "      flex-wrap:wrap;\n",
              "      gap: 12px;\n",
              "    }\n",
              "\n",
              "    .colab-df-convert {\n",
              "      background-color: #E8F0FE;\n",
              "      border: none;\n",
              "      border-radius: 50%;\n",
              "      cursor: pointer;\n",
              "      display: none;\n",
              "      fill: #1967D2;\n",
              "      height: 32px;\n",
              "      padding: 0 0 0 0;\n",
              "      width: 32px;\n",
              "    }\n",
              "\n",
              "    .colab-df-convert:hover {\n",
              "      background-color: #E2EBFA;\n",
              "      box-shadow: 0px 1px 2px rgba(60, 64, 67, 0.3), 0px 1px 3px 1px rgba(60, 64, 67, 0.15);\n",
              "      fill: #174EA6;\n",
              "    }\n",
              "\n",
              "    [theme=dark] .colab-df-convert {\n",
              "      background-color: #3B4455;\n",
              "      fill: #D2E3FC;\n",
              "    }\n",
              "\n",
              "    [theme=dark] .colab-df-convert:hover {\n",
              "      background-color: #434B5C;\n",
              "      box-shadow: 0px 1px 3px 1px rgba(0, 0, 0, 0.15);\n",
              "      filter: drop-shadow(0px 1px 2px rgba(0, 0, 0, 0.3));\n",
              "      fill: #FFFFFF;\n",
              "    }\n",
              "  </style>\n",
              "\n",
              "      <script>\n",
              "        const buttonEl =\n",
              "          document.querySelector('#df-263b7255-f6e5-4e5a-83ab-f04a0598df46 button.colab-df-convert');\n",
              "        buttonEl.style.display =\n",
              "          google.colab.kernel.accessAllowed ? 'block' : 'none';\n",
              "\n",
              "        async function convertToInteractive(key) {\n",
              "          const element = document.querySelector('#df-263b7255-f6e5-4e5a-83ab-f04a0598df46');\n",
              "          const dataTable =\n",
              "            await google.colab.kernel.invokeFunction('convertToInteractive',\n",
              "                                                     [key], {});\n",
              "          if (!dataTable) return;\n",
              "\n",
              "          const docLinkHtml = 'Like what you see? Visit the ' +\n",
              "            '<a target=\"_blank\" href=https://colab.research.google.com/notebooks/data_table.ipynb>data table notebook</a>'\n",
              "            + ' to learn more about interactive tables.';\n",
              "          element.innerHTML = '';\n",
              "          dataTable['output_type'] = 'display_data';\n",
              "          await google.colab.output.renderOutput(dataTable, element);\n",
              "          const docLink = document.createElement('div');\n",
              "          docLink.innerHTML = docLinkHtml;\n",
              "          element.appendChild(docLink);\n",
              "        }\n",
              "      </script>\n",
              "    </div>\n",
              "  </div>\n",
              "  "
            ]
          },
          "metadata": {},
          "execution_count": 6
        }
      ]
    },
    {
      "cell_type": "code",
      "source": [
        "for c in get_columns(df):\n",
        "  print(c)"
      ],
      "metadata": {
        "colab": {
          "base_uri": "https://localhost:8080/"
        },
        "id": "0uAf4gKlhCaZ",
        "outputId": "f9743190-b2a8-4065-e3bd-0ee1664951a6"
      },
      "execution_count": null,
      "outputs": [
        {
          "output_type": "stream",
          "name": "stdout",
          "text": [
            "Column 1:\tUnnamed: 0\t(int64)\n",
            "Column 2:\ttext_number\t(int64)\n",
            "Column 3:\tscreen_number\t(int64)\n",
            "Column 4:\tsentence_number\t(int64)\n",
            "Column 5:\ttext_str\t(object)\n",
            "Column 6:\tw_in_sent_id\t(int64)\n",
            "Column 7:\tword\t(object)\n",
            "Column 8:\tlemma\t(object)\n",
            "Column 9:\tword_n_char\t(int64)\n",
            "Column 10:\tpos\t(object)\n",
            "Column 11:\tsimplified_pos\t(object)\n",
            "Column 12:\twordfreq_lemma\t(float64)\n",
            "Column 13:\tNE_IOB\t(object)\n",
            "Column 14:\tNE_label\t(object)\n",
            "Column 15:\tcontent_word\t(bool)\n",
            "Column 16:\ttechnical_term\t(bool)\n",
            "Column 17:\tsynonym_homonym\t(bool)\n",
            "Column 18:\tCase\t(object)\n",
            "Column 19:\tGender\t(object)\n",
            "Column 20:\tNumber\t(object)\n",
            "Column 21:\tPerson\t(float64)\n",
            "Column 22:\tPronType\t(object)\n",
            "Column 23:\tMood\t(object)\n",
            "Column 24:\tTense\t(object)\n",
            "Column 25:\tVerbForm\t(object)\n",
            "Column 26:\tDefinite\t(object)\n",
            "Column 27:\tPunctType\t(object)\n",
            "Column 28:\tDegree\t(object)\n",
            "Column 29:\tAbbr\t(float64)\n",
            "Column 30:\tPoss\t(object)\n",
            "Column 31:\tPrefix\t(float64)\n",
            "Column 32:\tReflex\t(object)\n",
            "Column 33:\tsynt_surprisal\t(float64)\n",
            "Column 34:\tsurprisal_bert\t(float64)\n",
            "Column 35:\tdeps\t(object)\n",
            "Column 36:\trights\t(object)\n",
            "Column 37:\tlefts\t(object)\n",
            "Column 38:\tn_rights\t(int64)\n",
            "Column 39:\tn_lefts\t(int64)\n",
            "Column 40:\tdep_distance\t(int64)\n",
            "Column 41:\tsent_n_words\t(int64)\n",
            "Column 42:\tsent_n_char\t(int64)\n",
            "Column 43:\tsent_mean_word_length\t(float64)\n",
            "Column 44:\tsent_lexical_density_tokens\t(float64)\n",
            "Column 45:\tsent_cut\t(int64)\n",
            "Column 46:\tt_n_char\t(int64)\n",
            "Column 47:\tt_n_words\t(int64)\n",
            "Column 48:\tt_n_phrases\t(int64)\n",
            "Column 49:\tt_mean_word_length\t(float64)\n",
            "Column 50:\tt_lexical_density\t(float64)\n",
            "Column 51:\tt_lemma_TTR\t(float64)\n",
            "Column 52:\tt_content_w_TTR\t(float64)\n",
            "Column 53:\tt_function_w_TTR\t(float64)\n",
            "Column 54:\tt_nouns_TTR\t(float64)\n",
            "Column 55:\tt_verbs_TTR\t(float64)\n",
            "Column 56:\tt_adj_TTR\t(float64)\n",
            "Column 57:\tt_adv_TTR\t(float64)\n",
            "Column 58:\tt_genre\t(object)\n",
            "Column 59:\ttf\t(float64)\n",
            "Column 60:\tidf\t(float64)\n",
            "Column 61:\ttf_idf\t(float64)\n",
            "Column 62:\tlex_overlap\t(int64)\n",
            "Column 63:\tsemantic_similarity_adjacent_sent\t(int64)\n",
            "Column 64:\tpron_det_to_noun_ratio\t(float64)\n",
            "Column 65:\tvoice\t(object)\n",
            "Column 66:\tword_in_screen_id\t(int64)\n"
          ]
        }
      ]
    },
    {
      "cell_type": "code",
      "source": [
        "df_dickens = df[df['text_number'] == 1]\n",
        "df_flytrap = df[df['text_number'] == 2]\n",
        "df_genome = df[df['text_number'] == 3]\n",
        "df_northpole = df[df['text_number'] == 4]"
      ],
      "metadata": {
        "id": "i98CPtZUpA6Q"
      },
      "execution_count": null,
      "outputs": []
    },
    {
      "cell_type": "markdown",
      "source": [
        "## 1. Stats\n",
        "Number of word in text, mean word length etc. "
      ],
      "metadata": {
        "id": "xwiy_q2YpuiH"
      }
    },
    {
      "cell_type": "code",
      "source": [
        "def get_stats(df): \n",
        "  #print(\"Dataframe: \", df)\n",
        "\n",
        "  print(\"\\nStats on text level: \")\n",
        "  print(\"Number of screens: \", len(df['screen_number'].unique()))\n",
        "  print(\"Number of words in the text: \", df['t_n_words'].unique())\n",
        "  print(\"Number of chars in the text: \", df['t_n_char'].unique())\n",
        "  print(\"Mean word length in the text: \", df['t_mean_word_length'].unique())\n",
        "\n",
        "  print(\"Number of words per screen: \")\n",
        "  print(df.groupby(\"screen_number\")['w_in_sent_id'].max())\n",
        "\n",
        "  return None"
      ],
      "metadata": {
        "id": "4LS-fwjBeTX5"
      },
      "execution_count": null,
      "outputs": []
    },
    {
      "cell_type": "code",
      "source": [
        "print(\"Dickens: \")\n",
        "print(get_stats(df_dickens))"
      ],
      "metadata": {
        "colab": {
          "base_uri": "https://localhost:8080/"
        },
        "id": "mZ3uma6ce_ZX",
        "outputId": "936e28c6-6e99-4f35-87f9-ca27bc0939e5"
      },
      "execution_count": null,
      "outputs": [
        {
          "output_type": "stream",
          "name": "stdout",
          "text": [
            "Dickens: \n",
            "\n",
            "Stats on text level: \n",
            "Number of screens:  5\n",
            "Number of words in the text:  [634]\n",
            "Number of chars in the text:  [2589]\n",
            "Mean word length in the text:  [4.084]\n",
            "Number of words per screen: \n",
            "screen_number\n",
            "1    50\n",
            "2    41\n",
            "3    43\n",
            "4    34\n",
            "5    59\n",
            "Name: w_in_sent_id, dtype: int64\n",
            "None\n"
          ]
        }
      ]
    },
    {
      "cell_type": "code",
      "source": [
        "print(\"Flytrap: \")\n",
        "print(get_stats(df_flytrap))"
      ],
      "metadata": {
        "colab": {
          "base_uri": "https://localhost:8080/"
        },
        "id": "LuKdS520gjvQ",
        "outputId": "d8ec0db5-0de1-4a96-cda0-e149ead36c73"
      },
      "execution_count": null,
      "outputs": [
        {
          "output_type": "stream",
          "name": "stdout",
          "text": [
            "Flytrap: \n",
            "\n",
            "Stats on text level: \n",
            "Number of screens:  6\n",
            "Number of words in the text:  [700]\n",
            "Number of chars in the text:  [3473]\n",
            "Mean word length in the text:  [4.961]\n",
            "Number of words per screen: \n",
            "screen_number\n",
            "1    42\n",
            "2    34\n",
            "3    39\n",
            "4    73\n",
            "5    37\n",
            "6    29\n",
            "Name: w_in_sent_id, dtype: int64\n",
            "None\n"
          ]
        }
      ]
    },
    {
      "cell_type": "code",
      "source": [
        "print(\"Genome: \")\n",
        "print(get_stats(df_genome))"
      ],
      "metadata": {
        "colab": {
          "base_uri": "https://localhost:8080/"
        },
        "id": "m22gOWrlgpBx",
        "outputId": "8e6ca319-f362-4338-e411-0efa9b9d61dc"
      },
      "execution_count": null,
      "outputs": [
        {
          "output_type": "stream",
          "name": "stdout",
          "text": [
            "Genome: \n",
            "\n",
            "Stats on text level: \n",
            "Number of screens:  6\n",
            "Number of words in the text:  [591]\n",
            "Number of chars in the text:  [3075]\n",
            "Mean word length in the text:  [5.203]\n",
            "Number of words per screen: \n",
            "screen_number\n",
            "1    24\n",
            "2    40\n",
            "3    31\n",
            "4    27\n",
            "5    31\n",
            "6    27\n",
            "Name: w_in_sent_id, dtype: int64\n",
            "None\n"
          ]
        }
      ]
    },
    {
      "cell_type": "code",
      "source": [
        "print(\"Northpole: \")\n",
        "print(get_stats(df_northpole))"
      ],
      "metadata": {
        "colab": {
          "base_uri": "https://localhost:8080/"
        },
        "id": "EXuel5umgtEU",
        "outputId": "0d4b0b84-dc4b-47f5-c89b-a15a257c77ae"
      },
      "execution_count": null,
      "outputs": [
        {
          "output_type": "stream",
          "name": "stdout",
          "text": [
            "Northpole: \n",
            "\n",
            "Stats on text level: \n",
            "Number of screens:  5\n",
            "Number of words in the text:  [558]\n",
            "Number of chars in the text:  [2513]\n",
            "Mean word length in the text:  [4.504]\n",
            "Number of words per screen: \n",
            "screen_number\n",
            "1    35\n",
            "2    42\n",
            "3    45\n",
            "4    24\n",
            "5    22\n",
            "Name: w_in_sent_id, dtype: int64\n",
            "None\n"
          ]
        }
      ]
    },
    {
      "cell_type": "code",
      "source": [
        "# word length in number of chars\n",
        "print(\"Number of chars/word:\")\n",
        "df.groupby('text_number')['word_n_char'].describe()"
      ],
      "metadata": {
        "colab": {
          "base_uri": "https://localhost:8080/",
          "height": 217
        },
        "id": "WNiMJjGR4Z26",
        "outputId": "d9243e4c-1fc9-4e3c-93ee-4969e358dbd6"
      },
      "execution_count": null,
      "outputs": [
        {
          "output_type": "stream",
          "name": "stdout",
          "text": [
            "Number of chars/word:\n"
          ]
        },
        {
          "output_type": "execute_result",
          "data": {
            "text/plain": [
              "             count      mean       std  min  25%  50%  75%   max\n",
              "text_number                                                     \n",
              "1            634.0  3.968454  2.202027  1.0  2.0  4.0  5.0  16.0\n",
              "2            700.0  4.872857  2.537751  1.0  3.0  4.0  6.0  18.0\n",
              "3            591.0  5.057530  2.780697  1.0  3.0  4.0  7.0  16.0\n",
              "4            558.0  4.396057  2.632306  1.0  2.0  4.0  6.0  14.0"
            ],
            "text/html": [
              "\n",
              "  <div id=\"df-8b7626bf-ccae-4eb5-8ce5-72bb5f79fc4c\">\n",
              "    <div class=\"colab-df-container\">\n",
              "      <div>\n",
              "<style scoped>\n",
              "    .dataframe tbody tr th:only-of-type {\n",
              "        vertical-align: middle;\n",
              "    }\n",
              "\n",
              "    .dataframe tbody tr th {\n",
              "        vertical-align: top;\n",
              "    }\n",
              "\n",
              "    .dataframe thead th {\n",
              "        text-align: right;\n",
              "    }\n",
              "</style>\n",
              "<table border=\"1\" class=\"dataframe\">\n",
              "  <thead>\n",
              "    <tr style=\"text-align: right;\">\n",
              "      <th></th>\n",
              "      <th>count</th>\n",
              "      <th>mean</th>\n",
              "      <th>std</th>\n",
              "      <th>min</th>\n",
              "      <th>25%</th>\n",
              "      <th>50%</th>\n",
              "      <th>75%</th>\n",
              "      <th>max</th>\n",
              "    </tr>\n",
              "    <tr>\n",
              "      <th>text_number</th>\n",
              "      <th></th>\n",
              "      <th></th>\n",
              "      <th></th>\n",
              "      <th></th>\n",
              "      <th></th>\n",
              "      <th></th>\n",
              "      <th></th>\n",
              "      <th></th>\n",
              "    </tr>\n",
              "  </thead>\n",
              "  <tbody>\n",
              "    <tr>\n",
              "      <th>1</th>\n",
              "      <td>634.0</td>\n",
              "      <td>3.968454</td>\n",
              "      <td>2.202027</td>\n",
              "      <td>1.0</td>\n",
              "      <td>2.0</td>\n",
              "      <td>4.0</td>\n",
              "      <td>5.0</td>\n",
              "      <td>16.0</td>\n",
              "    </tr>\n",
              "    <tr>\n",
              "      <th>2</th>\n",
              "      <td>700.0</td>\n",
              "      <td>4.872857</td>\n",
              "      <td>2.537751</td>\n",
              "      <td>1.0</td>\n",
              "      <td>3.0</td>\n",
              "      <td>4.0</td>\n",
              "      <td>6.0</td>\n",
              "      <td>18.0</td>\n",
              "    </tr>\n",
              "    <tr>\n",
              "      <th>3</th>\n",
              "      <td>591.0</td>\n",
              "      <td>5.057530</td>\n",
              "      <td>2.780697</td>\n",
              "      <td>1.0</td>\n",
              "      <td>3.0</td>\n",
              "      <td>4.0</td>\n",
              "      <td>7.0</td>\n",
              "      <td>16.0</td>\n",
              "    </tr>\n",
              "    <tr>\n",
              "      <th>4</th>\n",
              "      <td>558.0</td>\n",
              "      <td>4.396057</td>\n",
              "      <td>2.632306</td>\n",
              "      <td>1.0</td>\n",
              "      <td>2.0</td>\n",
              "      <td>4.0</td>\n",
              "      <td>6.0</td>\n",
              "      <td>14.0</td>\n",
              "    </tr>\n",
              "  </tbody>\n",
              "</table>\n",
              "</div>\n",
              "      <button class=\"colab-df-convert\" onclick=\"convertToInteractive('df-8b7626bf-ccae-4eb5-8ce5-72bb5f79fc4c')\"\n",
              "              title=\"Convert this dataframe to an interactive table.\"\n",
              "              style=\"display:none;\">\n",
              "        \n",
              "  <svg xmlns=\"http://www.w3.org/2000/svg\" height=\"24px\"viewBox=\"0 0 24 24\"\n",
              "       width=\"24px\">\n",
              "    <path d=\"M0 0h24v24H0V0z\" fill=\"none\"/>\n",
              "    <path d=\"M18.56 5.44l.94 2.06.94-2.06 2.06-.94-2.06-.94-.94-2.06-.94 2.06-2.06.94zm-11 1L8.5 8.5l.94-2.06 2.06-.94-2.06-.94L8.5 2.5l-.94 2.06-2.06.94zm10 10l.94 2.06.94-2.06 2.06-.94-2.06-.94-.94-2.06-.94 2.06-2.06.94z\"/><path d=\"M17.41 7.96l-1.37-1.37c-.4-.4-.92-.59-1.43-.59-.52 0-1.04.2-1.43.59L10.3 9.45l-7.72 7.72c-.78.78-.78 2.05 0 2.83L4 21.41c.39.39.9.59 1.41.59.51 0 1.02-.2 1.41-.59l7.78-7.78 2.81-2.81c.8-.78.8-2.07 0-2.86zM5.41 20L4 18.59l7.72-7.72 1.47 1.35L5.41 20z\"/>\n",
              "  </svg>\n",
              "      </button>\n",
              "      \n",
              "  <style>\n",
              "    .colab-df-container {\n",
              "      display:flex;\n",
              "      flex-wrap:wrap;\n",
              "      gap: 12px;\n",
              "    }\n",
              "\n",
              "    .colab-df-convert {\n",
              "      background-color: #E8F0FE;\n",
              "      border: none;\n",
              "      border-radius: 50%;\n",
              "      cursor: pointer;\n",
              "      display: none;\n",
              "      fill: #1967D2;\n",
              "      height: 32px;\n",
              "      padding: 0 0 0 0;\n",
              "      width: 32px;\n",
              "    }\n",
              "\n",
              "    .colab-df-convert:hover {\n",
              "      background-color: #E2EBFA;\n",
              "      box-shadow: 0px 1px 2px rgba(60, 64, 67, 0.3), 0px 1px 3px 1px rgba(60, 64, 67, 0.15);\n",
              "      fill: #174EA6;\n",
              "    }\n",
              "\n",
              "    [theme=dark] .colab-df-convert {\n",
              "      background-color: #3B4455;\n",
              "      fill: #D2E3FC;\n",
              "    }\n",
              "\n",
              "    [theme=dark] .colab-df-convert:hover {\n",
              "      background-color: #434B5C;\n",
              "      box-shadow: 0px 1px 3px 1px rgba(0, 0, 0, 0.15);\n",
              "      filter: drop-shadow(0px 1px 2px rgba(0, 0, 0, 0.3));\n",
              "      fill: #FFFFFF;\n",
              "    }\n",
              "  </style>\n",
              "\n",
              "      <script>\n",
              "        const buttonEl =\n",
              "          document.querySelector('#df-8b7626bf-ccae-4eb5-8ce5-72bb5f79fc4c button.colab-df-convert');\n",
              "        buttonEl.style.display =\n",
              "          google.colab.kernel.accessAllowed ? 'block' : 'none';\n",
              "\n",
              "        async function convertToInteractive(key) {\n",
              "          const element = document.querySelector('#df-8b7626bf-ccae-4eb5-8ce5-72bb5f79fc4c');\n",
              "          const dataTable =\n",
              "            await google.colab.kernel.invokeFunction('convertToInteractive',\n",
              "                                                     [key], {});\n",
              "          if (!dataTable) return;\n",
              "\n",
              "          const docLinkHtml = 'Like what you see? Visit the ' +\n",
              "            '<a target=\"_blank\" href=https://colab.research.google.com/notebooks/data_table.ipynb>data table notebook</a>'\n",
              "            + ' to learn more about interactive tables.';\n",
              "          element.innerHTML = '';\n",
              "          dataTable['output_type'] = 'display_data';\n",
              "          await google.colab.output.renderOutput(dataTable, element);\n",
              "          const docLink = document.createElement('div');\n",
              "          docLink.innerHTML = docLinkHtml;\n",
              "          element.appendChild(docLink);\n",
              "        }\n",
              "      </script>\n",
              "    </div>\n",
              "  </div>\n",
              "  "
            ]
          },
          "metadata": {},
          "execution_count": 14
        }
      ]
    },
    {
      "cell_type": "code",
      "source": [
        "\"Sentence length: Number of words/sentence and number of chars/sentence\"\n",
        "df.groupby('text_number')[['sent_n_words', 'sent_n_char']].describe()"
      ],
      "metadata": {
        "colab": {
          "base_uri": "https://localhost:8080/",
          "height": 231
        },
        "id": "4JUdOZ5ogB_O",
        "outputId": "573be8f2-50f8-4116-c208-2a2bb9cf42d2"
      },
      "execution_count": null,
      "outputs": [
        {
          "output_type": "execute_result",
          "data": {
            "text/plain": [
              "            sent_n_words                                                     \\\n",
              "                   count       mean        std  min   25%   50%   75%   max   \n",
              "text_number                                                                   \n",
              "1                  634.0  32.537855  16.785779  4.0  18.0  32.0  43.0  65.0   \n",
              "2                  700.0  35.261429  16.998239  6.0  23.0  35.0  40.0  78.0   \n",
              "3                  591.0  24.927242   9.385878  6.0  19.0  22.0  32.0  45.0   \n",
              "4                  558.0  28.231183  12.723349  3.0  19.0  24.0  37.0  48.0   \n",
              "\n",
              "            sent_n_char                                                     \\\n",
              "                  count        mean         std   min    25%    50%    75%   \n",
              "text_number                                                                  \n",
              "1                 634.0  152.004732   79.953590  19.0   88.0  151.0  191.0   \n",
              "2                 700.0  196.797143  103.701931  41.0  135.0  178.0  214.0   \n",
              "3                 591.0  136.379019   47.273548  27.0   99.0  133.0  172.0   \n",
              "4                 558.0  144.215054   70.256343  11.0   98.0  116.0  180.0   \n",
              "\n",
              "                    \n",
              "               max  \n",
              "text_number         \n",
              "1            301.0  \n",
              "2            467.0  \n",
              "3            213.0  \n",
              "4            270.0  "
            ],
            "text/html": [
              "\n",
              "  <div id=\"df-a18c6c2d-84ed-4232-9a65-4abd0b9e6a36\">\n",
              "    <div class=\"colab-df-container\">\n",
              "      <div>\n",
              "<style scoped>\n",
              "    .dataframe tbody tr th:only-of-type {\n",
              "        vertical-align: middle;\n",
              "    }\n",
              "\n",
              "    .dataframe tbody tr th {\n",
              "        vertical-align: top;\n",
              "    }\n",
              "\n",
              "    .dataframe thead tr th {\n",
              "        text-align: left;\n",
              "    }\n",
              "\n",
              "    .dataframe thead tr:last-of-type th {\n",
              "        text-align: right;\n",
              "    }\n",
              "</style>\n",
              "<table border=\"1\" class=\"dataframe\">\n",
              "  <thead>\n",
              "    <tr>\n",
              "      <th></th>\n",
              "      <th colspan=\"8\" halign=\"left\">sent_n_words</th>\n",
              "      <th colspan=\"8\" halign=\"left\">sent_n_char</th>\n",
              "    </tr>\n",
              "    <tr>\n",
              "      <th></th>\n",
              "      <th>count</th>\n",
              "      <th>mean</th>\n",
              "      <th>std</th>\n",
              "      <th>min</th>\n",
              "      <th>25%</th>\n",
              "      <th>50%</th>\n",
              "      <th>75%</th>\n",
              "      <th>max</th>\n",
              "      <th>count</th>\n",
              "      <th>mean</th>\n",
              "      <th>std</th>\n",
              "      <th>min</th>\n",
              "      <th>25%</th>\n",
              "      <th>50%</th>\n",
              "      <th>75%</th>\n",
              "      <th>max</th>\n",
              "    </tr>\n",
              "    <tr>\n",
              "      <th>text_number</th>\n",
              "      <th></th>\n",
              "      <th></th>\n",
              "      <th></th>\n",
              "      <th></th>\n",
              "      <th></th>\n",
              "      <th></th>\n",
              "      <th></th>\n",
              "      <th></th>\n",
              "      <th></th>\n",
              "      <th></th>\n",
              "      <th></th>\n",
              "      <th></th>\n",
              "      <th></th>\n",
              "      <th></th>\n",
              "      <th></th>\n",
              "      <th></th>\n",
              "    </tr>\n",
              "  </thead>\n",
              "  <tbody>\n",
              "    <tr>\n",
              "      <th>1</th>\n",
              "      <td>634.0</td>\n",
              "      <td>32.537855</td>\n",
              "      <td>16.785779</td>\n",
              "      <td>4.0</td>\n",
              "      <td>18.0</td>\n",
              "      <td>32.0</td>\n",
              "      <td>43.0</td>\n",
              "      <td>65.0</td>\n",
              "      <td>634.0</td>\n",
              "      <td>152.004732</td>\n",
              "      <td>79.953590</td>\n",
              "      <td>19.0</td>\n",
              "      <td>88.0</td>\n",
              "      <td>151.0</td>\n",
              "      <td>191.0</td>\n",
              "      <td>301.0</td>\n",
              "    </tr>\n",
              "    <tr>\n",
              "      <th>2</th>\n",
              "      <td>700.0</td>\n",
              "      <td>35.261429</td>\n",
              "      <td>16.998239</td>\n",
              "      <td>6.0</td>\n",
              "      <td>23.0</td>\n",
              "      <td>35.0</td>\n",
              "      <td>40.0</td>\n",
              "      <td>78.0</td>\n",
              "      <td>700.0</td>\n",
              "      <td>196.797143</td>\n",
              "      <td>103.701931</td>\n",
              "      <td>41.0</td>\n",
              "      <td>135.0</td>\n",
              "      <td>178.0</td>\n",
              "      <td>214.0</td>\n",
              "      <td>467.0</td>\n",
              "    </tr>\n",
              "    <tr>\n",
              "      <th>3</th>\n",
              "      <td>591.0</td>\n",
              "      <td>24.927242</td>\n",
              "      <td>9.385878</td>\n",
              "      <td>6.0</td>\n",
              "      <td>19.0</td>\n",
              "      <td>22.0</td>\n",
              "      <td>32.0</td>\n",
              "      <td>45.0</td>\n",
              "      <td>591.0</td>\n",
              "      <td>136.379019</td>\n",
              "      <td>47.273548</td>\n",
              "      <td>27.0</td>\n",
              "      <td>99.0</td>\n",
              "      <td>133.0</td>\n",
              "      <td>172.0</td>\n",
              "      <td>213.0</td>\n",
              "    </tr>\n",
              "    <tr>\n",
              "      <th>4</th>\n",
              "      <td>558.0</td>\n",
              "      <td>28.231183</td>\n",
              "      <td>12.723349</td>\n",
              "      <td>3.0</td>\n",
              "      <td>19.0</td>\n",
              "      <td>24.0</td>\n",
              "      <td>37.0</td>\n",
              "      <td>48.0</td>\n",
              "      <td>558.0</td>\n",
              "      <td>144.215054</td>\n",
              "      <td>70.256343</td>\n",
              "      <td>11.0</td>\n",
              "      <td>98.0</td>\n",
              "      <td>116.0</td>\n",
              "      <td>180.0</td>\n",
              "      <td>270.0</td>\n",
              "    </tr>\n",
              "  </tbody>\n",
              "</table>\n",
              "</div>\n",
              "      <button class=\"colab-df-convert\" onclick=\"convertToInteractive('df-a18c6c2d-84ed-4232-9a65-4abd0b9e6a36')\"\n",
              "              title=\"Convert this dataframe to an interactive table.\"\n",
              "              style=\"display:none;\">\n",
              "        \n",
              "  <svg xmlns=\"http://www.w3.org/2000/svg\" height=\"24px\"viewBox=\"0 0 24 24\"\n",
              "       width=\"24px\">\n",
              "    <path d=\"M0 0h24v24H0V0z\" fill=\"none\"/>\n",
              "    <path d=\"M18.56 5.44l.94 2.06.94-2.06 2.06-.94-2.06-.94-.94-2.06-.94 2.06-2.06.94zm-11 1L8.5 8.5l.94-2.06 2.06-.94-2.06-.94L8.5 2.5l-.94 2.06-2.06.94zm10 10l.94 2.06.94-2.06 2.06-.94-2.06-.94-.94-2.06-.94 2.06-2.06.94z\"/><path d=\"M17.41 7.96l-1.37-1.37c-.4-.4-.92-.59-1.43-.59-.52 0-1.04.2-1.43.59L10.3 9.45l-7.72 7.72c-.78.78-.78 2.05 0 2.83L4 21.41c.39.39.9.59 1.41.59.51 0 1.02-.2 1.41-.59l7.78-7.78 2.81-2.81c.8-.78.8-2.07 0-2.86zM5.41 20L4 18.59l7.72-7.72 1.47 1.35L5.41 20z\"/>\n",
              "  </svg>\n",
              "      </button>\n",
              "      \n",
              "  <style>\n",
              "    .colab-df-container {\n",
              "      display:flex;\n",
              "      flex-wrap:wrap;\n",
              "      gap: 12px;\n",
              "    }\n",
              "\n",
              "    .colab-df-convert {\n",
              "      background-color: #E8F0FE;\n",
              "      border: none;\n",
              "      border-radius: 50%;\n",
              "      cursor: pointer;\n",
              "      display: none;\n",
              "      fill: #1967D2;\n",
              "      height: 32px;\n",
              "      padding: 0 0 0 0;\n",
              "      width: 32px;\n",
              "    }\n",
              "\n",
              "    .colab-df-convert:hover {\n",
              "      background-color: #E2EBFA;\n",
              "      box-shadow: 0px 1px 2px rgba(60, 64, 67, 0.3), 0px 1px 3px 1px rgba(60, 64, 67, 0.15);\n",
              "      fill: #174EA6;\n",
              "    }\n",
              "\n",
              "    [theme=dark] .colab-df-convert {\n",
              "      background-color: #3B4455;\n",
              "      fill: #D2E3FC;\n",
              "    }\n",
              "\n",
              "    [theme=dark] .colab-df-convert:hover {\n",
              "      background-color: #434B5C;\n",
              "      box-shadow: 0px 1px 3px 1px rgba(0, 0, 0, 0.15);\n",
              "      filter: drop-shadow(0px 1px 2px rgba(0, 0, 0, 0.3));\n",
              "      fill: #FFFFFF;\n",
              "    }\n",
              "  </style>\n",
              "\n",
              "      <script>\n",
              "        const buttonEl =\n",
              "          document.querySelector('#df-a18c6c2d-84ed-4232-9a65-4abd0b9e6a36 button.colab-df-convert');\n",
              "        buttonEl.style.display =\n",
              "          google.colab.kernel.accessAllowed ? 'block' : 'none';\n",
              "\n",
              "        async function convertToInteractive(key) {\n",
              "          const element = document.querySelector('#df-a18c6c2d-84ed-4232-9a65-4abd0b9e6a36');\n",
              "          const dataTable =\n",
              "            await google.colab.kernel.invokeFunction('convertToInteractive',\n",
              "                                                     [key], {});\n",
              "          if (!dataTable) return;\n",
              "\n",
              "          const docLinkHtml = 'Like what you see? Visit the ' +\n",
              "            '<a target=\"_blank\" href=https://colab.research.google.com/notebooks/data_table.ipynb>data table notebook</a>'\n",
              "            + ' to learn more about interactive tables.';\n",
              "          element.innerHTML = '';\n",
              "          dataTable['output_type'] = 'display_data';\n",
              "          await google.colab.output.renderOutput(dataTable, element);\n",
              "          const docLink = document.createElement('div');\n",
              "          docLink.innerHTML = docLinkHtml;\n",
              "          element.appendChild(docLink);\n",
              "        }\n",
              "      </script>\n",
              "    </div>\n",
              "  </div>\n",
              "  "
            ]
          },
          "metadata": {},
          "execution_count": 15
        }
      ]
    },
    {
      "cell_type": "code",
      "source": [
        "# number of sentences in text\n",
        "n_sent_dickens = df_dickens.groupby(['text_number', 'screen_number'])['sentence_number'].nunique().sum()\n",
        "n_sent_flytrap = df_flytrap.groupby(['text_number', 'screen_number'])['sentence_number'].nunique().sum()\n",
        "n_sent_genome = df_genome.groupby(['text_number', 'screen_number'])['sentence_number'].nunique().sum()\n",
        "n_sent_northpole = df_northpole.groupby(['text_number', 'screen_number'])['sentence_number'].nunique().sum()\n",
        "print(\"Dickens: \", n_sent_dickens)\n",
        "print(\"Flytrap: \", n_sent_flytrap)\n",
        "print(\"Genome: \", n_sent_genome)\n",
        "print(\"Northpole: \", n_sent_northpole)"
      ],
      "metadata": {
        "id": "0HmGQ3tU4MQI",
        "colab": {
          "base_uri": "https://localhost:8080/"
        },
        "outputId": "90a2f520-2ee1-46c7-c071-c8ff21162524"
      },
      "execution_count": null,
      "outputs": [
        {
          "output_type": "stream",
          "name": "stdout",
          "text": [
            "Dickens:  33\n",
            "Flytrap:  31\n",
            "Genome:  37\n",
            "Northpole:  33\n"
          ]
        }
      ]
    },
    {
      "cell_type": "markdown",
      "source": [
        "Some plots about the stats above..."
      ],
      "metadata": {
        "id": "PykTld7mKJE-"
      }
    },
    {
      "cell_type": "code",
      "source": [
        "# text lenth in n sents and n words; Mean word length (n char)\n",
        "names = ['1', '2', '3', '4']\n",
        "n_sents = [33, 31, 37, 33]\n",
        "n_words = [634, 700, 591, 558]\n",
        "mean_word_len = [4.08, 4.96, 5.2, 4.5]\n",
        "\n",
        "plt.figure(figsize=(9, 3))\n",
        "\n",
        "plt.subplot(131)\n",
        "plt.bar(names, n_sents, color='midnightblue')\n",
        "plt.xlabel('Text ID')\n",
        "plt.ylabel('Number of sentences')\n",
        "plt.title('Text length (n sentences)', fontsize=11)\n",
        "\n",
        "plt.subplot(132)\n",
        "plt.bar(names, n_words, color='midnightblue')\n",
        "plt.xlabel('Text ID')\n",
        "plt.ylabel('Number of words')\n",
        "plt.title('Text length (n words)', fontsize=11)\n",
        "\n",
        "plt.subplot(133)\n",
        "plt.bar(names, mean_word_len, color='midnightblue')\n",
        "plt.xlabel('Text ID')\n",
        "plt.ylabel('Mean word length')\n",
        "plt.title('Mean word length per text (n char)', fontsize=11)\n",
        "\n",
        "#plt.suptitle('SB-SAT Texts: Stats')\n",
        "plt.tight_layout()\n",
        "plt.subplots_adjust(wspace=0.5)\n",
        "plt.show()\n",
        "plt.savefig('sbsat_text_stats.png')"
      ],
      "metadata": {
        "colab": {
          "base_uri": "https://localhost:8080/",
          "height": 323
        },
        "id": "6SsBmUkAKH_6",
        "outputId": "17446db1-9845-46ac-da8a-d21862d2cfc7"
      },
      "execution_count": null,
      "outputs": [
        {
          "output_type": "display_data",
          "data": {
            "text/plain": [
              "<Figure size 900x300 with 3 Axes>"
            ],
            "image/png": "[encoded data removed]"
          },
          "metadata": {}
        },
        {
          "output_type": "display_data",
          "data": {
            "text/plain": [
              "<Figure size 640x480 with 0 Axes>"
            ]
          },
          "metadata": {}
        }
      ]
    },
    {
      "cell_type": "markdown",
      "source": [
        "Text length in number of sentences and number of words and mean word length per Text. Text IDs correlate with the text names as follows: 1: Dickens, 2: Flytrap, 3: Genome, 4: Northpole. <br>\n",
        "Texts 1 and 4 are displayed on 5 screens each while texts 2 and 3 are displayed on 6 screens. Text 2 has more words than the other sentences, but fewer sentences, meaning that it has longer sentences than the other texts. Text 3 has more shorter sentences. The mean word length per text is biggest in the two technical texts, which will probably have implications on the text difficulty as well. "
      ],
      "metadata": {
        "id": "_QjTPNaqKV97"
      }
    },
    {
      "cell_type": "markdown",
      "source": [
        "# Annnotations\n"
      ],
      "metadata": {
        "id": "uJBu3rWYUAc7"
      }
    },
    {
      "cell_type": "markdown",
      "source": [
        "##POS, content word, NE, IOB"
      ],
      "metadata": {
        "id": "W2vhfHj7WfDF"
      }
    },
    {
      "cell_type": "code",
      "source": [
        "# counts for POS, simplified POS and content word tags/text\n",
        "print(\"Pos tag counts/text\")\n",
        "df.groupby('text_number')[['pos', 'simplified_pos', 'content_word']].value_counts()"
      ],
      "metadata": {
        "colab": {
          "base_uri": "https://localhost:8080/"
        },
        "id": "V3apjIhFiDiY",
        "outputId": "fbd5e9b4-8292-4c0e-902a-d68aeac42089"
      },
      "execution_count": null,
      "outputs": [
        {
          "output_type": "stream",
          "name": "stdout",
          "text": [
            "Pos tag counts/text\n"
          ]
        },
        {
          "output_type": "execute_result",
          "data": {
            "text/plain": [
              "text_number  pos    simplified_pos  content_word\n",
              "1            PRON   FUNC            False           113\n",
              "             NOUN   N               True            103\n",
              "             VERB   VERB            True             90\n",
              "             ADP    FUNC            False            58\n",
              "             DET    FUNC            False            56\n",
              "             AUX    FUNC            False            41\n",
              "             ADV    A               True             38\n",
              "             ADJ    A               True             32\n",
              "             SCONJ  FUNC            False            30\n",
              "             CCONJ  FUNC            False            26\n",
              "             PROPN  N               True             19\n",
              "             PART   FUNC            False            18\n",
              "             NUM    FUNC            False             7\n",
              "             PUNCT  FUNC            False             3\n",
              "2            NOUN   N               True            172\n",
              "             DET    FUNC            False           102\n",
              "             VERB   VERB            True             96\n",
              "             ADP    FUNC            False            75\n",
              "             ADJ    A               True             62\n",
              "             PRON   FUNC            False            36\n",
              "             ADV    A               True             31\n",
              "             AUX    FUNC            False            29\n",
              "             SCONJ  FUNC            False            27\n",
              "             PROPN  N               True             22\n",
              "             PART   FUNC            False            17\n",
              "             CCONJ  FUNC            False            16\n",
              "             NUM    FUNC            False            13\n",
              "             PUNCT  FUNC            False             2\n",
              "3            NOUN   N               True            166\n",
              "             VERB   VERB            True             78\n",
              "             ADP    FUNC            False            69\n",
              "             DET    FUNC            False            64\n",
              "             ADJ    A               True             59\n",
              "             PRON   FUNC            False            41\n",
              "             AUX    FUNC            False            25\n",
              "             ADV    A               True             23\n",
              "             CCONJ  FUNC            False            21\n",
              "             PROPN  N               True             14\n",
              "             PART   FUNC            False            13\n",
              "             SCONJ  FUNC            False             8\n",
              "             NUM    FUNC            False             5\n",
              "             PUNCT  FUNC            False             3\n",
              "             X      FUNC            False             2\n",
              "4            NOUN   N               True             97\n",
              "             PRON   FUNC            False            84\n",
              "             ADP    FUNC            False            70\n",
              "             DET    FUNC            False            66\n",
              "             VERB   VERB            True             57\n",
              "             AUX    FUNC            False            45\n",
              "             ADJ    A               True             42\n",
              "             ADV    A               True             33\n",
              "             CCONJ  FUNC            False            25\n",
              "             SCONJ  FUNC            False            15\n",
              "             PART   FUNC            False            12\n",
              "             PROPN  N               True             11\n",
              "             NUM    FUNC            False             1\n",
              "dtype: int64"
            ]
          },
          "metadata": {},
          "execution_count": 18
        }
      ]
    },
    {
      "cell_type": "code",
      "source": [
        "# bar plot for simplified POS tags\n",
        "import matplotlib.pyplot as plt\n",
        "\n",
        "# Create a pivot table with the count of each tag for each text\n",
        "pivot_table = df.pivot_table(index='simplified_pos', columns='text_number', aggfunc='size', fill_value=0)\n",
        "\n",
        "# Extract the \"FUNC\" row, remove it from the pivot table, and concatenate it back as the first row\n",
        "func_row = pivot_table.loc['FUNC']\n",
        "pivot_table = pivot_table.drop('FUNC')\n",
        "pivot_table = pd.concat([func_row.to_frame().T, pivot_table], axis=0)\n",
        "\n",
        "new_labels = ['Function word', 'Adjective/Adverb', 'Noun', 'Verb']\n",
        "colors = ['midnightblue', 'mediumblue', 'royalblue', 'cornflowerblue']\n",
        "# Create a bar chart of the pivot table with narrower bar width\n",
        "ax=pivot_table.plot(kind='bar', figsize=(10, 6), width=0.8, color=colors)\n",
        "ax.set_xticklabels(new_labels, rotation=0)\n",
        "# Add labels and title\n",
        "plt.xlabel('Simplified Part of Speech tag', rotation=0)\n",
        "plt.ylabel('Frequency')\n",
        "plt.title('Frequency of simplified POS-tags')\n",
        "\n",
        "# Change the legend labels\n",
        "text_labels = [\"Dickens\", \"Flytrap\", \"Genome\", \"Northpole\"]\n",
        "ax.legend(labels=text_labels)\n",
        "\n",
        "# Show the chart\n",
        "plt.show()\n"
      ],
      "metadata": {
        "colab": {
          "base_uri": "https://localhost:8080/",
          "height": 563
        },
        "id": "7de5IOJyq7-j",
        "outputId": "b6b62849-f23c-4f7d-b730-366ec038894a"
      },
      "execution_count": null,
      "outputs": [
        {
          "output_type": "display_data",
          "data": {
            "text/plain": [
              "<Figure size 1000x600 with 1 Axes>"
            ],
            "image/png": "[encoded data removed]"
          },
          "metadata": {}
        }
      ]
    },
    {
      "cell_type": "code",
      "source": [
        "print(\"Simplified POS\")\n",
        "df.groupby('text_number')['simplified_pos'].value_counts()"
      ],
      "metadata": {
        "colab": {
          "base_uri": "https://localhost:8080/"
        },
        "id": "HwO2D9m6j4XA",
        "outputId": "4b7c0a30-cf30-4dee-b626-8fe7782d05c7"
      },
      "execution_count": null,
      "outputs": [
        {
          "output_type": "stream",
          "name": "stdout",
          "text": [
            "Simplified POS\n"
          ]
        },
        {
          "output_type": "execute_result",
          "data": {
            "text/plain": [
              "text_number  simplified_pos\n",
              "1            FUNC              352\n",
              "             N                 122\n",
              "             VERB               90\n",
              "             A                  70\n",
              "2            FUNC              317\n",
              "             N                 194\n",
              "             VERB               96\n",
              "             A                  93\n",
              "3            FUNC              251\n",
              "             N                 180\n",
              "             A                  82\n",
              "             VERB               78\n",
              "4            FUNC              318\n",
              "             N                 108\n",
              "             A                  75\n",
              "             VERB               57\n",
              "Name: simplified_pos, dtype: int64"
            ]
          },
          "metadata": {},
          "execution_count": 20
        }
      ]
    },
    {
      "cell_type": "code",
      "source": [
        "# Percenage of content words per text\n",
        "print(\"ratio of content words in text: \")\n",
        "print(\"Dickens: \" ,round((df_dickens['content_word'].value_counts()[True])/(df_dickens['t_n_words'].unique()[0]), 4))\n",
        "print(\"Flytrap: \" ,round((df_flytrap['content_word'].value_counts()[True])/(df_flytrap['t_n_words'].unique()[0]), 4))\n",
        "print(\"Genome: \" ,round((df_genome['content_word'].value_counts()[True])/(df_genome['t_n_words'].unique()[0]), 4))\n",
        "print(\"Northpole: \" ,round((df_northpole['content_word'].value_counts()[True])/(df_northpole['t_n_words'].unique()[0]), 4))"
      ],
      "metadata": {
        "colab": {
          "base_uri": "https://localhost:8080/"
        },
        "id": "78Pu5I0VkHmR",
        "outputId": "20dc013c-0745-4d39-aaf2-a95fd2ae5929"
      },
      "execution_count": null,
      "outputs": [
        {
          "output_type": "stream",
          "name": "stdout",
          "text": [
            "ratio of content words in text: \n",
            "Dickens:  0.4448\n",
            "Flytrap:  0.5471\n",
            "Genome:  0.5753\n",
            "Northpole:  0.4301\n"
          ]
        }
      ]
    },
    {
      "cell_type": "code",
      "source": [
        "print(\"IOB tags: \")\n",
        "# Number of I tags + number of B tags per text\n",
        "n_I_B_dickens = int(df.loc[df['text_number'] == 1].groupby(['text_number', 'NE_IOB'])['NE_IOB'].count().unstack().fillna(0)[['I', 'B']].sum(axis=1))\n",
        "n_I_B_flytrap = int(df.loc[df['text_number'] == 2].groupby(['text_number', 'NE_IOB'])['NE_IOB'].count().unstack().fillna(0)[['I', 'B']].sum(axis=1))\n",
        "n_I_B_genome = int(df.loc[df['text_number'] == 3].groupby(['text_number', 'NE_IOB'])['NE_IOB'].count().unstack().fillna(0)[['I', 'B']].sum(axis=1))\n",
        "n_I_B_northpole = int(df.loc[df['text_number'] == 4].groupby(['text_number', 'NE_IOB'])['NE_IOB'].count().unstack().fillna(0)[['I', 'B']].sum(axis=1))\n",
        "print(\"\\nNumber of I tags plus number of B tags per text: \")\n",
        "print(\"Dickens: \", n_I_B_dickens)\n",
        "print(\"Flytrap: \", n_I_B_flytrap)\n",
        "print(\"Genome: \", n_I_B_genome)\n",
        "print(\"Northpole: \", n_I_B_northpole)\n",
        "print(\"\\Ratio of B or I tags / number of words in text\")\n",
        "print(\"Dickens: \" , n_I_B_dickens/(df_dickens['t_n_words'].unique()[0]))\n",
        "print(\"Flytrap: \" ,round(n_I_B_flytrap/(df_flytrap['t_n_words'].unique()[0]), 4))\n",
        "print(\"Genome: \" , round(n_I_B_genome/(df_genome['t_n_words'].unique()[0]), 4))\n",
        "print(\"Northpole: \" , round(n_I_B_northpole/(df_northpole['t_n_words'].unique()[0]), 4))"
      ],
      "metadata": {
        "colab": {
          "base_uri": "https://localhost:8080/"
        },
        "id": "YleWngEal7Vq",
        "outputId": "0ff6a946-8810-4124-a3ae-3dac11a4d678"
      },
      "execution_count": null,
      "outputs": [
        {
          "output_type": "stream",
          "name": "stdout",
          "text": [
            "IOB tags: \n",
            "\n",
            "Number of I tags plus number of B tags per text: \n",
            "Dickens:  24\n",
            "Flytrap:  58\n",
            "Genome:  35\n",
            "Northpole:  24\n",
            "\\Ratio of B or I tags / number of words in text\n",
            "Dickens:  0.03785488958990536\n",
            "Flytrap:  0.0829\n",
            "Genome:  0.0592\n",
            "Northpole:  0.043\n"
          ]
        }
      ]
    },
    {
      "cell_type": "code",
      "source": [
        "print(\"IOB tag counts/text\")\n",
        "df.groupby('text_number')['NE_IOB'].value_counts()"
      ],
      "metadata": {
        "colab": {
          "base_uri": "https://localhost:8080/"
        },
        "id": "L5BJCllVini0",
        "outputId": "676e0e14-92f5-485b-b9a4-518e45044f4b"
      },
      "execution_count": null,
      "outputs": [
        {
          "output_type": "stream",
          "name": "stdout",
          "text": [
            "IOB tag counts/text\n"
          ]
        },
        {
          "output_type": "execute_result",
          "data": {
            "text/plain": [
              "text_number  NE_IOB\n",
              "1            O         610\n",
              "             B          15\n",
              "             I           9\n",
              "2            O         642\n",
              "             B          40\n",
              "             I          18\n",
              "3            O         556\n",
              "             B          23\n",
              "             I          12\n",
              "4            O         534\n",
              "             B          16\n",
              "             I           8\n",
              "Name: NE_IOB, dtype: int64"
            ]
          },
          "metadata": {},
          "execution_count": 23
        }
      ]
    },
    {
      "cell_type": "code",
      "source": [
        "print(\"IOB label counts/text\")\n",
        "df.groupby('text_number')['NE_label'].value_counts()"
      ],
      "metadata": {
        "colab": {
          "base_uri": "https://localhost:8080/"
        },
        "id": "8HLraCFqiMz8",
        "outputId": "68f98388-bda9-4531-f767-685d1529682f"
      },
      "execution_count": null,
      "outputs": [
        {
          "output_type": "stream",
          "name": "stdout",
          "text": [
            "IOB label counts/text\n"
          ]
        },
        {
          "output_type": "execute_result",
          "data": {
            "text/plain": [
              "text_number  NE_label   \n",
              "1            PERSON          7\n",
              "             ORG             5\n",
              "             CARDINAL        4\n",
              "             WORK_OF_ART     4\n",
              "             FAC             3\n",
              "             DATE            1\n",
              "2            ORDINAL        12\n",
              "             TIME           12\n",
              "             PERSON         10\n",
              "             CARDINAL        8\n",
              "             ORG             6\n",
              "             DATE            4\n",
              "             GPE             2\n",
              "             LOC             2\n",
              "             PRODUCT         1\n",
              "             QUANTITY        1\n",
              "3            DATE            8\n",
              "             CARDINAL        6\n",
              "             ORDINAL         5\n",
              "             ORG             5\n",
              "             PRODUCT         4\n",
              "             QUANTITY        4\n",
              "             GPE             2\n",
              "             NORP            1\n",
              "4            LOC             5\n",
              "             QUANTITY        5\n",
              "             TIME            4\n",
              "             PERSON          3\n",
              "             GPE             2\n",
              "             NORP            2\n",
              "             ORDINAL         2\n",
              "             DATE            1\n",
              "Name: NE_label, dtype: int64"
            ]
          },
          "metadata": {},
          "execution_count": 24
        }
      ]
    },
    {
      "cell_type": "markdown",
      "source": [
        "##Synonym, homonym"
      ],
      "metadata": {
        "id": "VK0ZDDtNWtva"
      }
    },
    {
      "cell_type": "code",
      "source": [
        "print(\"Number of words that have a more frequent homonym or synonym in wordnet/germanet\")\n",
        "print(\"Dickens: \", df_dickens['synonym_homonym'].value_counts()[True])\n",
        "print(\"Flytrap: \", df_flytrap['synonym_homonym'].value_counts()[True])\n",
        "print(\"Genome: \", df_genome['synonym_homonym'].value_counts()[True])\n",
        "print(\"Northpole: \", df_northpole['synonym_homonym'].value_counts()[True])"
      ],
      "metadata": {
        "colab": {
          "base_uri": "https://localhost:8080/"
        },
        "id": "9VicLEpIWvYE",
        "outputId": "3430bc52-0ff6-414b-e7fd-8df5d26d6c08"
      },
      "execution_count": null,
      "outputs": [
        {
          "output_type": "stream",
          "name": "stdout",
          "text": [
            "Number of words that have a more frequent homonym or synonym in wordnet/germanet\n",
            "Dickens:  159\n",
            "Flytrap:  266\n",
            "Genome:  170\n",
            "Northpole:  161\n"
          ]
        }
      ]
    },
    {
      "cell_type": "code",
      "source": [
        "# ratio of words with more freq homonym or synonym in text \n",
        "print(\"Dickens: \", df_dickens['synonym_homonym'].value_counts()[True]/int(df_dickens['t_n_words'].unique()[0]))\n",
        "print(\"Flytrap: \", df_flytrap['synonym_homonym'].value_counts()[True]/int(df_flytrap['t_n_words'].unique()[0]))\n",
        "print(\"Genome: \", df_genome['synonym_homonym'].value_counts()[True]/int(df_genome['t_n_words'].unique()[0]))\n",
        "print(\"Northpole: \", df_northpole['synonym_homonym'].value_counts()[True]/int(df_northpole['t_n_words'].unique()[0]))"
      ],
      "metadata": {
        "colab": {
          "base_uri": "https://localhost:8080/"
        },
        "id": "QRiJyZFsz20h",
        "outputId": "c3d4b135-4eed-459f-8867-3f71fe89770a"
      },
      "execution_count": null,
      "outputs": [
        {
          "output_type": "stream",
          "name": "stdout",
          "text": [
            "Dickens:  0.250788643533123\n",
            "Flytrap:  0.38\n",
            "Genome:  0.2876480541455161\n",
            "Northpole:  0.2885304659498208\n"
          ]
        }
      ]
    },
    {
      "cell_type": "code",
      "source": [
        "# Graph for percentage of words with more frequent synonym/homonym\n",
        "# Calculate the percentages for each pie chart\n",
        "dickens_pct = df_dickens['synonym_homonym'].value_counts()[True] / int(df_dickens['t_n_words'].unique()[0])\n",
        "flytrap_pct = df_flytrap['synonym_homonym'].value_counts()[True] / int(df_flytrap['t_n_words'].unique()[0])\n",
        "genome_pct = df_genome['synonym_homonym'].value_counts()[True] / int(df_genome['t_n_words'].unique()[0])\n",
        "northpole_pct = df_northpole['synonym_homonym'].value_counts()[True] / int(df_northpole['t_n_words'].unique()[0])\n",
        "\n",
        "# Create a grid of subplots with 2 rows and 2 columns\n",
        "fig, axes = plt.subplots(nrows=2, ncols=2, figsize=(8, 8))\n",
        "\n",
        "# Create the first pie chart in the top-left subplot with color change\n",
        "dickens_pct = df_dickens['synonym_homonym'].value_counts(normalize=True)[True]\n",
        "axes[0, 0].pie([dickens_pct, 1-dickens_pct], colors=['lightsteelblue', 'royalblue'], autopct='%1.1f%%')\n",
        "axes[0, 0].set_title('Dickens')\n",
        "\n",
        "# Create the second pie chart in the top-right subplot with color change\n",
        "flytrap_pct = df_flytrap['synonym_homonym'].value_counts(normalize=True)[True]\n",
        "axes[0, 1].pie([flytrap_pct, 1-flytrap_pct], colors=['lightsteelblue', 'royalblue'], autopct='%1.1f%%')\n",
        "axes[0, 1].set_title('Flytrap')\n",
        "\n",
        "# Create the third pie chart in the bottom-left subplot with color change\n",
        "genome_pct = df_genome['synonym_homonym'].value_counts(normalize=True)[True]\n",
        "axes[1, 0].pie([genome_pct, 1-genome_pct], colors=['lightsteelblue', 'royalblue'], autopct='%1.1f%%')\n",
        "axes[1, 0].set_title('Genome')\n",
        "\n",
        "# Create the fourth pie chart in the bottom-right subplot with color change\n",
        "northpole_pct = df_northpole['synonym_homonym'].value_counts(normalize=True)[True]\n",
        "axes[1, 1].pie([northpole_pct, 1-northpole_pct], colors=['lightsteelblue', 'royalblue'], autopct='%1.1f%%')\n",
        "axes[1, 1].set_title('Northpole')\n",
        "\n",
        "fig.subplots_adjust(wspace=0.1)\n",
        "# Add a common title for the entire plot\n",
        "fig.suptitle('Percentage of words with a more frequent synonym or homonym')\n",
        "\n",
        "# Add a legend at the bottom of the plot\n",
        "legend_labels = ['Words with a more frequent \\nsynonym or homonym', \"Words without a more frequent \\nsynonym or homonym\"]\n",
        "legend_colors = ['lightsteelblue', 'royalblue']\n",
        "fig.legend(labels=legend_labels, loc='lower center', ncol=len(legend_labels), bbox_to_anchor=(0.5, 0.05), frameon=False)\n",
        "\n"
      ],
      "metadata": {
        "colab": {
          "base_uri": "https://localhost:8080/",
          "height": 789
        },
        "id": "PWc2_ICI8rGf",
        "outputId": "e6674aec-886b-475f-87ed-0691aa901dd7"
      },
      "execution_count": null,
      "outputs": [
        {
          "output_type": "execute_result",
          "data": {
            "text/plain": [
              "<matplotlib.legend.Legend at 0x7f7f9a0065c0>"
            ]
          },
          "metadata": {},
          "execution_count": 90
        },
        {
          "output_type": "display_data",
          "data": {
            "text/plain": [
              "<Figure size 800x800 with 4 Axes>"
            ],
            "image/png": "[encoded data removed]"
          },
          "metadata": {}
        }
      ]
    },
    {
      "cell_type": "markdown",
      "source": [
        "##Surprisal"
      ],
      "metadata": {
        "id": "sjA4XY1iW04g"
      }
    },
    {
      "cell_type": "code",
      "source": [
        "df.groupby('text_number')[['synt_surprisal', 'surprisal_bert']].describe()"
      ],
      "metadata": {
        "colab": {
          "base_uri": "https://localhost:8080/",
          "height": 231
        },
        "id": "lH40DxfBW0bH",
        "outputId": "28d4d128-9328-4a41-fb32-48b4656957f6"
      },
      "execution_count": null,
      "outputs": [
        {
          "output_type": "execute_result",
          "data": {
            "text/plain": [
              "            synt_surprisal                                             \\\n",
              "                     count      mean       std  min      25%      50%   \n",
              "text_number                                                             \n",
              "1                    634.0  0.032755  0.262530 -0.0  0.00006  0.00016   \n",
              "2                    700.0  0.021214  0.205842  0.0  0.00005  0.00018   \n",
              "3                    591.0  0.036837  0.274479  0.0  0.00006  0.00024   \n",
              "4                    558.0  0.010449  0.053417 -0.0  0.00005  0.00015   \n",
              "\n",
              "                               surprisal_bert                                \\\n",
              "                  75%      max          count      mean       std       min   \n",
              "text_number                                                                   \n",
              "1            0.000567  3.67163          634.0  4.554461  3.403591  0.003920   \n",
              "2            0.000790  3.67163          700.0  5.272620  3.849307  0.000360   \n",
              "3            0.001525  3.67163          591.0  5.481489  4.496956  0.001780   \n",
              "4            0.000600  0.52654          558.0  5.189576  3.576448  0.003173   \n",
              "\n",
              "                                                      \n",
              "                  25%       50%       75%        max  \n",
              "text_number                                           \n",
              "1            1.924125  3.824577  6.474626  19.570946  \n",
              "2            2.009906  4.625924  8.001030  21.285225  \n",
              "3            1.923560  4.495569  7.796248  29.840946  \n",
              "4            2.261587  4.455662  7.522698  16.407284  "
            ],
            "text/html": [
              "\n",
              "  <div id=\"df-70e24c14-bdda-4897-8467-20a70915d5f9\">\n",
              "    <div class=\"colab-df-container\">\n",
              "      <div>\n",
              "<style scoped>\n",
              "    .dataframe tbody tr th:only-of-type {\n",
              "        vertical-align: middle;\n",
              "    }\n",
              "\n",
              "    .dataframe tbody tr th {\n",
              "        vertical-align: top;\n",
              "    }\n",
              "\n",
              "    .dataframe thead tr th {\n",
              "        text-align: left;\n",
              "    }\n",
              "\n",
              "    .dataframe thead tr:last-of-type th {\n",
              "        text-align: right;\n",
              "    }\n",
              "</style>\n",
              "<table border=\"1\" class=\"dataframe\">\n",
              "  <thead>\n",
              "    <tr>\n",
              "      <th></th>\n",
              "      <th colspan=\"8\" halign=\"left\">synt_surprisal</th>\n",
              "      <th colspan=\"8\" halign=\"left\">surprisal_bert</th>\n",
              "    </tr>\n",
              "    <tr>\n",
              "      <th></th>\n",
              "      <th>count</th>\n",
              "      <th>mean</th>\n",
              "      <th>std</th>\n",
              "      <th>min</th>\n",
              "      <th>25%</th>\n",
              "      <th>50%</th>\n",
              "      <th>75%</th>\n",
              "      <th>max</th>\n",
              "      <th>count</th>\n",
              "      <th>mean</th>\n",
              "      <th>std</th>\n",
              "      <th>min</th>\n",
              "      <th>25%</th>\n",
              "      <th>50%</th>\n",
              "      <th>75%</th>\n",
              "      <th>max</th>\n",
              "    </tr>\n",
              "    <tr>\n",
              "      <th>text_number</th>\n",
              "      <th></th>\n",
              "      <th></th>\n",
              "      <th></th>\n",
              "      <th></th>\n",
              "      <th></th>\n",
              "      <th></th>\n",
              "      <th></th>\n",
              "      <th></th>\n",
              "      <th></th>\n",
              "      <th></th>\n",
              "      <th></th>\n",
              "      <th></th>\n",
              "      <th></th>\n",
              "      <th></th>\n",
              "      <th></th>\n",
              "      <th></th>\n",
              "    </tr>\n",
              "  </thead>\n",
              "  <tbody>\n",
              "    <tr>\n",
              "      <th>1</th>\n",
              "      <td>634.0</td>\n",
              "      <td>0.032755</td>\n",
              "      <td>0.262530</td>\n",
              "      <td>-0.0</td>\n",
              "      <td>0.00006</td>\n",
              "      <td>0.00016</td>\n",
              "      <td>0.000567</td>\n",
              "      <td>3.67163</td>\n",
              "      <td>634.0</td>\n",
              "      <td>4.554461</td>\n",
              "      <td>3.403591</td>\n",
              "      <td>0.003920</td>\n",
              "      <td>1.924125</td>\n",
              "      <td>3.824577</td>\n",
              "      <td>6.474626</td>\n",
              "      <td>19.570946</td>\n",
              "    </tr>\n",
              "    <tr>\n",
              "      <th>2</th>\n",
              "      <td>700.0</td>\n",
              "      <td>0.021214</td>\n",
              "      <td>0.205842</td>\n",
              "      <td>0.0</td>\n",
              "      <td>0.00005</td>\n",
              "      <td>0.00018</td>\n",
              "      <td>0.000790</td>\n",
              "      <td>3.67163</td>\n",
              "      <td>700.0</td>\n",
              "      <td>5.272620</td>\n",
              "      <td>3.849307</td>\n",
              "      <td>0.000360</td>\n",
              "      <td>2.009906</td>\n",
              "      <td>4.625924</td>\n",
              "      <td>8.001030</td>\n",
              "      <td>21.285225</td>\n",
              "    </tr>\n",
              "    <tr>\n",
              "      <th>3</th>\n",
              "      <td>591.0</td>\n",
              "      <td>0.036837</td>\n",
              "      <td>0.274479</td>\n",
              "      <td>0.0</td>\n",
              "      <td>0.00006</td>\n",
              "      <td>0.00024</td>\n",
              "      <td>0.001525</td>\n",
              "      <td>3.67163</td>\n",
              "      <td>591.0</td>\n",
              "      <td>5.481489</td>\n",
              "      <td>4.496956</td>\n",
              "      <td>0.001780</td>\n",
              "      <td>1.923560</td>\n",
              "      <td>4.495569</td>\n",
              "      <td>7.796248</td>\n",
              "      <td>29.840946</td>\n",
              "    </tr>\n",
              "    <tr>\n",
              "      <th>4</th>\n",
              "      <td>558.0</td>\n",
              "      <td>0.010449</td>\n",
              "      <td>0.053417</td>\n",
              "      <td>-0.0</td>\n",
              "      <td>0.00005</td>\n",
              "      <td>0.00015</td>\n",
              "      <td>0.000600</td>\n",
              "      <td>0.52654</td>\n",
              "      <td>558.0</td>\n",
              "      <td>5.189576</td>\n",
              "      <td>3.576448</td>\n",
              "      <td>0.003173</td>\n",
              "      <td>2.261587</td>\n",
              "      <td>4.455662</td>\n",
              "      <td>7.522698</td>\n",
              "      <td>16.407284</td>\n",
              "    </tr>\n",
              "  </tbody>\n",
              "</table>\n",
              "</div>\n",
              "      <button class=\"colab-df-convert\" onclick=\"convertToInteractive('df-70e24c14-bdda-4897-8467-20a70915d5f9')\"\n",
              "              title=\"Convert this dataframe to an interactive table.\"\n",
              "              style=\"display:none;\">\n",
              "        \n",
              "  <svg xmlns=\"http://www.w3.org/2000/svg\" height=\"24px\"viewBox=\"0 0 24 24\"\n",
              "       width=\"24px\">\n",
              "    <path d=\"M0 0h24v24H0V0z\" fill=\"none\"/>\n",
              "    <path d=\"M18.56 5.44l.94 2.06.94-2.06 2.06-.94-2.06-.94-.94-2.06-.94 2.06-2.06.94zm-11 1L8.5 8.5l.94-2.06 2.06-.94-2.06-.94L8.5 2.5l-.94 2.06-2.06.94zm10 10l.94 2.06.94-2.06 2.06-.94-2.06-.94-.94-2.06-.94 2.06-2.06.94z\"/><path d=\"M17.41 7.96l-1.37-1.37c-.4-.4-.92-.59-1.43-.59-.52 0-1.04.2-1.43.59L10.3 9.45l-7.72 7.72c-.78.78-.78 2.05 0 2.83L4 21.41c.39.39.9.59 1.41.59.51 0 1.02-.2 1.41-.59l7.78-7.78 2.81-2.81c.8-.78.8-2.07 0-2.86zM5.41 20L4 18.59l7.72-7.72 1.47 1.35L5.41 20z\"/>\n",
              "  </svg>\n",
              "      </button>\n",
              "      \n",
              "  <style>\n",
              "    .colab-df-container {\n",
              "      display:flex;\n",
              "      flex-wrap:wrap;\n",
              "      gap: 12px;\n",
              "    }\n",
              "\n",
              "    .colab-df-convert {\n",
              "      background-color: #E8F0FE;\n",
              "      border: none;\n",
              "      border-radius: 50%;\n",
              "      cursor: pointer;\n",
              "      display: none;\n",
              "      fill: #1967D2;\n",
              "      height: 32px;\n",
              "      padding: 0 0 0 0;\n",
              "      width: 32px;\n",
              "    }\n",
              "\n",
              "    .colab-df-convert:hover {\n",
              "      background-color: #E2EBFA;\n",
              "      box-shadow: 0px 1px 2px rgba(60, 64, 67, 0.3), 0px 1px 3px 1px rgba(60, 64, 67, 0.15);\n",
              "      fill: #174EA6;\n",
              "    }\n",
              "\n",
              "    [theme=dark] .colab-df-convert {\n",
              "      background-color: #3B4455;\n",
              "      fill: #D2E3FC;\n",
              "    }\n",
              "\n",
              "    [theme=dark] .colab-df-convert:hover {\n",
              "      background-color: #434B5C;\n",
              "      box-shadow: 0px 1px 3px 1px rgba(0, 0, 0, 0.15);\n",
              "      filter: drop-shadow(0px 1px 2px rgba(0, 0, 0, 0.3));\n",
              "      fill: #FFFFFF;\n",
              "    }\n",
              "  </style>\n",
              "\n",
              "      <script>\n",
              "        const buttonEl =\n",
              "          document.querySelector('#df-70e24c14-bdda-4897-8467-20a70915d5f9 button.colab-df-convert');\n",
              "        buttonEl.style.display =\n",
              "          google.colab.kernel.accessAllowed ? 'block' : 'none';\n",
              "\n",
              "        async function convertToInteractive(key) {\n",
              "          const element = document.querySelector('#df-70e24c14-bdda-4897-8467-20a70915d5f9');\n",
              "          const dataTable =\n",
              "            await google.colab.kernel.invokeFunction('convertToInteractive',\n",
              "                                                     [key], {});\n",
              "          if (!dataTable) return;\n",
              "\n",
              "          const docLinkHtml = 'Like what you see? Visit the ' +\n",
              "            '<a target=\"_blank\" href=https://colab.research.google.com/notebooks/data_table.ipynb>data table notebook</a>'\n",
              "            + ' to learn more about interactive tables.';\n",
              "          element.innerHTML = '';\n",
              "          dataTable['output_type'] = 'display_data';\n",
              "          await google.colab.output.renderOutput(dataTable, element);\n",
              "          const docLink = document.createElement('div');\n",
              "          docLink.innerHTML = docLinkHtml;\n",
              "          element.appendChild(docLink);\n",
              "        }\n",
              "      </script>\n",
              "    </div>\n",
              "  </div>\n",
              "  "
            ]
          },
          "metadata": {},
          "execution_count": 28
        }
      ]
    },
    {
      "cell_type": "code",
      "source": [
        "import matplotlib.pyplot as plt\n",
        "import pandas as pd\n",
        "\n",
        "\n",
        "# Create a box plot for syntactic_surprisal\n",
        "ax = df.boxplot(column='synt_surprisal', by='text_number', figsize=(5, 5), showfliers=False)\n",
        "\n",
        "ax.set_xlabel('Text ID')\n",
        "ax.set_ylabel('Syntactic Surprisal')\n",
        "ax.grid(False)\n",
        "\n",
        "labels = ['Dickens', 'Flytrap', 'Genome', 'Northpole']\n",
        "ax.set_xticklabels(labels)\n",
        "# Show the plot\n",
        "\n",
        "fig.suptitle('Syntactic Surprisal')\n",
        "plt.show()\n"
      ],
      "metadata": {
        "colab": {
          "base_uri": "https://localhost:8080/",
          "height": 494
        },
        "id": "VhUOrRRJ77-c",
        "outputId": "e19f3b86-1704-44de-f9d7-ec08dba88393"
      },
      "execution_count": null,
      "outputs": [
        {
          "output_type": "display_data",
          "data": {
            "text/plain": [
              "<Figure size 500x500 with 1 Axes>"
            ],
            "image/png": "[encoded data removed]"
          },
          "metadata": {}
        }
      ]
    },
    {
      "cell_type": "code",
      "source": [
        "import matplotlib.pyplot as plt\n",
        "\n",
        "# Create a box plot for lexical surprisal\n",
        "ax = df.boxplot(column='surprisal_bert', by='text_number', figsize=(5, 5), showfliers=False)\n",
        "\n",
        "ax.set_xlabel('Text ID')\n",
        "ax.set_ylabel('Lexical Surprisal')\n",
        "ax.grid(False)\n",
        "# Change x-axis labels\n",
        "labels = ['Dickens', 'Flytrap', 'Genome', 'Northpole']\n",
        "ax.set_xticklabels(labels)\n",
        "\n",
        "# Show the plot\n",
        "plt.show()"
      ],
      "metadata": {
        "colab": {
          "base_uri": "https://localhost:8080/",
          "height": 494
        },
        "id": "xDQtxzXDBw7g",
        "outputId": "c4dd50a3-b103-49ba-9766-787817be3bcb"
      },
      "execution_count": null,
      "outputs": [
        {
          "output_type": "display_data",
          "data": {
            "text/plain": [
              "<Figure size 500x500 with 1 Axes>"
            ],
            "image/png": "[encoded data removed]"
          },
          "metadata": {}
        }
      ]
    },
    {
      "cell_type": "markdown",
      "source": [
        "##Deps"
      ],
      "metadata": {
        "id": "ltLvaQ66W2uR"
      }
    },
    {
      "cell_type": "code",
      "source": [],
      "metadata": {
        "id": "0dNUkuyL-mIR"
      },
      "execution_count": null,
      "outputs": []
    },
    {
      "cell_type": "code",
      "source": [
        "print(\"Number of deps on right/left\")\n",
        "df.groupby('text_number')[['n_rights', \"n_lefts\"]].describe()"
      ],
      "metadata": {
        "colab": {
          "base_uri": "https://localhost:8080/",
          "height": 248
        },
        "id": "3sZteZgPrZV_",
        "outputId": "4f4ddaab-806b-4e26-ed31-dc7c214c475d"
      },
      "execution_count": null,
      "outputs": [
        {
          "output_type": "stream",
          "name": "stdout",
          "text": [
            "Number of deps on right/left\n"
          ]
        },
        {
          "output_type": "execute_result",
          "data": {
            "text/plain": [
              "            n_rights                                              n_lefts  \\\n",
              "               count      mean       std  min  25%  50%  75%  max   count   \n",
              "text_number                                                                 \n",
              "1              634.0  0.539432  1.028438  0.0  0.0  0.0  1.0  7.0   634.0   \n",
              "2              700.0  0.482857  0.866475  0.0  0.0  0.0  1.0  7.0   700.0   \n",
              "3              591.0  0.575296  0.940969  0.0  0.0  0.0  1.0  5.0   591.0   \n",
              "4              558.0  0.560932  0.976775  0.0  0.0  0.0  1.0  6.0   558.0   \n",
              "\n",
              "                                                          \n",
              "                 mean       std  min  25%  50%  75%  max  \n",
              "text_number                                               \n",
              "1            0.515773  0.962440  0.0  0.0  0.0  1.0  8.0  \n",
              "2            0.567143  0.937110  0.0  0.0  0.0  1.0  6.0  \n",
              "3            0.509306  0.894142  0.0  0.0  0.0  1.0  5.0  \n",
              "4            0.487455  0.888195  0.0  0.0  0.0  1.0  5.0  "
            ],
            "text/html": [
              "\n",
              "  <div id=\"df-5dc6cf62-8a7d-4805-98dd-82b5d56ae61e\">\n",
              "    <div class=\"colab-df-container\">\n",
              "      <div>\n",
              "<style scoped>\n",
              "    .dataframe tbody tr th:only-of-type {\n",
              "        vertical-align: middle;\n",
              "    }\n",
              "\n",
              "    .dataframe tbody tr th {\n",
              "        vertical-align: top;\n",
              "    }\n",
              "\n",
              "    .dataframe thead tr th {\n",
              "        text-align: left;\n",
              "    }\n",
              "\n",
              "    .dataframe thead tr:last-of-type th {\n",
              "        text-align: right;\n",
              "    }\n",
              "</style>\n",
              "<table border=\"1\" class=\"dataframe\">\n",
              "  <thead>\n",
              "    <tr>\n",
              "      <th></th>\n",
              "      <th colspan=\"8\" halign=\"left\">n_rights</th>\n",
              "      <th colspan=\"8\" halign=\"left\">n_lefts</th>\n",
              "    </tr>\n",
              "    <tr>\n",
              "      <th></th>\n",
              "      <th>count</th>\n",
              "      <th>mean</th>\n",
              "      <th>std</th>\n",
              "      <th>min</th>\n",
              "      <th>25%</th>\n",
              "      <th>50%</th>\n",
              "      <th>75%</th>\n",
              "      <th>max</th>\n",
              "      <th>count</th>\n",
              "      <th>mean</th>\n",
              "      <th>std</th>\n",
              "      <th>min</th>\n",
              "      <th>25%</th>\n",
              "      <th>50%</th>\n",
              "      <th>75%</th>\n",
              "      <th>max</th>\n",
              "    </tr>\n",
              "    <tr>\n",
              "      <th>text_number</th>\n",
              "      <th></th>\n",
              "      <th></th>\n",
              "      <th></th>\n",
              "      <th></th>\n",
              "      <th></th>\n",
              "      <th></th>\n",
              "      <th></th>\n",
              "      <th></th>\n",
              "      <th></th>\n",
              "      <th></th>\n",
              "      <th></th>\n",
              "      <th></th>\n",
              "      <th></th>\n",
              "      <th></th>\n",
              "      <th></th>\n",
              "      <th></th>\n",
              "    </tr>\n",
              "  </thead>\n",
              "  <tbody>\n",
              "    <tr>\n",
              "      <th>1</th>\n",
              "      <td>634.0</td>\n",
              "      <td>0.539432</td>\n",
              "      <td>1.028438</td>\n",
              "      <td>0.0</td>\n",
              "      <td>0.0</td>\n",
              "      <td>0.0</td>\n",
              "      <td>1.0</td>\n",
              "      <td>7.0</td>\n",
              "      <td>634.0</td>\n",
              "      <td>0.515773</td>\n",
              "      <td>0.962440</td>\n",
              "      <td>0.0</td>\n",
              "      <td>0.0</td>\n",
              "      <td>0.0</td>\n",
              "      <td>1.0</td>\n",
              "      <td>8.0</td>\n",
              "    </tr>\n",
              "    <tr>\n",
              "      <th>2</th>\n",
              "      <td>700.0</td>\n",
              "      <td>0.482857</td>\n",
              "      <td>0.866475</td>\n",
              "      <td>0.0</td>\n",
              "      <td>0.0</td>\n",
              "      <td>0.0</td>\n",
              "      <td>1.0</td>\n",
              "      <td>7.0</td>\n",
              "      <td>700.0</td>\n",
              "      <td>0.567143</td>\n",
              "      <td>0.937110</td>\n",
              "      <td>0.0</td>\n",
              "      <td>0.0</td>\n",
              "      <td>0.0</td>\n",
              "      <td>1.0</td>\n",
              "      <td>6.0</td>\n",
              "    </tr>\n",
              "    <tr>\n",
              "      <th>3</th>\n",
              "      <td>591.0</td>\n",
              "      <td>0.575296</td>\n",
              "      <td>0.940969</td>\n",
              "      <td>0.0</td>\n",
              "      <td>0.0</td>\n",
              "      <td>0.0</td>\n",
              "      <td>1.0</td>\n",
              "      <td>5.0</td>\n",
              "      <td>591.0</td>\n",
              "      <td>0.509306</td>\n",
              "      <td>0.894142</td>\n",
              "      <td>0.0</td>\n",
              "      <td>0.0</td>\n",
              "      <td>0.0</td>\n",
              "      <td>1.0</td>\n",
              "      <td>5.0</td>\n",
              "    </tr>\n",
              "    <tr>\n",
              "      <th>4</th>\n",
              "      <td>558.0</td>\n",
              "      <td>0.560932</td>\n",
              "      <td>0.976775</td>\n",
              "      <td>0.0</td>\n",
              "      <td>0.0</td>\n",
              "      <td>0.0</td>\n",
              "      <td>1.0</td>\n",
              "      <td>6.0</td>\n",
              "      <td>558.0</td>\n",
              "      <td>0.487455</td>\n",
              "      <td>0.888195</td>\n",
              "      <td>0.0</td>\n",
              "      <td>0.0</td>\n",
              "      <td>0.0</td>\n",
              "      <td>1.0</td>\n",
              "      <td>5.0</td>\n",
              "    </tr>\n",
              "  </tbody>\n",
              "</table>\n",
              "</div>\n",
              "      <button class=\"colab-df-convert\" onclick=\"convertToInteractive('df-5dc6cf62-8a7d-4805-98dd-82b5d56ae61e')\"\n",
              "              title=\"Convert this dataframe to an interactive table.\"\n",
              "              style=\"display:none;\">\n",
              "        \n",
              "  <svg xmlns=\"http://www.w3.org/2000/svg\" height=\"24px\"viewBox=\"0 0 24 24\"\n",
              "       width=\"24px\">\n",
              "    <path d=\"M0 0h24v24H0V0z\" fill=\"none\"/>\n",
              "    <path d=\"M18.56 5.44l.94 2.06.94-2.06 2.06-.94-2.06-.94-.94-2.06-.94 2.06-2.06.94zm-11 1L8.5 8.5l.94-2.06 2.06-.94-2.06-.94L8.5 2.5l-.94 2.06-2.06.94zm10 10l.94 2.06.94-2.06 2.06-.94-2.06-.94-.94-2.06-.94 2.06-2.06.94z\"/><path d=\"M17.41 7.96l-1.37-1.37c-.4-.4-.92-.59-1.43-.59-.52 0-1.04.2-1.43.59L10.3 9.45l-7.72 7.72c-.78.78-.78 2.05 0 2.83L4 21.41c.39.39.9.59 1.41.59.51 0 1.02-.2 1.41-.59l7.78-7.78 2.81-2.81c.8-.78.8-2.07 0-2.86zM5.41 20L4 18.59l7.72-7.72 1.47 1.35L5.41 20z\"/>\n",
              "  </svg>\n",
              "      </button>\n",
              "      \n",
              "  <style>\n",
              "    .colab-df-container {\n",
              "      display:flex;\n",
              "      flex-wrap:wrap;\n",
              "      gap: 12px;\n",
              "    }\n",
              "\n",
              "    .colab-df-convert {\n",
              "      background-color: #E8F0FE;\n",
              "      border: none;\n",
              "      border-radius: 50%;\n",
              "      cursor: pointer;\n",
              "      display: none;\n",
              "      fill: #1967D2;\n",
              "      height: 32px;\n",
              "      padding: 0 0 0 0;\n",
              "      width: 32px;\n",
              "    }\n",
              "\n",
              "    .colab-df-convert:hover {\n",
              "      background-color: #E2EBFA;\n",
              "      box-shadow: 0px 1px 2px rgba(60, 64, 67, 0.3), 0px 1px 3px 1px rgba(60, 64, 67, 0.15);\n",
              "      fill: #174EA6;\n",
              "    }\n",
              "\n",
              "    [theme=dark] .colab-df-convert {\n",
              "      background-color: #3B4455;\n",
              "      fill: #D2E3FC;\n",
              "    }\n",
              "\n",
              "    [theme=dark] .colab-df-convert:hover {\n",
              "      background-color: #434B5C;\n",
              "      box-shadow: 0px 1px 3px 1px rgba(0, 0, 0, 0.15);\n",
              "      filter: drop-shadow(0px 1px 2px rgba(0, 0, 0, 0.3));\n",
              "      fill: #FFFFFF;\n",
              "    }\n",
              "  </style>\n",
              "\n",
              "      <script>\n",
              "        const buttonEl =\n",
              "          document.querySelector('#df-5dc6cf62-8a7d-4805-98dd-82b5d56ae61e button.colab-df-convert');\n",
              "        buttonEl.style.display =\n",
              "          google.colab.kernel.accessAllowed ? 'block' : 'none';\n",
              "\n",
              "        async function convertToInteractive(key) {\n",
              "          const element = document.querySelector('#df-5dc6cf62-8a7d-4805-98dd-82b5d56ae61e');\n",
              "          const dataTable =\n",
              "            await google.colab.kernel.invokeFunction('convertToInteractive',\n",
              "                                                     [key], {});\n",
              "          if (!dataTable) return;\n",
              "\n",
              "          const docLinkHtml = 'Like what you see? Visit the ' +\n",
              "            '<a target=\"_blank\" href=https://colab.research.google.com/notebooks/data_table.ipynb>data table notebook</a>'\n",
              "            + ' to learn more about interactive tables.';\n",
              "          element.innerHTML = '';\n",
              "          dataTable['output_type'] = 'display_data';\n",
              "          await google.colab.output.renderOutput(dataTable, element);\n",
              "          const docLink = document.createElement('div');\n",
              "          docLink.innerHTML = docLinkHtml;\n",
              "          element.appendChild(docLink);\n",
              "        }\n",
              "      </script>\n",
              "    </div>\n",
              "  </div>\n",
              "  "
            ]
          },
          "metadata": {},
          "execution_count": 29
        }
      ]
    },
    {
      "cell_type": "code",
      "source": [
        "df.groupby('text_number')['dep_distance'].describe()"
      ],
      "metadata": {
        "colab": {
          "base_uri": "https://localhost:8080/",
          "height": 201
        },
        "id": "0yxCvaIBW_nP",
        "outputId": "dd123475-d8a0-4039-cb74-1d5ffd4b88d4"
      },
      "execution_count": null,
      "outputs": [
        {
          "output_type": "execute_result",
          "data": {
            "text/plain": [
              "             count      mean       std   min  25%  50%  75%   max\n",
              "text_number                                                      \n",
              "1            634.0  0.503155  3.952421 -20.0 -1.0  0.0  2.0  26.0\n",
              "2            700.0  0.161429  4.496503 -23.0 -1.0 -1.0  2.0  52.0\n",
              "3            591.0  0.263959  3.441724 -21.0 -1.0  0.0  2.0  20.0\n",
              "4            558.0  0.333333  3.844369 -32.0 -1.0  0.0  2.0  27.0"
            ],
            "text/html": [
              "\n",
              "  <div id=\"df-0f51ac7e-2d25-49a0-ac7c-f0bd3dbea4e0\">\n",
              "    <div class=\"colab-df-container\">\n",
              "      <div>\n",
              "<style scoped>\n",
              "    .dataframe tbody tr th:only-of-type {\n",
              "        vertical-align: middle;\n",
              "    }\n",
              "\n",
              "    .dataframe tbody tr th {\n",
              "        vertical-align: top;\n",
              "    }\n",
              "\n",
              "    .dataframe thead th {\n",
              "        text-align: right;\n",
              "    }\n",
              "</style>\n",
              "<table border=\"1\" class=\"dataframe\">\n",
              "  <thead>\n",
              "    <tr style=\"text-align: right;\">\n",
              "      <th></th>\n",
              "      <th>count</th>\n",
              "      <th>mean</th>\n",
              "      <th>std</th>\n",
              "      <th>min</th>\n",
              "      <th>25%</th>\n",
              "      <th>50%</th>\n",
              "      <th>75%</th>\n",
              "      <th>max</th>\n",
              "    </tr>\n",
              "    <tr>\n",
              "      <th>text_number</th>\n",
              "      <th></th>\n",
              "      <th></th>\n",
              "      <th></th>\n",
              "      <th></th>\n",
              "      <th></th>\n",
              "      <th></th>\n",
              "      <th></th>\n",
              "      <th></th>\n",
              "    </tr>\n",
              "  </thead>\n",
              "  <tbody>\n",
              "    <tr>\n",
              "      <th>1</th>\n",
              "      <td>634.0</td>\n",
              "      <td>0.503155</td>\n",
              "      <td>3.952421</td>\n",
              "      <td>-20.0</td>\n",
              "      <td>-1.0</td>\n",
              "      <td>0.0</td>\n",
              "      <td>2.0</td>\n",
              "      <td>26.0</td>\n",
              "    </tr>\n",
              "    <tr>\n",
              "      <th>2</th>\n",
              "      <td>700.0</td>\n",
              "      <td>0.161429</td>\n",
              "      <td>4.496503</td>\n",
              "      <td>-23.0</td>\n",
              "      <td>-1.0</td>\n",
              "      <td>-1.0</td>\n",
              "      <td>2.0</td>\n",
              "      <td>52.0</td>\n",
              "    </tr>\n",
              "    <tr>\n",
              "      <th>3</th>\n",
              "      <td>591.0</td>\n",
              "      <td>0.263959</td>\n",
              "      <td>3.441724</td>\n",
              "      <td>-21.0</td>\n",
              "      <td>-1.0</td>\n",
              "      <td>0.0</td>\n",
              "      <td>2.0</td>\n",
              "      <td>20.0</td>\n",
              "    </tr>\n",
              "    <tr>\n",
              "      <th>4</th>\n",
              "      <td>558.0</td>\n",
              "      <td>0.333333</td>\n",
              "      <td>3.844369</td>\n",
              "      <td>-32.0</td>\n",
              "      <td>-1.0</td>\n",
              "      <td>0.0</td>\n",
              "      <td>2.0</td>\n",
              "      <td>27.0</td>\n",
              "    </tr>\n",
              "  </tbody>\n",
              "</table>\n",
              "</div>\n",
              "      <button class=\"colab-df-convert\" onclick=\"convertToInteractive('df-0f51ac7e-2d25-49a0-ac7c-f0bd3dbea4e0')\"\n",
              "              title=\"Convert this dataframe to an interactive table.\"\n",
              "              style=\"display:none;\">\n",
              "        \n",
              "  <svg xmlns=\"http://www.w3.org/2000/svg\" height=\"24px\"viewBox=\"0 0 24 24\"\n",
              "       width=\"24px\">\n",
              "    <path d=\"M0 0h24v24H0V0z\" fill=\"none\"/>\n",
              "    <path d=\"M18.56 5.44l.94 2.06.94-2.06 2.06-.94-2.06-.94-.94-2.06-.94 2.06-2.06.94zm-11 1L8.5 8.5l.94-2.06 2.06-.94-2.06-.94L8.5 2.5l-.94 2.06-2.06.94zm10 10l.94 2.06.94-2.06 2.06-.94-2.06-.94-.94-2.06-.94 2.06-2.06.94z\"/><path d=\"M17.41 7.96l-1.37-1.37c-.4-.4-.92-.59-1.43-.59-.52 0-1.04.2-1.43.59L10.3 9.45l-7.72 7.72c-.78.78-.78 2.05 0 2.83L4 21.41c.39.39.9.59 1.41.59.51 0 1.02-.2 1.41-.59l7.78-7.78 2.81-2.81c.8-.78.8-2.07 0-2.86zM5.41 20L4 18.59l7.72-7.72 1.47 1.35L5.41 20z\"/>\n",
              "  </svg>\n",
              "      </button>\n",
              "      \n",
              "  <style>\n",
              "    .colab-df-container {\n",
              "      display:flex;\n",
              "      flex-wrap:wrap;\n",
              "      gap: 12px;\n",
              "    }\n",
              "\n",
              "    .colab-df-convert {\n",
              "      background-color: #E8F0FE;\n",
              "      border: none;\n",
              "      border-radius: 50%;\n",
              "      cursor: pointer;\n",
              "      display: none;\n",
              "      fill: #1967D2;\n",
              "      height: 32px;\n",
              "      padding: 0 0 0 0;\n",
              "      width: 32px;\n",
              "    }\n",
              "\n",
              "    .colab-df-convert:hover {\n",
              "      background-color: #E2EBFA;\n",
              "      box-shadow: 0px 1px 2px rgba(60, 64, 67, 0.3), 0px 1px 3px 1px rgba(60, 64, 67, 0.15);\n",
              "      fill: #174EA6;\n",
              "    }\n",
              "\n",
              "    [theme=dark] .colab-df-convert {\n",
              "      background-color: #3B4455;\n",
              "      fill: #D2E3FC;\n",
              "    }\n",
              "\n",
              "    [theme=dark] .colab-df-convert:hover {\n",
              "      background-color: #434B5C;\n",
              "      box-shadow: 0px 1px 3px 1px rgba(0, 0, 0, 0.15);\n",
              "      filter: drop-shadow(0px 1px 2px rgba(0, 0, 0, 0.3));\n",
              "      fill: #FFFFFF;\n",
              "    }\n",
              "  </style>\n",
              "\n",
              "      <script>\n",
              "        const buttonEl =\n",
              "          document.querySelector('#df-0f51ac7e-2d25-49a0-ac7c-f0bd3dbea4e0 button.colab-df-convert');\n",
              "        buttonEl.style.display =\n",
              "          google.colab.kernel.accessAllowed ? 'block' : 'none';\n",
              "\n",
              "        async function convertToInteractive(key) {\n",
              "          const element = document.querySelector('#df-0f51ac7e-2d25-49a0-ac7c-f0bd3dbea4e0');\n",
              "          const dataTable =\n",
              "            await google.colab.kernel.invokeFunction('convertToInteractive',\n",
              "                                                     [key], {});\n",
              "          if (!dataTable) return;\n",
              "\n",
              "          const docLinkHtml = 'Like what you see? Visit the ' +\n",
              "            '<a target=\"_blank\" href=https://colab.research.google.com/notebooks/data_table.ipynb>data table notebook</a>'\n",
              "            + ' to learn more about interactive tables.';\n",
              "          element.innerHTML = '';\n",
              "          dataTable['output_type'] = 'display_data';\n",
              "          await google.colab.output.renderOutput(dataTable, element);\n",
              "          const docLink = document.createElement('div');\n",
              "          docLink.innerHTML = docLinkHtml;\n",
              "          element.appendChild(docLink);\n",
              "        }\n",
              "      </script>\n",
              "    </div>\n",
              "  </div>\n",
              "  "
            ]
          },
          "metadata": {},
          "execution_count": 30
        }
      ]
    },
    {
      "cell_type": "code",
      "source": [],
      "metadata": {
        "id": "tB2Y10RGC8rZ"
      },
      "execution_count": null,
      "outputs": []
    },
    {
      "cell_type": "markdown",
      "source": [
        "##Semantics"
      ],
      "metadata": {
        "id": "6hqwKkB8XAeA"
      }
    },
    {
      "cell_type": "code",
      "source": [
        "print(\"Semantic similarity: \")\n",
        "df.groupby('text_number')['semantic_similarity_adjacent_sent'].describe()"
      ],
      "metadata": {
        "colab": {
          "base_uri": "https://localhost:8080/",
          "height": 217
        },
        "id": "hBxQ-gElXEXC",
        "outputId": "5ea592c7-1962-44fe-acfd-e42c0abf2ea1"
      },
      "execution_count": null,
      "outputs": [
        {
          "output_type": "stream",
          "name": "stdout",
          "text": [
            "Semantic similarity: \n"
          ]
        },
        {
          "output_type": "execute_result",
          "data": {
            "text/plain": [
              "             count       mean        std  min   25%   50%   75%   max\n",
              "text_number                                                          \n",
              "1            634.0  27.037855  14.993368  3.0  14.0  23.0  34.0  59.0\n",
              "2            700.0  27.700000   9.496103  2.0  20.0  29.0  36.0  42.0\n",
              "3            591.0  21.189509   9.079571  1.0  14.0  20.0  29.0  40.0\n",
              "4            558.0  25.419355  12.178495  2.0  16.0  22.0  35.0  45.0"
            ],
            "text/html": [
              "\n",
              "  <div id=\"df-3705a2c5-0348-4d71-ae7d-929977587070\">\n",
              "    <div class=\"colab-df-container\">\n",
              "      <div>\n",
              "<style scoped>\n",
              "    .dataframe tbody tr th:only-of-type {\n",
              "        vertical-align: middle;\n",
              "    }\n",
              "\n",
              "    .dataframe tbody tr th {\n",
              "        vertical-align: top;\n",
              "    }\n",
              "\n",
              "    .dataframe thead th {\n",
              "        text-align: right;\n",
              "    }\n",
              "</style>\n",
              "<table border=\"1\" class=\"dataframe\">\n",
              "  <thead>\n",
              "    <tr style=\"text-align: right;\">\n",
              "      <th></th>\n",
              "      <th>count</th>\n",
              "      <th>mean</th>\n",
              "      <th>std</th>\n",
              "      <th>min</th>\n",
              "      <th>25%</th>\n",
              "      <th>50%</th>\n",
              "      <th>75%</th>\n",
              "      <th>max</th>\n",
              "    </tr>\n",
              "    <tr>\n",
              "      <th>text_number</th>\n",
              "      <th></th>\n",
              "      <th></th>\n",
              "      <th></th>\n",
              "      <th></th>\n",
              "      <th></th>\n",
              "      <th></th>\n",
              "      <th></th>\n",
              "      <th></th>\n",
              "    </tr>\n",
              "  </thead>\n",
              "  <tbody>\n",
              "    <tr>\n",
              "      <th>1</th>\n",
              "      <td>634.0</td>\n",
              "      <td>27.037855</td>\n",
              "      <td>14.993368</td>\n",
              "      <td>3.0</td>\n",
              "      <td>14.0</td>\n",
              "      <td>23.0</td>\n",
              "      <td>34.0</td>\n",
              "      <td>59.0</td>\n",
              "    </tr>\n",
              "    <tr>\n",
              "      <th>2</th>\n",
              "      <td>700.0</td>\n",
              "      <td>27.700000</td>\n",
              "      <td>9.496103</td>\n",
              "      <td>2.0</td>\n",
              "      <td>20.0</td>\n",
              "      <td>29.0</td>\n",
              "      <td>36.0</td>\n",
              "      <td>42.0</td>\n",
              "    </tr>\n",
              "    <tr>\n",
              "      <th>3</th>\n",
              "      <td>591.0</td>\n",
              "      <td>21.189509</td>\n",
              "      <td>9.079571</td>\n",
              "      <td>1.0</td>\n",
              "      <td>14.0</td>\n",
              "      <td>20.0</td>\n",
              "      <td>29.0</td>\n",
              "      <td>40.0</td>\n",
              "    </tr>\n",
              "    <tr>\n",
              "      <th>4</th>\n",
              "      <td>558.0</td>\n",
              "      <td>25.419355</td>\n",
              "      <td>12.178495</td>\n",
              "      <td>2.0</td>\n",
              "      <td>16.0</td>\n",
              "      <td>22.0</td>\n",
              "      <td>35.0</td>\n",
              "      <td>45.0</td>\n",
              "    </tr>\n",
              "  </tbody>\n",
              "</table>\n",
              "</div>\n",
              "      <button class=\"colab-df-convert\" onclick=\"convertToInteractive('df-3705a2c5-0348-4d71-ae7d-929977587070')\"\n",
              "              title=\"Convert this dataframe to an interactive table.\"\n",
              "              style=\"display:none;\">\n",
              "        \n",
              "  <svg xmlns=\"http://www.w3.org/2000/svg\" height=\"24px\"viewBox=\"0 0 24 24\"\n",
              "       width=\"24px\">\n",
              "    <path d=\"M0 0h24v24H0V0z\" fill=\"none\"/>\n",
              "    <path d=\"M18.56 5.44l.94 2.06.94-2.06 2.06-.94-2.06-.94-.94-2.06-.94 2.06-2.06.94zm-11 1L8.5 8.5l.94-2.06 2.06-.94-2.06-.94L8.5 2.5l-.94 2.06-2.06.94zm10 10l.94 2.06.94-2.06 2.06-.94-2.06-.94-.94-2.06-.94 2.06-2.06.94z\"/><path d=\"M17.41 7.96l-1.37-1.37c-.4-.4-.92-.59-1.43-.59-.52 0-1.04.2-1.43.59L10.3 9.45l-7.72 7.72c-.78.78-.78 2.05 0 2.83L4 21.41c.39.39.9.59 1.41.59.51 0 1.02-.2 1.41-.59l7.78-7.78 2.81-2.81c.8-.78.8-2.07 0-2.86zM5.41 20L4 18.59l7.72-7.72 1.47 1.35L5.41 20z\"/>\n",
              "  </svg>\n",
              "      </button>\n",
              "      \n",
              "  <style>\n",
              "    .colab-df-container {\n",
              "      display:flex;\n",
              "      flex-wrap:wrap;\n",
              "      gap: 12px;\n",
              "    }\n",
              "\n",
              "    .colab-df-convert {\n",
              "      background-color: #E8F0FE;\n",
              "      border: none;\n",
              "      border-radius: 50%;\n",
              "      cursor: pointer;\n",
              "      display: none;\n",
              "      fill: #1967D2;\n",
              "      height: 32px;\n",
              "      padding: 0 0 0 0;\n",
              "      width: 32px;\n",
              "    }\n",
              "\n",
              "    .colab-df-convert:hover {\n",
              "      background-color: #E2EBFA;\n",
              "      box-shadow: 0px 1px 2px rgba(60, 64, 67, 0.3), 0px 1px 3px 1px rgba(60, 64, 67, 0.15);\n",
              "      fill: #174EA6;\n",
              "    }\n",
              "\n",
              "    [theme=dark] .colab-df-convert {\n",
              "      background-color: #3B4455;\n",
              "      fill: #D2E3FC;\n",
              "    }\n",
              "\n",
              "    [theme=dark] .colab-df-convert:hover {\n",
              "      background-color: #434B5C;\n",
              "      box-shadow: 0px 1px 3px 1px rgba(0, 0, 0, 0.15);\n",
              "      filter: drop-shadow(0px 1px 2px rgba(0, 0, 0, 0.3));\n",
              "      fill: #FFFFFF;\n",
              "    }\n",
              "  </style>\n",
              "\n",
              "      <script>\n",
              "        const buttonEl =\n",
              "          document.querySelector('#df-3705a2c5-0348-4d71-ae7d-929977587070 button.colab-df-convert');\n",
              "        buttonEl.style.display =\n",
              "          google.colab.kernel.accessAllowed ? 'block' : 'none';\n",
              "\n",
              "        async function convertToInteractive(key) {\n",
              "          const element = document.querySelector('#df-3705a2c5-0348-4d71-ae7d-929977587070');\n",
              "          const dataTable =\n",
              "            await google.colab.kernel.invokeFunction('convertToInteractive',\n",
              "                                                     [key], {});\n",
              "          if (!dataTable) return;\n",
              "\n",
              "          const docLinkHtml = 'Like what you see? Visit the ' +\n",
              "            '<a target=\"_blank\" href=https://colab.research.google.com/notebooks/data_table.ipynb>data table notebook</a>'\n",
              "            + ' to learn more about interactive tables.';\n",
              "          element.innerHTML = '';\n",
              "          dataTable['output_type'] = 'display_data';\n",
              "          await google.colab.output.renderOutput(dataTable, element);\n",
              "          const docLink = document.createElement('div');\n",
              "          docLink.innerHTML = docLinkHtml;\n",
              "          element.appendChild(docLink);\n",
              "        }\n",
              "      </script>\n",
              "    </div>\n",
              "  </div>\n",
              "  "
            ]
          },
          "metadata": {},
          "execution_count": 31
        }
      ]
    },
    {
      "cell_type": "code",
      "source": [
        "df['semantic_similarity_adjacent_sent'].head()"
      ],
      "metadata": {
        "colab": {
          "base_uri": "https://localhost:8080/"
        },
        "id": "rDpQLfQh_Vk0",
        "outputId": "03bf5eb2-8d95-4b4c-9b25-6f43056bcfb7"
      },
      "execution_count": null,
      "outputs": [
        {
          "output_type": "execute_result",
          "data": {
            "text/plain": [
              "0    11\n",
              "1    11\n",
              "2    11\n",
              "3    11\n",
              "4    11\n",
              "Name: semantic_similarity_adjacent_sent, dtype: int64"
            ]
          },
          "metadata": {},
          "execution_count": 32
        }
      ]
    },
    {
      "cell_type": "code",
      "source": [
        "# Create a box plot for lexical surprisal\n",
        "ax = df.boxplot(column='semantic_similarity_adjacent_sent', by='text_number', figsize=(5, 5), showfliers=False)\n",
        "\n",
        "ax.set_xlabel('Text ID')\n",
        "ax.set_ylabel('Lexical Surprisal')\n",
        "ax.grid(False)\n",
        "# Change x-axis labels\n",
        "labels = ['Dickens', 'Flytrap', 'Genome', 'Northpole']\n",
        "ax.set_xticklabels(labels)\n",
        "\n",
        "# Show the plot\n",
        "plt.show()"
      ],
      "metadata": {
        "colab": {
          "base_uri": "https://localhost:8080/",
          "height": 494
        },
        "id": "Z9X3Wu45DDc4",
        "outputId": "132bf2af-dac6-4cdb-b37f-eeddb76a57a5"
      },
      "execution_count": null,
      "outputs": [
        {
          "output_type": "display_data",
          "data": {
            "text/plain": [
              "<Figure size 500x500 with 1 Axes>"
            ],
            "image/png": "[encoded data removed]"
          },
          "metadata": {}
        }
      ]
    },
    {
      "cell_type": "markdown",
      "source": [
        "##Lexical density, lexical overlap, ttr"
      ],
      "metadata": {
        "id": "eD_bpnUNXctJ"
      }
    },
    {
      "cell_type": "code",
      "source": [
        "print(\"lexical density text: \")\n",
        "print(\"Dickens: \", df_dickens['t_lexical_density'].unique()[0])\n",
        "print(\"Flytrap: \", df_flytrap['t_lexical_density'].unique()[0])\n",
        "print(\"Genome: \", df_genome['t_lexical_density'].unique()[0])\n",
        "print(\"Northpole: \", df_northpole['t_lexical_density'].unique()[0])\n",
        "print(\"Lexical density sentences: \")\n",
        "df.groupby('text_number')['sent_lexical_density_tokens'].describe()"
      ],
      "metadata": {
        "colab": {
          "base_uri": "https://localhost:8080/",
          "height": 300
        },
        "id": "-d5kMzlAtCwp",
        "outputId": "44aca6b7-9bbf-4896-9425-7495170490ca"
      },
      "execution_count": null,
      "outputs": [
        {
          "output_type": "stream",
          "name": "stdout",
          "text": [
            "lexical density text: \n",
            "Dickens:  0.4432\n",
            "Flytrap:  0.5559\n",
            "Genome:  0.5778\n",
            "Northpole:  0.4306\n",
            "Lexical density sentences: \n"
          ]
        },
        {
          "output_type": "execute_result",
          "data": {
            "text/plain": [
              "             count      mean       std       min       25%       50%  \\\n",
              "text_number                                                            \n",
              "1            634.0  0.444797  0.090048  0.230769  0.400000  0.440678   \n",
              "2            700.0  0.547142  0.049515  0.411765  0.529412  0.555556   \n",
              "3            591.0  0.575295  0.109610  0.400000  0.481481  0.548387   \n",
              "4            558.0  0.430107  0.081567  0.250000  0.377778  0.437500   \n",
              "\n",
              "                  75%       max  \n",
              "text_number                      \n",
              "1            0.500000  0.666667  \n",
              "2            0.575342  0.800000  \n",
              "3            0.645161  0.888889  \n",
              "4            0.481481  0.600000  "
            ],
            "text/html": [
              "\n",
              "  <div id=\"df-9b7c8bca-86d5-4eeb-91d7-7998d833ae47\">\n",
              "    <div class=\"colab-df-container\">\n",
              "      <div>\n",
              "<style scoped>\n",
              "    .dataframe tbody tr th:only-of-type {\n",
              "        vertical-align: middle;\n",
              "    }\n",
              "\n",
              "    .dataframe tbody tr th {\n",
              "        vertical-align: top;\n",
              "    }\n",
              "\n",
              "    .dataframe thead th {\n",
              "        text-align: right;\n",
              "    }\n",
              "</style>\n",
              "<table border=\"1\" class=\"dataframe\">\n",
              "  <thead>\n",
              "    <tr style=\"text-align: right;\">\n",
              "      <th></th>\n",
              "      <th>count</th>\n",
              "      <th>mean</th>\n",
              "      <th>std</th>\n",
              "      <th>min</th>\n",
              "      <th>25%</th>\n",
              "      <th>50%</th>\n",
              "      <th>75%</th>\n",
              "      <th>max</th>\n",
              "    </tr>\n",
              "    <tr>\n",
              "      <th>text_number</th>\n",
              "      <th></th>\n",
              "      <th></th>\n",
              "      <th></th>\n",
              "      <th></th>\n",
              "      <th></th>\n",
              "      <th></th>\n",
              "      <th></th>\n",
              "      <th></th>\n",
              "    </tr>\n",
              "  </thead>\n",
              "  <tbody>\n",
              "    <tr>\n",
              "      <th>1</th>\n",
              "      <td>634.0</td>\n",
              "      <td>0.444797</td>\n",
              "      <td>0.090048</td>\n",
              "      <td>0.230769</td>\n",
              "      <td>0.400000</td>\n",
              "      <td>0.440678</td>\n",
              "      <td>0.500000</td>\n",
              "      <td>0.666667</td>\n",
              "    </tr>\n",
              "    <tr>\n",
              "      <th>2</th>\n",
              "      <td>700.0</td>\n",
              "      <td>0.547142</td>\n",
              "      <td>0.049515</td>\n",
              "      <td>0.411765</td>\n",
              "      <td>0.529412</td>\n",
              "      <td>0.555556</td>\n",
              "      <td>0.575342</td>\n",
              "      <td>0.800000</td>\n",
              "    </tr>\n",
              "    <tr>\n",
              "      <th>3</th>\n",
              "      <td>591.0</td>\n",
              "      <td>0.575295</td>\n",
              "      <td>0.109610</td>\n",
              "      <td>0.400000</td>\n",
              "      <td>0.481481</td>\n",
              "      <td>0.548387</td>\n",
              "      <td>0.645161</td>\n",
              "      <td>0.888889</td>\n",
              "    </tr>\n",
              "    <tr>\n",
              "      <th>4</th>\n",
              "      <td>558.0</td>\n",
              "      <td>0.430107</td>\n",
              "      <td>0.081567</td>\n",
              "      <td>0.250000</td>\n",
              "      <td>0.377778</td>\n",
              "      <td>0.437500</td>\n",
              "      <td>0.481481</td>\n",
              "      <td>0.600000</td>\n",
              "    </tr>\n",
              "  </tbody>\n",
              "</table>\n",
              "</div>\n",
              "      <button class=\"colab-df-convert\" onclick=\"convertToInteractive('df-9b7c8bca-86d5-4eeb-91d7-7998d833ae47')\"\n",
              "              title=\"Convert this dataframe to an interactive table.\"\n",
              "              style=\"display:none;\">\n",
              "        \n",
              "  <svg xmlns=\"http://www.w3.org/2000/svg\" height=\"24px\"viewBox=\"0 0 24 24\"\n",
              "       width=\"24px\">\n",
              "    <path d=\"M0 0h24v24H0V0z\" fill=\"none\"/>\n",
              "    <path d=\"M18.56 5.44l.94 2.06.94-2.06 2.06-.94-2.06-.94-.94-2.06-.94 2.06-2.06.94zm-11 1L8.5 8.5l.94-2.06 2.06-.94-2.06-.94L8.5 2.5l-.94 2.06-2.06.94zm10 10l.94 2.06.94-2.06 2.06-.94-2.06-.94-.94-2.06-.94 2.06-2.06.94z\"/><path d=\"M17.41 7.96l-1.37-1.37c-.4-.4-.92-.59-1.43-.59-.52 0-1.04.2-1.43.59L10.3 9.45l-7.72 7.72c-.78.78-.78 2.05 0 2.83L4 21.41c.39.39.9.59 1.41.59.51 0 1.02-.2 1.41-.59l7.78-7.78 2.81-2.81c.8-.78.8-2.07 0-2.86zM5.41 20L4 18.59l7.72-7.72 1.47 1.35L5.41 20z\"/>\n",
              "  </svg>\n",
              "      </button>\n",
              "      \n",
              "  <style>\n",
              "    .colab-df-container {\n",
              "      display:flex;\n",
              "      flex-wrap:wrap;\n",
              "      gap: 12px;\n",
              "    }\n",
              "\n",
              "    .colab-df-convert {\n",
              "      background-color: #E8F0FE;\n",
              "      border: none;\n",
              "      border-radius: 50%;\n",
              "      cursor: pointer;\n",
              "      display: none;\n",
              "      fill: #1967D2;\n",
              "      height: 32px;\n",
              "      padding: 0 0 0 0;\n",
              "      width: 32px;\n",
              "    }\n",
              "\n",
              "    .colab-df-convert:hover {\n",
              "      background-color: #E2EBFA;\n",
              "      box-shadow: 0px 1px 2px rgba(60, 64, 67, 0.3), 0px 1px 3px 1px rgba(60, 64, 67, 0.15);\n",
              "      fill: #174EA6;\n",
              "    }\n",
              "\n",
              "    [theme=dark] .colab-df-convert {\n",
              "      background-color: #3B4455;\n",
              "      fill: #D2E3FC;\n",
              "    }\n",
              "\n",
              "    [theme=dark] .colab-df-convert:hover {\n",
              "      background-color: #434B5C;\n",
              "      box-shadow: 0px 1px 3px 1px rgba(0, 0, 0, 0.15);\n",
              "      filter: drop-shadow(0px 1px 2px rgba(0, 0, 0, 0.3));\n",
              "      fill: #FFFFFF;\n",
              "    }\n",
              "  </style>\n",
              "\n",
              "      <script>\n",
              "        const buttonEl =\n",
              "          document.querySelector('#df-9b7c8bca-86d5-4eeb-91d7-7998d833ae47 button.colab-df-convert');\n",
              "        buttonEl.style.display =\n",
              "          google.colab.kernel.accessAllowed ? 'block' : 'none';\n",
              "\n",
              "        async function convertToInteractive(key) {\n",
              "          const element = document.querySelector('#df-9b7c8bca-86d5-4eeb-91d7-7998d833ae47');\n",
              "          const dataTable =\n",
              "            await google.colab.kernel.invokeFunction('convertToInteractive',\n",
              "                                                     [key], {});\n",
              "          if (!dataTable) return;\n",
              "\n",
              "          const docLinkHtml = 'Like what you see? Visit the ' +\n",
              "            '<a target=\"_blank\" href=https://colab.research.google.com/notebooks/data_table.ipynb>data table notebook</a>'\n",
              "            + ' to learn more about interactive tables.';\n",
              "          element.innerHTML = '';\n",
              "          dataTable['output_type'] = 'display_data';\n",
              "          await google.colab.output.renderOutput(dataTable, element);\n",
              "          const docLink = document.createElement('div');\n",
              "          docLink.innerHTML = docLinkHtml;\n",
              "          element.appendChild(docLink);\n",
              "        }\n",
              "      </script>\n",
              "    </div>\n",
              "  </div>\n",
              "  "
            ]
          },
          "metadata": {},
          "execution_count": 33
        }
      ]
    },
    {
      "cell_type": "code",
      "source": [
        "# number of sentences in text\n",
        "n_sent_dickens = df_dickens.groupby(['text_number', 'screen_number'])['sentence_number'].nunique().sum()\n",
        "n_sent_flytrap = df_flytrap.groupby(['text_number', 'screen_number'])['sentence_number'].nunique().sum()\n",
        "n_sent_genome = df_genome.groupby(['text_number', 'screen_number'])['sentence_number'].nunique().sum()\n",
        "n_sent_northpole = df_northpole.groupby(['text_number', 'screen_number'])['sentence_number'].nunique().sum()\n",
        "print(\"Dickens: \", n_sent_dickens)\n",
        "print(\"Flytrap: \", n_sent_flytrap)\n",
        "print(\"Genome: \", n_sent_genome)\n",
        "print(\"Northpole: \", n_sent_northpole)"
      ],
      "metadata": {
        "colab": {
          "base_uri": "https://localhost:8080/"
        },
        "id": "RWrDldPOxD4o",
        "outputId": "27585fe0-0824-482d-86e3-f9e9b9aa7490"
      },
      "execution_count": null,
      "outputs": [
        {
          "output_type": "stream",
          "name": "stdout",
          "text": [
            "Dickens:  33\n",
            "Flytrap:  31\n",
            "Genome:  37\n",
            "Northpole:  33\n"
          ]
        }
      ]
    },
    {
      "cell_type": "code",
      "source": [
        "# Number of sentences that have lexical overlap\n",
        "lex_overlap_dickens = df_dickens.groupby(['text_number', 'screen_number'])['lex_overlap'].nunique().sum()\n",
        "lex_overlap_flytrap = df_flytrap.groupby(['text_number', 'screen_number'])['lex_overlap'].nunique().sum()\n",
        "lex_overlap_genome = df_genome.groupby(['text_number', 'screen_number'])['lex_overlap'].nunique().sum()\n",
        "lex_overlap_northpole = df_northpole.groupby(['text_number', 'screen_number'])['lex_overlap'].nunique().sum()\n",
        "print(\"No sent with lex overlap: \")\n",
        "print(\"Dickens: \", lex_overlap_dickens)\n",
        "print(\"Flytrap: \", lex_overlap_flytrap)\n",
        "print(\"Genome: \", lex_overlap_genome)\n",
        "print(\"Northpole: \", lex_overlap_northpole)"
      ],
      "metadata": {
        "colab": {
          "base_uri": "https://localhost:8080/"
        },
        "id": "D3q5YI8_vxC9",
        "outputId": "0e5dfcf5-f6e3-4af9-de96-0652c923ceaf"
      },
      "execution_count": null,
      "outputs": [
        {
          "output_type": "stream",
          "name": "stdout",
          "text": [
            "No sent with lex overlap: \n",
            "Dickens:  10\n",
            "Flytrap:  12\n",
            "Genome:  11\n",
            "Northpole:  10\n"
          ]
        }
      ]
    },
    {
      "cell_type": "code",
      "source": [
        "# ratio\n",
        "print(\"Dickens: % of sent with lexical overlap; \", lex_overlap_dickens/n_sent_dickens)\n",
        "print(\"Flytrap: % of sent with lexical overlap; \", lex_overlap_flytrap/n_sent_flytrap)\n",
        "print(\"Genome: % of sent with lexical overlap; \", lex_overlap_genome/n_sent_genome)\n",
        "print(\"Northpole: % of sent with lexical overlap; \", lex_overlap_northpole/n_sent_northpole)"
      ],
      "metadata": {
        "colab": {
          "base_uri": "https://localhost:8080/"
        },
        "id": "9hfi5GkMvNk9",
        "outputId": "afb74005-2dad-4ebb-aa27-97b42aa390b0"
      },
      "execution_count": null,
      "outputs": [
        {
          "output_type": "stream",
          "name": "stdout",
          "text": [
            "Dickens: % of sent with lexical overlap;  0.30303030303030304\n",
            "Flytrap: % of sent with lexical overlap;  0.3870967741935484\n",
            "Genome: % of sent with lexical overlap;  0.2972972972972973\n",
            "Northpole: % of sent with lexical overlap;  0.30303030303030304\n"
          ]
        }
      ]
    },
    {
      "cell_type": "markdown",
      "source": [
        "##TTR: Token-type-ratio"
      ],
      "metadata": {
        "id": "kiILHssdyv3Y"
      }
    },
    {
      "cell_type": "code",
      "source": [
        "# group by text_id and select the desired columns\n",
        "df.groupby('text_number')[['t_lemma_TTR', 't_content_w_TTR', 't_function_w_TTR',\n",
        "                                 't_nouns_TTR', 't_verbs_TTR', 't_adj_TTR', 't_adv_TTR']].first()"
      ],
      "metadata": {
        "colab": {
          "base_uri": "https://localhost:8080/",
          "height": 201
        },
        "id": "kkGDhWsqzM6b",
        "outputId": "e09190e7-223c-499a-b962-da9369e53786"
      },
      "execution_count": null,
      "outputs": [
        {
          "output_type": "execute_result",
          "data": {
            "text/plain": [
              "             t_lemma_TTR  t_content_w_TTR  t_function_w_TTR  t_nouns_TTR  \\\n",
              "text_number                                                                \n",
              "1                 0.4650           0.7018            0.1786       0.7353   \n",
              "2                 0.4498           0.5496            0.1779       0.4444   \n",
              "3                 0.5397           0.6934            0.1706       0.6802   \n",
              "4                 0.5333           0.8285            0.2054       0.8542   \n",
              "\n",
              "             t_verbs_TTR  t_adj_TTR  t_adv_TTR  \n",
              "text_number                                     \n",
              "1                 0.6630     0.8000     0.7941  \n",
              "2                 0.6429     0.6667     0.8519  \n",
              "3                 0.7500     0.7037     0.7917  \n",
              "4                 0.7321     0.8667     0.9000  "
            ],
            "text/html": [
              "\n",
              "  <div id=\"df-fc037773-a69a-4d9d-ac1a-6d6829d0ff01\">\n",
              "    <div class=\"colab-df-container\">\n",
              "      <div>\n",
              "<style scoped>\n",
              "    .dataframe tbody tr th:only-of-type {\n",
              "        vertical-align: middle;\n",
              "    }\n",
              "\n",
              "    .dataframe tbody tr th {\n",
              "        vertical-align: top;\n",
              "    }\n",
              "\n",
              "    .dataframe thead th {\n",
              "        text-align: right;\n",
              "    }\n",
              "</style>\n",
              "<table border=\"1\" class=\"dataframe\">\n",
              "  <thead>\n",
              "    <tr style=\"text-align: right;\">\n",
              "      <th></th>\n",
              "      <th>t_lemma_TTR</th>\n",
              "      <th>t_content_w_TTR</th>\n",
              "      <th>t_function_w_TTR</th>\n",
              "      <th>t_nouns_TTR</th>\n",
              "      <th>t_verbs_TTR</th>\n",
              "      <th>t_adj_TTR</th>\n",
              "      <th>t_adv_TTR</th>\n",
              "    </tr>\n",
              "    <tr>\n",
              "      <th>text_number</th>\n",
              "      <th></th>\n",
              "      <th></th>\n",
              "      <th></th>\n",
              "      <th></th>\n",
              "      <th></th>\n",
              "      <th></th>\n",
              "      <th></th>\n",
              "    </tr>\n",
              "  </thead>\n",
              "  <tbody>\n",
              "    <tr>\n",
              "      <th>1</th>\n",
              "      <td>0.4650</td>\n",
              "      <td>0.7018</td>\n",
              "      <td>0.1786</td>\n",
              "      <td>0.7353</td>\n",
              "      <td>0.6630</td>\n",
              "      <td>0.8000</td>\n",
              "      <td>0.7941</td>\n",
              "    </tr>\n",
              "    <tr>\n",
              "      <th>2</th>\n",
              "      <td>0.4498</td>\n",
              "      <td>0.5496</td>\n",
              "      <td>0.1779</td>\n",
              "      <td>0.4444</td>\n",
              "      <td>0.6429</td>\n",
              "      <td>0.6667</td>\n",
              "      <td>0.8519</td>\n",
              "    </tr>\n",
              "    <tr>\n",
              "      <th>3</th>\n",
              "      <td>0.5397</td>\n",
              "      <td>0.6934</td>\n",
              "      <td>0.1706</td>\n",
              "      <td>0.6802</td>\n",
              "      <td>0.7500</td>\n",
              "      <td>0.7037</td>\n",
              "      <td>0.7917</td>\n",
              "    </tr>\n",
              "    <tr>\n",
              "      <th>4</th>\n",
              "      <td>0.5333</td>\n",
              "      <td>0.8285</td>\n",
              "      <td>0.2054</td>\n",
              "      <td>0.8542</td>\n",
              "      <td>0.7321</td>\n",
              "      <td>0.8667</td>\n",
              "      <td>0.9000</td>\n",
              "    </tr>\n",
              "  </tbody>\n",
              "</table>\n",
              "</div>\n",
              "      <button class=\"colab-df-convert\" onclick=\"convertToInteractive('df-fc037773-a69a-4d9d-ac1a-6d6829d0ff01')\"\n",
              "              title=\"Convert this dataframe to an interactive table.\"\n",
              "              style=\"display:none;\">\n",
              "        \n",
              "  <svg xmlns=\"http://www.w3.org/2000/svg\" height=\"24px\"viewBox=\"0 0 24 24\"\n",
              "       width=\"24px\">\n",
              "    <path d=\"M0 0h24v24H0V0z\" fill=\"none\"/>\n",
              "    <path d=\"M18.56 5.44l.94 2.06.94-2.06 2.06-.94-2.06-.94-.94-2.06-.94 2.06-2.06.94zm-11 1L8.5 8.5l.94-2.06 2.06-.94-2.06-.94L8.5 2.5l-.94 2.06-2.06.94zm10 10l.94 2.06.94-2.06 2.06-.94-2.06-.94-.94-2.06-.94 2.06-2.06.94z\"/><path d=\"M17.41 7.96l-1.37-1.37c-.4-.4-.92-.59-1.43-.59-.52 0-1.04.2-1.43.59L10.3 9.45l-7.72 7.72c-.78.78-.78 2.05 0 2.83L4 21.41c.39.39.9.59 1.41.59.51 0 1.02-.2 1.41-.59l7.78-7.78 2.81-2.81c.8-.78.8-2.07 0-2.86zM5.41 20L4 18.59l7.72-7.72 1.47 1.35L5.41 20z\"/>\n",
              "  </svg>\n",
              "      </button>\n",
              "      \n",
              "  <style>\n",
              "    .colab-df-container {\n",
              "      display:flex;\n",
              "      flex-wrap:wrap;\n",
              "      gap: 12px;\n",
              "    }\n",
              "\n",
              "    .colab-df-convert {\n",
              "      background-color: #E8F0FE;\n",
              "      border: none;\n",
              "      border-radius: 50%;\n",
              "      cursor: pointer;\n",
              "      display: none;\n",
              "      fill: #1967D2;\n",
              "      height: 32px;\n",
              "      padding: 0 0 0 0;\n",
              "      width: 32px;\n",
              "    }\n",
              "\n",
              "    .colab-df-convert:hover {\n",
              "      background-color: #E2EBFA;\n",
              "      box-shadow: 0px 1px 2px rgba(60, 64, 67, 0.3), 0px 1px 3px 1px rgba(60, 64, 67, 0.15);\n",
              "      fill: #174EA6;\n",
              "    }\n",
              "\n",
              "    [theme=dark] .colab-df-convert {\n",
              "      background-color: #3B4455;\n",
              "      fill: #D2E3FC;\n",
              "    }\n",
              "\n",
              "    [theme=dark] .colab-df-convert:hover {\n",
              "      background-color: #434B5C;\n",
              "      box-shadow: 0px 1px 3px 1px rgba(0, 0, 0, 0.15);\n",
              "      filter: drop-shadow(0px 1px 2px rgba(0, 0, 0, 0.3));\n",
              "      fill: #FFFFFF;\n",
              "    }\n",
              "  </style>\n",
              "\n",
              "      <script>\n",
              "        const buttonEl =\n",
              "          document.querySelector('#df-fc037773-a69a-4d9d-ac1a-6d6829d0ff01 button.colab-df-convert');\n",
              "        buttonEl.style.display =\n",
              "          google.colab.kernel.accessAllowed ? 'block' : 'none';\n",
              "\n",
              "        async function convertToInteractive(key) {\n",
              "          const element = document.querySelector('#df-fc037773-a69a-4d9d-ac1a-6d6829d0ff01');\n",
              "          const dataTable =\n",
              "            await google.colab.kernel.invokeFunction('convertToInteractive',\n",
              "                                                     [key], {});\n",
              "          if (!dataTable) return;\n",
              "\n",
              "          const docLinkHtml = 'Like what you see? Visit the ' +\n",
              "            '<a target=\"_blank\" href=https://colab.research.google.com/notebooks/data_table.ipynb>data table notebook</a>'\n",
              "            + ' to learn more about interactive tables.';\n",
              "          element.innerHTML = '';\n",
              "          dataTable['output_type'] = 'display_data';\n",
              "          await google.colab.output.renderOutput(dataTable, element);\n",
              "          const docLink = document.createElement('div');\n",
              "          docLink.innerHTML = docLinkHtml;\n",
              "          element.appendChild(docLink);\n",
              "        }\n",
              "      </script>\n",
              "    </div>\n",
              "  </div>\n",
              "  "
            ]
          },
          "metadata": {},
          "execution_count": 37
        }
      ]
    },
    {
      "cell_type": "markdown",
      "source": [
        "##tfidf"
      ],
      "metadata": {
        "id": "J7ftAN-4X70R"
      }
    },
    {
      "cell_type": "code",
      "source": [
        "df.groupby('text_number')[['tf', 'idf', 'tf_idf']].first()"
      ],
      "metadata": {
        "colab": {
          "base_uri": "https://localhost:8080/",
          "height": 201
        },
        "id": "5U0vZ9jYX-wB",
        "outputId": "f851c3c4-efe4-4f92-9ef6-35fd4ba8a8e0"
      },
      "execution_count": null,
      "outputs": [
        {
          "output_type": "execute_result",
          "data": {
            "text/plain": [
              "                 tf     idf  tf_idf\n",
              "text_number                        \n",
              "1            0.0909  2.8034  0.2548\n",
              "2            0.0588  0.1759  0.0103\n",
              "3            0.0417  2.5123  0.1048\n",
              "4            0.1250  1.7047  0.2131"
            ],
            "text/html": [
              "\n",
              "  <div id=\"df-9e458038-3a7f-4f07-b837-702f7cc0fa6c\">\n",
              "    <div class=\"colab-df-container\">\n",
              "      <div>\n",
              "<style scoped>\n",
              "    .dataframe tbody tr th:only-of-type {\n",
              "        vertical-align: middle;\n",
              "    }\n",
              "\n",
              "    .dataframe tbody tr th {\n",
              "        vertical-align: top;\n",
              "    }\n",
              "\n",
              "    .dataframe thead th {\n",
              "        text-align: right;\n",
              "    }\n",
              "</style>\n",
              "<table border=\"1\" class=\"dataframe\">\n",
              "  <thead>\n",
              "    <tr style=\"text-align: right;\">\n",
              "      <th></th>\n",
              "      <th>tf</th>\n",
              "      <th>idf</th>\n",
              "      <th>tf_idf</th>\n",
              "    </tr>\n",
              "    <tr>\n",
              "      <th>text_number</th>\n",
              "      <th></th>\n",
              "      <th></th>\n",
              "      <th></th>\n",
              "    </tr>\n",
              "  </thead>\n",
              "  <tbody>\n",
              "    <tr>\n",
              "      <th>1</th>\n",
              "      <td>0.0909</td>\n",
              "      <td>2.8034</td>\n",
              "      <td>0.2548</td>\n",
              "    </tr>\n",
              "    <tr>\n",
              "      <th>2</th>\n",
              "      <td>0.0588</td>\n",
              "      <td>0.1759</td>\n",
              "      <td>0.0103</td>\n",
              "    </tr>\n",
              "    <tr>\n",
              "      <th>3</th>\n",
              "      <td>0.0417</td>\n",
              "      <td>2.5123</td>\n",
              "      <td>0.1048</td>\n",
              "    </tr>\n",
              "    <tr>\n",
              "      <th>4</th>\n",
              "      <td>0.1250</td>\n",
              "      <td>1.7047</td>\n",
              "      <td>0.2131</td>\n",
              "    </tr>\n",
              "  </tbody>\n",
              "</table>\n",
              "</div>\n",
              "      <button class=\"colab-df-convert\" onclick=\"convertToInteractive('df-9e458038-3a7f-4f07-b837-702f7cc0fa6c')\"\n",
              "              title=\"Convert this dataframe to an interactive table.\"\n",
              "              style=\"display:none;\">\n",
              "        \n",
              "  <svg xmlns=\"http://www.w3.org/2000/svg\" height=\"24px\"viewBox=\"0 0 24 24\"\n",
              "       width=\"24px\">\n",
              "    <path d=\"M0 0h24v24H0V0z\" fill=\"none\"/>\n",
              "    <path d=\"M18.56 5.44l.94 2.06.94-2.06 2.06-.94-2.06-.94-.94-2.06-.94 2.06-2.06.94zm-11 1L8.5 8.5l.94-2.06 2.06-.94-2.06-.94L8.5 2.5l-.94 2.06-2.06.94zm10 10l.94 2.06.94-2.06 2.06-.94-2.06-.94-.94-2.06-.94 2.06-2.06.94z\"/><path d=\"M17.41 7.96l-1.37-1.37c-.4-.4-.92-.59-1.43-.59-.52 0-1.04.2-1.43.59L10.3 9.45l-7.72 7.72c-.78.78-.78 2.05 0 2.83L4 21.41c.39.39.9.59 1.41.59.51 0 1.02-.2 1.41-.59l7.78-7.78 2.81-2.81c.8-.78.8-2.07 0-2.86zM5.41 20L4 18.59l7.72-7.72 1.47 1.35L5.41 20z\"/>\n",
              "  </svg>\n",
              "      </button>\n",
              "      \n",
              "  <style>\n",
              "    .colab-df-container {\n",
              "      display:flex;\n",
              "      flex-wrap:wrap;\n",
              "      gap: 12px;\n",
              "    }\n",
              "\n",
              "    .colab-df-convert {\n",
              "      background-color: #E8F0FE;\n",
              "      border: none;\n",
              "      border-radius: 50%;\n",
              "      cursor: pointer;\n",
              "      display: none;\n",
              "      fill: #1967D2;\n",
              "      height: 32px;\n",
              "      padding: 0 0 0 0;\n",
              "      width: 32px;\n",
              "    }\n",
              "\n",
              "    .colab-df-convert:hover {\n",
              "      background-color: #E2EBFA;\n",
              "      box-shadow: 0px 1px 2px rgba(60, 64, 67, 0.3), 0px 1px 3px 1px rgba(60, 64, 67, 0.15);\n",
              "      fill: #174EA6;\n",
              "    }\n",
              "\n",
              "    [theme=dark] .colab-df-convert {\n",
              "      background-color: #3B4455;\n",
              "      fill: #D2E3FC;\n",
              "    }\n",
              "\n",
              "    [theme=dark] .colab-df-convert:hover {\n",
              "      background-color: #434B5C;\n",
              "      box-shadow: 0px 1px 3px 1px rgba(0, 0, 0, 0.15);\n",
              "      filter: drop-shadow(0px 1px 2px rgba(0, 0, 0, 0.3));\n",
              "      fill: #FFFFFF;\n",
              "    }\n",
              "  </style>\n",
              "\n",
              "      <script>\n",
              "        const buttonEl =\n",
              "          document.querySelector('#df-9e458038-3a7f-4f07-b837-702f7cc0fa6c button.colab-df-convert');\n",
              "        buttonEl.style.display =\n",
              "          google.colab.kernel.accessAllowed ? 'block' : 'none';\n",
              "\n",
              "        async function convertToInteractive(key) {\n",
              "          const element = document.querySelector('#df-9e458038-3a7f-4f07-b837-702f7cc0fa6c');\n",
              "          const dataTable =\n",
              "            await google.colab.kernel.invokeFunction('convertToInteractive',\n",
              "                                                     [key], {});\n",
              "          if (!dataTable) return;\n",
              "\n",
              "          const docLinkHtml = 'Like what you see? Visit the ' +\n",
              "            '<a target=\"_blank\" href=https://colab.research.google.com/notebooks/data_table.ipynb>data table notebook</a>'\n",
              "            + ' to learn more about interactive tables.';\n",
              "          element.innerHTML = '';\n",
              "          dataTable['output_type'] = 'display_data';\n",
              "          await google.colab.output.renderOutput(dataTable, element);\n",
              "          const docLink = document.createElement('div');\n",
              "          docLink.innerHTML = docLinkHtml;\n",
              "          element.appendChild(docLink);\n",
              "        }\n",
              "      </script>\n",
              "    </div>\n",
              "  </div>\n",
              "  "
            ]
          },
          "metadata": {},
          "execution_count": 38
        }
      ]
    },
    {
      "cell_type": "markdown",
      "source": [
        "##active/passive"
      ],
      "metadata": {
        "id": "IqEd9oGpYTRl"
      }
    },
    {
      "cell_type": "code",
      "source": [
        "def get_voice_scores(df, n_sent):\n",
        "  # count the number of unique sentence_number values per text, screen, and voice\n",
        "  counts = df.groupby(['text_number', 'screen_number', 'voice'])['sentence_number'].nunique()\n",
        "\n",
        "  # group by text and voice, and sum the counts for each voice\n",
        "  summary_counts = counts.groupby(['text_number', 'voice']).sum()\n",
        "\n",
        "  # extract the counts for active and passive voice\n",
        "  active_count = int(summary_counts.loc[(slice(None), 'active')])\n",
        "  passive_count = int(summary_counts.loc[(slice(None), 'passive')])\n",
        "  ratio = round(passive_count/n_sent, 4)\n",
        "\n",
        "  return active_count, passive_count, ratio"
      ],
      "metadata": {
        "id": "RloN16ka2cdz"
      },
      "execution_count": null,
      "outputs": []
    },
    {
      "cell_type": "code",
      "source": [
        "# active and passive voice\n",
        "print(\"Dickens: \")\n",
        "print(\"Active voice sentences: \", get_voice_scores(df_dickens, n_sent_dickens)[0], \"\\nPassive voice sentences: \", get_voice_scores(df_dickens, n_sent_dickens)[1], \"\\nRatio: \", get_voice_scores(df_dickens, n_sent_dickens)[2])\n",
        "\n",
        "print(\"\\nFlytrap: \")\n",
        "print(\"Active voice sentences: \", get_voice_scores(df_flytrap, n_sent_flytrap)[0], \"\\nPassive voice sentences: \", get_voice_scores(df_flytrap, n_sent_flytrap)[1], \"\\nRatio: \", get_voice_scores(df_flytrap, n_sent_flytrap)[2])\n",
        "\n",
        "print(\"\\nGenome: \")\n",
        "print(\"Active voice sentences: \", get_voice_scores(df_genome, n_sent_genome)[0], \"\\nPassive voice sentences: \", get_voice_scores(df_genome, n_sent_genome)[1], \"\\nRatio: \", get_voice_scores(df_genome, n_sent_genome)[2])\n",
        "\n",
        "print(\"\\nNorthpole: \")\n",
        "print(\"Active voice sentences: \", get_voice_scores(df_northpole, n_sent_northpole)[0], \"\\nPassive voice sentences: \", get_voice_scores(df_northpole, n_sent_northpole)[1], \"\\nRatio: \", get_voice_scores(df_northpole, n_sent_northpole)[2])\n"
      ],
      "metadata": {
        "colab": {
          "base_uri": "https://localhost:8080/"
        },
        "id": "tKrRx2Q82p89",
        "outputId": "1c97b31d-120d-475f-88e1-2e09e763eec0"
      },
      "execution_count": null,
      "outputs": [
        {
          "output_type": "stream",
          "name": "stdout",
          "text": [
            "Dickens: \n",
            "Active voice sentences:  29 \n",
            "Passive voice sentences:  4 \n",
            "Ratio:  0.1212\n",
            "\n",
            "Flytrap: \n",
            "Active voice sentences:  25 \n",
            "Passive voice sentences:  6 \n",
            "Ratio:  0.1935\n",
            "\n",
            "Genome: \n",
            "Active voice sentences:  29 \n",
            "Passive voice sentences:  8 \n",
            "Ratio:  0.2162\n",
            "\n",
            "Northpole: \n",
            "Active voice sentences:  30 \n",
            "Passive voice sentences:  3 \n",
            "Ratio:  0.0909\n"
          ]
        }
      ]
    },
    {
      "cell_type": "markdown",
      "source": [
        "##sentence cut off at the end of the screen?"
      ],
      "metadata": {
        "id": "RB6M18NYcjpG"
      }
    },
    {
      "cell_type": "code",
      "source": [
        "print(\"Dickens: \")\n",
        "print(\"Number of screens: \", len(df_dickens['screen_number'].unique()))\n",
        "print(\"Number of screen in which the last sentence is cut off: \", len(df_dickens.loc[df_dickens['sent_cut'] == 1, 'screen_number'].unique()))\n",
        "print(\"Flytrap: \")\n",
        "print(\"Number of screens: \", len(df_flytrap['screen_number'].unique()))\n",
        "print(\"Number of screen in which the last sentence is cut off: \", len(df_flytrap.loc[df_flytrap['sent_cut'] == 1, 'screen_number'].unique()))\n",
        "print(\"Genome: \")\n",
        "print(\"Number of screens: \", len(df_genome['screen_number'].unique()))\n",
        "print(\"Number of screen in which the last sentence is cut off: \", len(df_genome.loc[df_genome['sent_cut'] == 1, 'screen_number'].unique()))\n",
        "print(\"Northpole: \")\n",
        "print(\"Number of screens: \", len(df_northpole['screen_number'].unique()))\n",
        "print(\"Number of screen in which the last sentence is cut off: \", len(df_northpole.loc[df_northpole['sent_cut'] == 1, 'screen_number'].unique()))"
      ],
      "metadata": {
        "colab": {
          "base_uri": "https://localhost:8080/"
        },
        "id": "W1PDUGi6cmgn",
        "outputId": "b083802a-4b32-4b58-cfb4-a0381fd82d05"
      },
      "execution_count": null,
      "outputs": [
        {
          "output_type": "stream",
          "name": "stdout",
          "text": [
            "Dickens: \n",
            "Number of screens:  5\n",
            "Number of screen in which the last sentence is cut off:  3\n",
            "Flytrap: \n",
            "Number of screens:  6\n",
            "Number of screen in which the last sentence is cut off:  4\n",
            "Genome: \n",
            "Number of screens:  6\n",
            "Number of screen in which the last sentence is cut off:  5\n",
            "Northpole: \n",
            "Number of screens:  5\n",
            "Number of screen in which the last sentence is cut off:  3\n"
          ]
        }
      ]
    },
    {
      "cell_type": "markdown",
      "source": [
        "##Genre"
      ],
      "metadata": {
        "id": "7JCZ8DZodwb-"
      }
    },
    {
      "cell_type": "code",
      "source": [
        "df.groupby('text_number')[['t_genre']].first()"
      ],
      "metadata": {
        "colab": {
          "base_uri": "https://localhost:8080/",
          "height": 201
        },
        "id": "Fil6pBjHdxda",
        "outputId": "ec2b5200-5b16-4fab-e7c0-c5f0a0298caa"
      },
      "execution_count": null,
      "outputs": [
        {
          "output_type": "execute_result",
          "data": {
            "text/plain": [
              "                t_genre\n",
              "text_number            \n",
              "1               fiction\n",
              "2            scientific\n",
              "3            scientific\n",
              "4               fiction"
            ],
            "text/html": [
              "\n",
              "  <div id=\"df-5c4092d8-2292-466f-9809-33378fc30b79\">\n",
              "    <div class=\"colab-df-container\">\n",
              "      <div>\n",
              "<style scoped>\n",
              "    .dataframe tbody tr th:only-of-type {\n",
              "        vertical-align: middle;\n",
              "    }\n",
              "\n",
              "    .dataframe tbody tr th {\n",
              "        vertical-align: top;\n",
              "    }\n",
              "\n",
              "    .dataframe thead th {\n",
              "        text-align: right;\n",
              "    }\n",
              "</style>\n",
              "<table border=\"1\" class=\"dataframe\">\n",
              "  <thead>\n",
              "    <tr style=\"text-align: right;\">\n",
              "      <th></th>\n",
              "      <th>t_genre</th>\n",
              "    </tr>\n",
              "    <tr>\n",
              "      <th>text_number</th>\n",
              "      <th></th>\n",
              "    </tr>\n",
              "  </thead>\n",
              "  <tbody>\n",
              "    <tr>\n",
              "      <th>1</th>\n",
              "      <td>fiction</td>\n",
              "    </tr>\n",
              "    <tr>\n",
              "      <th>2</th>\n",
              "      <td>scientific</td>\n",
              "    </tr>\n",
              "    <tr>\n",
              "      <th>3</th>\n",
              "      <td>scientific</td>\n",
              "    </tr>\n",
              "    <tr>\n",
              "      <th>4</th>\n",
              "      <td>fiction</td>\n",
              "    </tr>\n",
              "  </tbody>\n",
              "</table>\n",
              "</div>\n",
              "      <button class=\"colab-df-convert\" onclick=\"convertToInteractive('df-5c4092d8-2292-466f-9809-33378fc30b79')\"\n",
              "              title=\"Convert this dataframe to an interactive table.\"\n",
              "              style=\"display:none;\">\n",
              "        \n",
              "  <svg xmlns=\"http://www.w3.org/2000/svg\" height=\"24px\"viewBox=\"0 0 24 24\"\n",
              "       width=\"24px\">\n",
              "    <path d=\"M0 0h24v24H0V0z\" fill=\"none\"/>\n",
              "    <path d=\"M18.56 5.44l.94 2.06.94-2.06 2.06-.94-2.06-.94-.94-2.06-.94 2.06-2.06.94zm-11 1L8.5 8.5l.94-2.06 2.06-.94-2.06-.94L8.5 2.5l-.94 2.06-2.06.94zm10 10l.94 2.06.94-2.06 2.06-.94-2.06-.94-.94-2.06-.94 2.06-2.06.94z\"/><path d=\"M17.41 7.96l-1.37-1.37c-.4-.4-.92-.59-1.43-.59-.52 0-1.04.2-1.43.59L10.3 9.45l-7.72 7.72c-.78.78-.78 2.05 0 2.83L4 21.41c.39.39.9.59 1.41.59.51 0 1.02-.2 1.41-.59l7.78-7.78 2.81-2.81c.8-.78.8-2.07 0-2.86zM5.41 20L4 18.59l7.72-7.72 1.47 1.35L5.41 20z\"/>\n",
              "  </svg>\n",
              "      </button>\n",
              "      \n",
              "  <style>\n",
              "    .colab-df-container {\n",
              "      display:flex;\n",
              "      flex-wrap:wrap;\n",
              "      gap: 12px;\n",
              "    }\n",
              "\n",
              "    .colab-df-convert {\n",
              "      background-color: #E8F0FE;\n",
              "      border: none;\n",
              "      border-radius: 50%;\n",
              "      cursor: pointer;\n",
              "      display: none;\n",
              "      fill: #1967D2;\n",
              "      height: 32px;\n",
              "      padding: 0 0 0 0;\n",
              "      width: 32px;\n",
              "    }\n",
              "\n",
              "    .colab-df-convert:hover {\n",
              "      background-color: #E2EBFA;\n",
              "      box-shadow: 0px 1px 2px rgba(60, 64, 67, 0.3), 0px 1px 3px 1px rgba(60, 64, 67, 0.15);\n",
              "      fill: #174EA6;\n",
              "    }\n",
              "\n",
              "    [theme=dark] .colab-df-convert {\n",
              "      background-color: #3B4455;\n",
              "      fill: #D2E3FC;\n",
              "    }\n",
              "\n",
              "    [theme=dark] .colab-df-convert:hover {\n",
              "      background-color: #434B5C;\n",
              "      box-shadow: 0px 1px 3px 1px rgba(0, 0, 0, 0.15);\n",
              "      filter: drop-shadow(0px 1px 2px rgba(0, 0, 0, 0.3));\n",
              "      fill: #FFFFFF;\n",
              "    }\n",
              "  </style>\n",
              "\n",
              "      <script>\n",
              "        const buttonEl =\n",
              "          document.querySelector('#df-5c4092d8-2292-466f-9809-33378fc30b79 button.colab-df-convert');\n",
              "        buttonEl.style.display =\n",
              "          google.colab.kernel.accessAllowed ? 'block' : 'none';\n",
              "\n",
              "        async function convertToInteractive(key) {\n",
              "          const element = document.querySelector('#df-5c4092d8-2292-466f-9809-33378fc30b79');\n",
              "          const dataTable =\n",
              "            await google.colab.kernel.invokeFunction('convertToInteractive',\n",
              "                                                     [key], {});\n",
              "          if (!dataTable) return;\n",
              "\n",
              "          const docLinkHtml = 'Like what you see? Visit the ' +\n",
              "            '<a target=\"_blank\" href=https://colab.research.google.com/notebooks/data_table.ipynb>data table notebook</a>'\n",
              "            + ' to learn more about interactive tables.';\n",
              "          element.innerHTML = '';\n",
              "          dataTable['output_type'] = 'display_data';\n",
              "          await google.colab.output.renderOutput(dataTable, element);\n",
              "          const docLink = document.createElement('div');\n",
              "          docLink.innerHTML = docLinkHtml;\n",
              "          element.appendChild(docLink);\n",
              "        }\n",
              "      </script>\n",
              "    </div>\n",
              "  </div>\n",
              "  "
            ]
          },
          "metadata": {},
          "execution_count": 182
        }
      ]
    }
  ]
}